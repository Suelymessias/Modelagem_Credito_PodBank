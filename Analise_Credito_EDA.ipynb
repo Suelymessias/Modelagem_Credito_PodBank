{
  "cells": [
    {
      "cell_type": "markdown",
      "metadata": {
        "id": "Eh_gpla18NDU"
      },
      "source": [
        "##Introdução ao Projeto de Modelagem de Crédito para uma Fintech\n",
        "\n",
        "Neste projeto de modelagem de crédito para uma fintech, o objetivo é desenvolver modelos preditivos que possam avaliar o risco de crédito de potenciais clientes. Esses modelos são essenciais para garantir que a fintech tome decisões de concessão de crédito de forma eficaz e segura.\n",
        "\n",
        "Antes de prosseguir com a construção dos modelos, é crucial entender o público-alvo e os dados disponíveis. Compreender o público-alvo ajudará a personalizar os modelos de acordo com as características e comportamentos dos clientes. Além disso, os dados disponíveis desempenham um papel fundamental na qualidade e na precisão dos modelos desenvolvidos.\n",
        "\n",
        "Para este projeto, optei por trabalhar no ambiente do Google Colab e utilizar SQL através do Spark para manipulação e análise de dados em larga escala. O Spark é uma escolha robusta para lidar com conjuntos de dados distribuídos e oferece uma variedade de ferramentas para processamento de big data."
      ]
    },
    {
      "cell_type": "markdown",
      "source": [
        "##Objetivo da Análise Exploratória de Dados (EDA):\n",
        "\n",
        "O objetivo desta Análise Exploratória de Dados (EDA) é compreender melhor o perfil do público da PoD Bank, explorando as características e padrões presentes na base de dados. Através da EDA, buscamos identificar insights relevantes que possam informar o processo de modelagem de crédito, contribuindo para uma tomada de decisão mais fundamentada e eficaz. Ao analisar os dados de forma abrangente, buscamos entender as relações entre as variáveis e identificar possíveis tendências que possam impactar o desempenho dos modelos estatísticos."
      ],
      "metadata": {
        "id": "M5Eo-eZgiPrG"
      }
    },
    {
      "cell_type": "markdown",
      "source": [
        "## Apresentação do Case\n",
        "A PoD Bank, uma startup no setor financeiro, estabeleceu uma sólida presença de mercado ao atender a população com escassa informação de crédito. Oferecendo crédito imobiliário, veicular e empréstimo pessoal, a empresa identificou a necessidade de aprimorar suas decisões de crédito, superando a dependência exclusiva do Business Intelligence (BI).\n",
        "\n",
        "Para fortalecer sua abordagem, a PoD Bank optou por estabelecer uma área dedicada ao Planejamento e Modelagem de Crédito, focada na implementação de modelos estatísticos. Essa estratégia visa melhorar a análise de riscos e garantir uma tomada de decisão mais fundamentada. Reflete o compromisso contínuo da empresa em oferecer soluções de crédito inovadoras e sustentáveis.\n"
      ],
      "metadata": {
        "id": "EJlWryTNjxHe"
      }
    },
    {
      "cell_type": "markdown",
      "metadata": {
        "id": "8DxqGrf5-N9J"
      },
      "source": [
        "## Configuração do Ambiente\n",
        "Configuração do ambiente e ferramentas essenciais que foram instaladas para o início do projeto.\n",
        "\n",
        "Neste projeto, utilizei o Apache Spark, uma poderosa ferramenta para processamento distribuído de dados, especialmente em grande escala.\n",
        "\n",
        "- Instalação do Pacote PySpark:\n",
        "Primeiramente, instalei o pacote PySpark, que é uma biblioteca Python para interagir com o Spark e realizar operações de processamento de dados distribuídas.\n",
        "\n",
        "- Criação da Sessão Spark:\n",
        "Em seguida, criei uma sessão Spark usando a classe SparkSession. Essa sessão é essencial para interagir com o ambiente Spark e executar operações de processamento de dados distribuídas.\n",
        "\n",
        "- Pandas e NumPy para Manipulação de Dados:\n",
        "Importei as bibliotecas Pandas e NumPy para lidar com a manipulação e análise de dados. Essas bibliotecas são essenciais para a limpeza, transformação e análise inicial dos dados de crédito.\n",
        "\n",
        "- Visualização de Dados com Matplotlib e Seaborn:\n",
        "Também incluí as bibliotecas Matplotlib e Seaborn para visualização de dados. Essas bibliotecas oferecem recursos poderosos para criar gráficos e plots que ajudam na compreensão dos padrões e tendências nos dados de crédito.\n",
        "\n"
      ]
    },
    {
      "cell_type": "code",
      "source": [
        "import pandas as pd\n",
        "import numpy as np\n",
        "import seaborn as sns\n",
        "import matplotlib.pyplot as plt"
      ],
      "metadata": {
        "id": "S6CGNkAZJTtI"
      },
      "execution_count": 1,
      "outputs": []
    },
    {
      "cell_type": "code",
      "source": [
        "!pip install -q pyspark\n",
        "\n",
        "#Criando nossa primeira Sessão com o SparkSession\n",
        "from pyspark.sql import SparkSession\n",
        "\n",
        "spark = SparkSession \\\n",
        "    .builder \\\n",
        "    .appName(\"EDA - CREDITO\") \\\n",
        "    .config('spark.ui.port', '4050') \\\n",
        "    .getOrCreate()\n",
        "\n",
        "spark"
      ],
      "metadata": {
        "colab": {
          "base_uri": "https://localhost:8080/",
          "height": 271
        },
        "id": "oVdU4ibbAovL",
        "outputId": "f08df631-bef1-4dc0-c823-532799cf21d0"
      },
      "execution_count": 2,
      "outputs": [
        {
          "output_type": "stream",
          "name": "stdout",
          "text": [
            "\u001b[2K     \u001b[90m━━━━━━━━━━━━━━━━━━━━━━━━━━━━━━━━━━━━━━━━\u001b[0m \u001b[32m317.0/317.0 MB\u001b[0m \u001b[31m1.5 MB/s\u001b[0m eta \u001b[36m0:00:00\u001b[0m\n",
            "\u001b[?25h  Preparing metadata (setup.py) ... \u001b[?25l\u001b[?25hdone\n",
            "  Building wheel for pyspark (setup.py) ... \u001b[?25l\u001b[?25hdone\n"
          ]
        },
        {
          "output_type": "execute_result",
          "data": {
            "text/plain": [
              "<pyspark.sql.session.SparkSession at 0x7d976407a890>"
            ],
            "text/html": [
              "\n",
              "            <div>\n",
              "                <p><b>SparkSession - in-memory</b></p>\n",
              "                \n",
              "        <div>\n",
              "            <p><b>SparkContext</b></p>\n",
              "\n",
              "            <p><a href=\"http://f147d7e6568e:4050\">Spark UI</a></p>\n",
              "\n",
              "            <dl>\n",
              "              <dt>Version</dt>\n",
              "                <dd><code>v3.5.1</code></dd>\n",
              "              <dt>Master</dt>\n",
              "                <dd><code>local[*]</code></dd>\n",
              "              <dt>AppName</dt>\n",
              "                <dd><code>EDA - CREDITO</code></dd>\n",
              "            </dl>\n",
              "        </div>\n",
              "        \n",
              "            </div>\n",
              "        "
            ]
          },
          "metadata": {},
          "execution_count": 2
        }
      ]
    },
    {
      "cell_type": "markdown",
      "source": [
        "##Leitura do Dataset em Spark e Pandas."
      ],
      "metadata": {
        "id": "EIW-Zms9d_20"
      }
    },
    {
      "cell_type": "code",
      "execution_count": 5,
      "metadata": {
        "id": "IRhmWaj9HwwE"
      },
      "outputs": [],
      "source": [
        "df_application_train = spark.read.csv ('/content/drive/MyDrive/Colab Notebooks/AnaliseCredito/application_train.csv', header=True, inferSchema=True)\n",
        "df_application_train.createOrReplaceTempView(\"df_application_train\")"
      ]
    },
    {
      "cell_type": "code",
      "source": [
        "df_application_train = ('/content/drive/MyDrive/Colab Notebooks/AnaliseCredito/application_train.csv')\n",
        "df_application_train = pd.read_csv(df_application_train,sep = ',')"
      ],
      "metadata": {
        "id": "8yfLOXNROjHi"
      },
      "execution_count": 7,
      "outputs": []
    },
    {
      "cell_type": "markdown",
      "metadata": {
        "id": "m5peDdQgFY5t"
      },
      "source": [
        "## Dicionário dos Dados"
      ]
    },
    {
      "cell_type": "markdown",
      "metadata": {
        "id": "It-xQWka63xC"
      },
      "source": [
        "`SK_ID_CURR` : ID do empréstimo na nossa amostra\n",
        "\n",
        "`TARGET` : Variável alvo (1 - cliente com dificuldades de pagamento: ele/ela teve atraso de pagamento por mais de X dias em pelo menos uma das primeiras Y parcelas do empréstimo em nossa amostra, 0 - todos os outros casos)\n",
        "\n",
        "`NAME_CONTRACT_TYPE` : Identificação se o empréstimo é em dinheiro ou rotativo\n",
        "\n",
        "`CODE_GENDER` : Gênero do cliente\n",
        "\n",
        "`FLAG_OWN_CAR` : Sinalizador se o cliente possui um carro\n",
        "\n",
        "`FLAG_OWN_REALTY` : Sinalizador se o cliente possui uma casa ou apartamento\n",
        "\n",
        "`CNT_CHILDREN` : Número de filhos que o cliente tem\n",
        "\n",
        "`AMT_INCOME_TOTAL` : Renda do cliente\n",
        "\n",
        "`AMT_CREDIT` : Valor do crédito do empréstimo\n",
        "\n",
        "`AMT_ANNUITY` : Anuidade do empréstimo\n",
        "\n",
        "`AMT_GOODS_PRICE` : Para empréstimos ao consumidor, é o preço dos bens para os quais o empréstimo é concedido\n",
        "\n",
        "`NAME_TYPE_SUITE` : Quem acompanhava o cliente quando ele solicitou o empréstimo\n",
        "\n",
        "`NAME_INCOME_TYPE` : Tipo de renda dos clientes (empresário, trabalhador, licença maternidade, ...)\n",
        "\n",
        "`NAME_EDUCATION_TYPE` : Nível de educação mais alto que o cliente alcançou\n",
        "\n",
        "`NAME_FAMILY_STATUS` : Estado civil do cliente\n",
        "\n",
        "`NAME_HOUSING_TYPE`  : Qual é a situação habitacional do cliente (alugando, morando com os pais, ...)\n",
        "\n",
        "`REGION_POPULATION_RELATIVE` : População normalizada da região onde o cliente mora (número mais alto significa que o cliente mora em uma região mais populosa)\n",
        "\n",
        "`DAYS_BIRTH` : Idade do cliente em dias no momento da aplicação\n",
        "\n",
        "`DAYS_EMPLOYED` : Quantos dias antes da aplicação a pessoa começou o emprego atual\n",
        "\n",
        "`DAYS_REGISTRATION` : Quantos dias antes da aplicação o cliente mudou seu registro\n",
        "\n",
        "`DAYS_ID_PUBLISH` : Quantos dias antes da aplicação o cliente mudou o documento de identidade com o qual solicitou o empréstimo\n",
        "\n",
        "`OWN_CAR_AGE` : Idade do carro do cliente\n",
        "\n",
        "`FLAG_MOBIL` : O cliente forneceu telefone celular (1=SIM, 0=NÃO)\n",
        "\n",
        "`FLAG_EMP_PHONE` : O cliente forneceu telefone comercial (1=SIM, 0=NÃO)\n",
        "\n",
        "`FLAG_WORK_PHONE` : O cliente forneceu telefone residencial (1=SIM, 0=NÃO)\n",
        "\n",
        "`FLAG_CONT_MOBILE` : O telefone celular do cliente era acessível (1=SIM, 0=NÃO)\n",
        "\n",
        "`FLAG_PHONE` : O cliente forneceu telefone residencial (1=SIM, 0=NÃO)\n",
        "\n",
        "`FLAG_EMAIL` : O cliente forneceu e-mail (1=SIM, 0=NÃO)\n",
        "\n",
        "`OCCUPATION_TYPE` : Qual tipo de ocupação o cliente tem\n",
        "\n",
        "`CNT_FAM_MEMBERS` : Quantos membros a família do cliente tem\n",
        "\n",
        "`REGION_RATING_CLIENT` : Nossa classificação da região onde o cliente mora (1,2,3)\n",
        "\n",
        "`REGION_RATING_CLIENT_W_CITY` : Nossa classificação da região onde o cliente mora, levando em consideração a cidade (1,2,3)\n",
        "\n",
        "`WEEKDAY_APPR_PROCESS_START` : Em qual dia da semana o cliente solicitou o empréstimo\n",
        "\n",
        "`HOUR_APPR_PROCESS_START` : Aproximadamente em que hora o cliente solicitou o empréstimo\n",
        "\n",
        "`REG_REGION_NOT_LIVE_REGION` : Sinalizador se o endereço permanente do cliente não corresponde ao endereço de contato (1=diferente, 0=igual, no nível regional)\n",
        "\n",
        "`REG_REGION_NOT_WORK_REGION` : Sinalizador se o endereço permanente do cliente não corresponde ao endereço de trabalho (1=diferente, 0=igual, no nível regional)\n",
        "\n",
        "`LIVE_REGION_NOT_WORK_REGION` : Sinalizador se o endereço de contato do cliente não corresponde ao endereço de trabalho (1=diferente, 0=igual, no nível regional)\n",
        "\n",
        "`REG_CITY_NOT_LIVE_CITY` : Sinalizador se o endereço permanente do cliente não corresponde ao endereço de contato (1=diferente, 0=igual, no nível da cidade)\n",
        "\n",
        "`REG_CITY_NOT_WORK_CITY` : Sinalizador se o endereço permanente do cliente não corresponde ao endereço de trabalho (1=diferente, 0=igual, no nível da cidade)\n",
        "\n",
        "`LIVE_CITY_NOT_WORK_CITY` : Sinalizador se o endereço de contato do cliente não corresponde ao endereço de trabalho (1=diferente, 0=igual, no nível da cidade)\n",
        "\n",
        "`ORGANIZATION_TYPE` : Tipo de organização onde o cliente trabalha\n",
        "\n",
        "`EXT_SOURCE_1` : Pontuação normalizada de fonte de dados externa\n",
        "\n",
        "`EXT_SOURCE_2` : Pontuação normalizada de fonte de dados externa\n",
        "\n",
        "`EXT_SOURCE_3` : Pontuação normalizada de fonte de dados externa\n",
        "\n",
        "`APARTMENTS_AVG` : Informações normalizadas sobre o prédio onde o cliente mora, qual é o tamanho médio (_AVG), moda (_MODE), tamanho mediano (_MEDI) do apartamento, área comum, área de estar, idade do prédio, número de elevadores, número de entradas, estado do prédio, número de andares\n",
        "\n",
        "`BASEMENTAREA_AVG` : Informações normalizadas sobre o prédio onde o cliente mora, qual é o tamanho médio (_AVG), moda (_MODE), tamanho mediano (_MEDI) do apartamento, área comum, área de estar, idade do prédio, número de elevadores, número de entradas, estado do prédio, número de andares\n",
        "\n",
        "`YEARS_BEGINEXPLUATATION_AVG` : Informações normalizadas sobre o prédio onde o cliente mora, qual é o tamanho médio (_AVG), moda (_MODE), tamanho mediano (_MEDI) do apartamento, área comum, área de estar, idade do prédio, número de elevadores, número de entradas, estado do prédio, número de andares\n",
        "\n",
        "`YEARS_BUILD_AVG` : Informações normalizadas sobre o prédio onde o cliente mora, qual é o tamanho médio (_AVG), moda (_MODE), tamanho mediano (_MEDI) do apartamento, área comum, área de estar, idade do prédio, número de elevadores, número de entradas, estado do prédio, número de andares\n",
        "\n",
        "`COMMONAREA_AVG` : Informações normalizadas sobre o prédio onde o cliente mora, qual é o tamanho médio (_AVG), moda (_MODE), tamanho mediano (_MEDI) do apartamento, área comum, área de estar, idade do prédio, número de elevadores, número de entradas, estado do prédio, número de andares\n",
        "\n",
        "`ELEVATORS_AVG` : Informações normalizadas sobre o prédio onde o cliente mora, qual é o tamanho médio (_AVG), moda (_MODE), tamanho mediano (_MEDI) do apartamento, área comum, área de estar, idade do prédio, número de elevadores, número de entradas, estado do prédio, número de andares\n",
        "\n",
        "`ENTRANCES_AVG` : Informações normalizadas sobre o prédio onde o cliente mora, qual é o tamanho médio (_AVG), moda (_MODE), tamanho mediano (_MEDI) do apartamento, área comum, área de estar, idade do prédio, número de elevadores, número de entradas, estado do prédio, número de andares\n",
        "\n",
        "`FLOORSMAX_AVG` : Informações normalizadas sobre o prédio onde o cliente mora, qual é o tamanho médio (_AVG), moda (_MODE), tamanho mediano (_MEDI) do apartamento, área comum, área de estar, idade do prédio, número de elevadores, número de entradas, estado do prédio, número de andares\n",
        "\n",
        "`FLOORSMIN_AVG` : Informações normalizadas sobre o prédio onde o cliente mora, qual é o tamanho médio (_AVG), moda (_MODE), tamanho mediano (_MEDI) do apartamento, área comum, área de estar, idade do prédio, número de elevadores, número de entradas, estado do prédio, número de andares\n",
        "\n",
        "`LANDAREA_AVG` : Informações normalizadas sobre o prédio onde o cliente mora, qual é o tamanho médio (_AVG), moda (_MODE), tamanho mediano (_MEDI) do apartamento, área comum, área de estar, idade do prédio, número de elevadores, número de entradas, estado do prédio, número de andares\n",
        "\n",
        "`LIVINGAPARTMENTS_AVG` : Informações normalizadas sobre o prédio onde o cliente mora, qual é o tamanho médio (_AVG), moda (_MODE), tamanho mediano (_MEDI) do apartamento, área comum, área de estar, idade do prédio, número de elevadores, número de entradas, estado do prédio, número de andares\n",
        "\n",
        "`LIVINGAREA_AVG` : Informações normalizadas sobre o prédio onde o cliente mora, qual é o tamanho médio (_AVG), moda (_MODE), tamanho mediano (_MEDI) do apartamento, área comum, área de estar, idade do prédio, número de elevadores, número de entradas, estado do prédio, número de andares\n",
        "\n",
        "`NONLIVINGAPARTMENTS_AVG` : Informações normalizadas sobre o prédio onde o cliente mora, qual é o tamanho médio (_AVG), moda (_MODE), tamanho mediano (_MEDI) do apartamento, área comum, área de estar, idade do prédio, número de elevadores, número de entradas, estado do prédio, número de andares\n",
        "\n",
        "`NONLIVINGAREA_AVG` : Informações normalizadas sobre o prédio onde o cliente mora, qual é o tamanho médio (_AVG), moda (_MODE), tamanho mediano (_MEDI) do apartamento, área comum, área de estar, idade do prédio, número de elevadores, número de entradas, estado do prédio, número de andares\n",
        "\n",
        "`APARTMENTS_MODE` : Informações normalizadas sobre o prédio onde o cliente mora, qual é o tamanho médio (_AVG), moda (_MODE), tamanho mediano (_MEDI) do apartamento, área comum, área de estar, idade do prédio, número de elevadores, número de entradas, estado do prédio, número de andares\n",
        "\n",
        "`BASEMENTAREA_MODE` : Informações normalizadas sobre o prédio onde o cliente mora, qual é o tamanho médio (_AVG), moda (_MODE), tamanho mediano (_MEDI) do apartamento, área comum, área de estar, idade do prédio, número de elevadores, número de entradas, estado do prédio, número de andares\n",
        "\n",
        "`YEARS_BEGINEXPLUATATION_MODE` : Informações normalizadas sobre o prédio onde o cliente mora, qual é o tamanho médio (_AVG), moda (_MODE), tamanho mediano (_MEDI) do apartamento, área comum, área de estar, idade do prédio, número de elevadores, número de entradas, estado do prédio, número de andares\n",
        "\n",
        "`YEARS_BUILD_MODE` : Informações normalizadas sobre o prédio onde o cliente mora, qual é o tamanho médio (_AVG), moda (_MODE), tamanho mediano (_MEDI) do apartamento, área comum, área de estar, idade do prédio, número de elevadores, número de entradas, estado do prédio, número de andares\n",
        "\n",
        "`COMMONAREA_MODE` : Informações normalizadas sobre o prédio onde o cliente mora, qual é o tamanho médio (_AVG), moda (_MODE), tamanho mediano (_MEDI) do apartamento, área comum, área de estar, idade do prédio, número de elevadores, número de entradas, estado do prédio, número de andares\n",
        "\n",
        "`ELEVATORS_MODE` : Informações normalizadas sobre o prédio onde o cliente mora, qual é o tamanho médio (_AVG), moda (_MODE), tamanho mediano (_MEDI) do apartamento, área comum, área de estar, idade do prédio, número de elevadores, número de entradas, estado do prédio, número de andares\n",
        "\n",
        "`ENTRANCES_MODE` : Informações normalizadas sobre o prédio onde o cliente mora, qual é o tamanho médio (_AVG), moda (_MODE), tamanho mediano (_MEDI) do apartamento, área comum, área de estar, idade do prédio, número de elevadores, número de entradas, estado do prédio, número de andares\n",
        "\n",
        "`FLOORSMAX_MODE` : Informações normalizadas sobre o prédio onde o cliente mora, qual é o tamanho médio (_AVG), moda (_MODE), tamanho mediano (_MEDI) do apartamento, área comum, área de estar, idade do prédio, número de elevadores, número de entradas, estado do prédio, número de andares\n",
        "\n",
        "`FLOORSMIN_MODE` : Informações normalizadas sobre o prédio onde o cliente mora, qual é o tamanho médio (_AVG), moda (_MODE), tamanho mediano (_MEDI) do apartamento, área comum, área de estar, idade do prédio, número de elevadores, número de entradas, estado do prédio, número de andares\n",
        "\n",
        "`LANDAREA_MODE` : Informações normalizadas sobre o prédio onde o cliente mora, qual é o tamanho médio (_AVG), moda (_MODE), tamanho mediano (_MEDI) do apartamento, área comum, área de estar, idade do prédio, número de elevadores, número de entradas, estado do prédio, número de andares\n",
        "\n",
        "`LIVINGAPARTMENTS_MODE` : Informações normalizadas sobre o prédio onde o cliente mora, qual é o tamanho médio (_AVG), moda (_MODE), tamanho mediano (_MEDI) do apartamento, área comum, área de estar, idade do prédio, número de elevadores, número de entradas, estado do prédio, número de andares\n",
        "\n",
        "`LIVINGAREA_MODE` : Informações normalizadas sobre o prédio onde o cliente mora, qual é o tamanho médio (_AVG), moda (_MODE), tamanho mediano (_MEDI) do apartamento, área comum, área de estar, idade do prédio, número de elevadores, número de entradas, estado do prédio, número de andares\n",
        "\n",
        "`NONLIVINGAPARTMENTS_MODE` : Informações normalizadas sobre o prédio onde o cliente mora, qual é o tamanho médio (_AVG), moda (_MODE), tamanho mediano (_MEDI) do apartamento, área comum, área de estar, idade do prédio, número de elevadores, número de entradas, estado do prédio, número de andares\n",
        "\n",
        "`NONLIVINGAREA_MODE` : Informações normalizadas sobre o prédio onde o cliente mora, qual é o tamanho médio (_AVG), moda (_MODE), tamanho mediano (_MEDI) do apartamento, área comum, área de estar, idade do prédio, número de elevadores, número de entradas, estado do prédio, número de andares\n",
        "\n",
        "`APARTMENTS_MEDI` : Informações normalizadas sobre o prédio onde o cliente mora, qual é o tamanho médio (_AVG), moda (_MODE), tamanho mediano (_MEDI) do apartamento, área comum, área de estar, idade do prédio, número de elevadores, número de entradas, estado do prédio, número de andares\n",
        "\n",
        "`BASEMENTAREA_MEDI` : Informações normalizadas sobre o prédio onde o cliente mora, qual é o tamanho médio (_AVG), moda (_MODE), tamanho mediano (_MEDI) do apartamento, área comum, área de estar, idade do prédio, número de elevadores, número de entradas, estado do prédio, número de andares\n",
        "\n",
        "`YEARS_BEGINEXPLUATATION_MEDI` : Informações normalizadas sobre o prédio onde o cliente mora, qual é o tamanho médio (_AVG), moda (_MODE), tamanho mediano (_MEDI) do apartamento, área comum, área de estar, idade do prédio, número de elevadores, número de entradas, estado do prédio, número de andares\n",
        "\n",
        "`YEARS_BUILD_MEDI` : Informações normalizadas sobre o prédio onde o cliente mora. Qual é o tamanho médio do apartamento (sufixo _AVG), moda (sufixo _MODE), tamanho mediano (sufixo _MEDI), área comum, área de estar, idade do prédio, número de elevadores, número de entradas, estado do prédio, número de andares\n",
        "\n",
        "`COMMONAREA_MEDI` : Informações normalizadas sobre o prédio onde o cliente mora. Qual é o tamanho médio do apartamento (sufixo _AVG), moda (sufixo _MODE), tamanho mediano (sufixo _MEDI), área comum, área de estar, idade do prédio, número de elevadores, número de entradas, estado do prédio, número de andares\n",
        "\n",
        "`ELEVATORS_MEDI` : Informações normalizadas sobre o prédio onde o cliente mora. Qual é o tamanho médio do apartamento (sufixo _AVG), moda (sufixo _MODE), tamanho mediano (sufixo _MEDI), área comum, área de estar, idade do prédio, número de elevadores, número de entradas, estado do prédio, número de andares\n",
        "\n",
        "`ENTRANCES_MEDI` : Informações normalizadas sobre o prédio onde o cliente mora. Qual é o tamanho médio do apartamento (sufixo _AVG), moda (sufixo _MODE), tamanho mediano (sufixo _MEDI), área comum, área de estar, idade do prédio, número de elevadores, número de entradas, estado do prédio, número de andares\n",
        "\n",
        "`FLOORSMAX_MEDI` : Informações normalizadas sobre o prédio onde o cliente mora. Qual é o tamanho médio do apartamento (sufixo _AVG), moda (sufixo _MODE), tamanho mediano (sufixo _MEDI), área comum, área de estar, idade do prédio, número de elevadores, número de entradas, estado do prédio, número de andares\n",
        "\n",
        "`FLOORSMIN_MEDI` : Informações normalizadas sobre o prédio onde o cliente mora. Qual é o tamanho médio do apartamento (sufixo _AVG), moda (sufixo _MODE), tamanho mediano (sufixo _MEDI), área comum, área de estar, idade do prédio, número de elevadores, número de entradas, estado do prédio, número de andares\n",
        "\n",
        "`LANDAREA_MEDI` : Informações normalizadas sobre o prédio onde o cliente mora. Qual é o tamanho médio do apartamento (sufixo _AVG), moda (sufixo _MODE), tamanho mediano (sufixo _MEDI), área comum, área de estar, idade do prédio, número de elevadores, número de entradas, estado do prédio, número de andares\n",
        "\n",
        "`LIVINGAPARTMENTS_MEDI` : Informações normalizadas sobre o prédio onde o cliente mora. Qual é o tamanho médio do apartamento (sufixo _AVG), moda (sufixo _MODE), tamanho mediano (sufixo _MEDI), área comum, área de estar, idade do prédio, número de elevadores, número de entradas, estado do prédio, número de andares\n",
        "\n",
        "`LIVINGAREA_MEDI` : Informações normalizadas sobre o prédio onde o cliente mora. Qual é o tamanho médio do apartamento (sufixo _AVG), moda (sufixo _MODE), tamanho mediano (sufixo _MEDI), área comum, área de estar, idade do prédio, número de elevadores, número de entradas, estado do prédio, número de andares\n",
        "\n",
        "`NONLIVINGAPARTMENTS_MEDI` : Informações normalizadas sobre o prédio onde o cliente mora. Qual é o tamanho médio do apartamento (sufixo _AVG), moda (sufixo _MODE), tamanho mediano (sufixo _MEDI), área comum, área de estar, idade do prédio, número de elevadores, número de entradas, estado do prédio, número de andares\n",
        "\n",
        "`NONLIVINGAREA_MEDI` : Informações normalizadas sobre o prédio onde o cliente mora. Qual é o tamanho médio do apartamento (sufixo _AVG), moda (sufixo _MODE), tamanho mediano (sufixo _MEDI), área comum, área de estar, idade do prédio, número de elevadores, número de entradas, estado do prédio, número de andares\n",
        "\n",
        "`FONDKAPREMONT_MODE` : Informações normalizadas sobre o prédio onde o cliente mora. Qual é o tamanho médio do apartamento (sufixo _AVG), moda (sufixo _MODE), tamanho mediano (sufixo _MEDI), área comum, área de estar, idade do prédio, número de elevadores, número de entradas, estado do prédio, número de andares\n",
        "\n",
        "`HOUSETYPE_MODE` : Informações normalizadas sobre o prédio onde o cliente mora. Qual é o tamanho médio do apartamento (sufixo _AVG), moda (sufixo _MODE), tamanho mediano (sufixo _MEDI), área comum, área de estar, idade do prédio, número de elevadores, número de entradas, estado do prédio, número de andares\n",
        "\n",
        "`TOTALAREA_MODE` : Informações normalizadas sobre o prédio onde o cliente mora. Qual é o tamanho médio do apartamento (sufixo _AVG), moda (sufixo _MODE), tamanho mediano (sufixo _MEDI), área comum, área de estar, idade do prédio, número de elevadores, número de entradas, estado do prédio, número de andares\n",
        "\n",
        "`WALLSMATERIAL_MODE` : Informações normalizadas sobre o prédio onde o cliente mora. Qual é o tamanho médio do apartamento (sufixo _AVG), moda (sufixo _MODE), tamanho mediano (sufixo _MEDI), área comum, área de estar, idade do prédio, número de elevadores, número de entradas, estado do prédio, número de andares\n",
        "\n",
        "`EMERGENCYSTATE_MODE` : Informações normalizadas sobre o prédio onde o cliente mora. Qual é o tamanho médio do apartamento (sufixo _AVG), moda (sufixo _MODE), tamanho mediano (sufixo _MEDI), área comum, área de estar, idade do prédio, número de elevadores, número de entradas, estado do prédio, número de andares\n",
        "\n",
        "`OBS_30_CNT_SOCIAL_CIRCLE` : Quantas observações do círculo social do cliente são observáveis com 30 DPD (dias de atraso)\n",
        "\n",
        "`DEF_30_CNT_SOCIAL_CIRCLE` : Quantas observações do círculo social do cliente entraram em default em 30 DPD (dias de atraso)\n",
        "\n",
        "`OBS_60_CNT_SOCIAL_CIRCLE` : Quantas observações do círculo social do cliente são observáveis com 60 DPD (dias de atraso)\n",
        "\n",
        "`DEF_60_CNT_SOCIAL_CIRCLE` : Quantas observações do círculo social do cliente entraram em default em 60 DPD (dias de atraso)\n",
        "\n",
        "`DAYS_LAST_PHONE_CHANGE` : Quantos dias antes da aplicação o cliente mudou de telefone\n",
        "\n",
        "`FLAG_DOCUMENT_2` : O cliente forneceu o documento 2\n",
        "\n",
        "`FLAG_DOCUMENT_3` : O cliente forneceu o documento 3\n",
        "\n",
        "`FLAG_DOCUMENT_4` : O cliente forneceu o documento 4\n",
        "\n",
        "`FLAG_DOCUMENT_5`: O cliente forneceu o documento 5\n",
        "\n",
        "`FLAG_DOCUMENT_6` : O cliente forneceu o documento 6\n",
        "\n",
        "`FLAG_DOCUMENT_7` : O cliente forneceu o documento 7\n",
        "\n",
        "`FLAG_DOCUMENT_8` : O cliente forneceu o documento 8\n",
        "\n",
        "`FLAG_DOCUMENT_9` : O cliente forneceu o documento 9\n",
        "\n",
        "`FLAG_DOCUMENT_10` : O cliente forneceu o documento 10\n",
        "\n",
        "`FLAG_DOCUMENT_11` : O cliente forneceu o documento 11\n",
        "\n",
        "`FLAG_DOCUMENT_12` : O cliente forneceu o documento 12\n",
        "\n",
        "`FLAG_DOCUMENT_13` : O cliente forneceu o documento 13\n",
        "\n",
        "`FLAG_DOCUMENT_14` : O cliente forneceu o documento 14\n",
        "\n",
        "`FLAG_DOCUMENT_15` : O cliente forneceu o documento 15\n",
        "\n",
        "`FLAG_DOCUMENT_16` : O cliente forneceu o documento 16\n",
        "\n",
        "`FLAG_DOCUMENT_17` : O cliente forneceu o documento 17\n",
        "\n",
        "`FLAG_DOCUMENT_18` : O cliente forneceu o documento 18\n",
        "\n",
        "`FLAG_DOCUMENT_19` : O cliente forneceu o documento 19\n",
        "\n",
        "`FLAG_DOCUMENT_20` : O cliente forneceu o documento 20\n",
        "\n",
        "`FLAG_DOCUMENT_21` : O cliente forneceu o documento 21\n",
        "\n",
        "`AMT_REQ_CREDIT_BUREAU_HOUR` : Número de consultas ao Credit Bureau sobre o cliente uma hora antes da aplicação\n",
        "\n",
        "`AMT_REQ_CREDIT_BUREAU_DAY` : Número de consultas ao Credit Bureau sobre o cliente um dia antes da aplicação (excluindo uma hora antes da aplicação)\n",
        "\n",
        "`AMT_REQ_CREDIT_BUREAU_WEEK` : Número de consultas ao Credit Bureau sobre o cliente uma semana antes da aplicação (excluindo um dia antes da aplicação)\n",
        "\n",
        "`AMT_REQ_CREDIT_BUREAU_MON` : Número de consultas ao Credit Bureau sobre o cliente um mês antes da aplicação (excluindo uma semana antes da aplicação)\n",
        "\n",
        "`AMT_REQ_CREDIT_BUREAU_QRT` : Número de consultas ao Credit Bureau sobre o cliente 3 meses antes da aplicação (excluindo um mês antes da aplicação)\n",
        "\n",
        "`AMT_REQ_CREDIT_BUREAU_YEAR` : Número de consultas ao Credit Bureau sobre o cliente um ano antes (excluindo os últimos 3 meses antes da aplicação)"
      ]
    },
    {
      "cell_type": "markdown",
      "source": [
        "Deletei algumas colunas que julguei não ser necessária para está primeira etapa de análise exploratória dos dados."
      ],
      "metadata": {
        "id": "nQGmsaMDATyO"
      }
    },
    {
      "cell_type": "code",
      "source": [
        "# Lista das colunas a serem excluídas\n",
        "colunas_a_excluir = [\n",
        "    \"APARTMENTS_AVG\",\n",
        "    \"BASEMENTAREA_AVG\",\n",
        "    \"YEARS_BEGINEXPLUATATION_AVG\",\n",
        "    \"YEARS_BUILD_AVG\",\n",
        "    \"COMMONAREA_AVG\",\n",
        "    \"ELEVATORS_AVG\",\n",
        "    \"ENTRANCES_AVG\",\n",
        "    \"FLOORSMAX_AVG\",\n",
        "    \"FLOORSMIN_AVG\",\n",
        "    \"LANDAREA_AVG\",\n",
        "    \"LIVINGAPARTMENTS_AVG\",\n",
        "    \"LIVINGAREA_AVG\",\n",
        "    \"NONLIVINGAPARTMENTS_AVG\",\n",
        "    \"NONLIVINGAREA_AVG\",\n",
        "    \"APARTMENTS_MODE\",\n",
        "    \"BASEMENTAREA_MODE\",\n",
        "    \"YEARS_BEGINEXPLUATATION_MODE\",\n",
        "    \"YEARS_BUILD_MODE\",\n",
        "    \"COMMONAREA_MODE\",\n",
        "    \"OWN_CAR_AGE\",\n",
        "    \"ELEVATORS_MODE\",\n",
        "    \"ENTRANCES_MODE\",\n",
        "    \"FLOORSMAX_MODE\",\n",
        "    \"FLOORSMIN_MODE\",\n",
        "    \"LANDAREA_MODE\",\n",
        "    \"LIVINGAPARTMENTS_MODE\",\n",
        "    \"LIVINGAREA_MODE\",\n",
        "    \"NONLIVINGAPARTMENTS_MODE\",\n",
        "    \"NONLIVINGAREA_MODE\",\n",
        "    \"APARTMENTS_MEDI\",\n",
        "    \"BASEMENTAREA_MEDI\",\n",
        "    \"YEARS_BEGINEXPLUATATION_MEDI\",\n",
        "    \"YEARS_BUILD_MEDI\",\n",
        "    \"COMMONAREA_MEDI\",\n",
        "    \"ELEVATORS_MEDI\",\n",
        "    \"ENTRANCES_MEDI\",\n",
        "    \"FLOORSMAX_MEDI\",\n",
        "    \"FLOORSMIN_MEDI\",\n",
        "    \"LANDAREA_MEDI\",\n",
        "    \"LIVINGAPARTMENTS_MEDI\",\n",
        "    \"LIVINGAREA_MEDI\",\n",
        "    \"NONLIVINGAPARTMENTS_MEDI\",\n",
        "    \"NONLIVINGAREA_MEDI\",\n",
        "    \"FONDKAPREMONT_MODE\",\n",
        "    \"HOUSETYPE_MODE\",\n",
        "    \"TOTALAREA_MODE\",\n",
        "    \"WALLSMATERIAL_MODE\",\n",
        "    \"EMERGENCYSTATE_MODE\",\n",
        "    \"OBS_30_CNT_SOCIAL_CIRCLE\",\n",
        "    \"DEF_30_CNT_SOCIAL_CIRCLE\",\n",
        "    \"OBS_60_CNT_SOCIAL_CIRCLE\",\n",
        "    \"DEF_60_CNT_SOCIAL_CIRCLE\",\n",
        "    \"DAYS_LAST_PHONE_CHANGE\",\n",
        "    \"FLAG_DOCUMENT_2\",\n",
        "    \"FLAG_DOCUMENT_3\",\n",
        "    \"FLAG_DOCUMENT_4\",\n",
        "    \"FLAG_DOCUMENT_5\",\n",
        "    \"FLAG_DOCUMENT_6\",\n",
        "    \"FLAG_DOCUMENT_7\",\n",
        "    \"FLAG_DOCUMENT_8\",\n",
        "    \"FLAG_DOCUMENT_9\",\n",
        "    \"FLAG_DOCUMENT_10\",\n",
        "    \"FLAG_DOCUMENT_11\",\n",
        "    \"FLAG_DOCUMENT_12\",\n",
        "    \"FLAG_DOCUMENT_13\",\n",
        "    \"FLAG_DOCUMENT_14\",\n",
        "    \"FLAG_DOCUMENT_15\",\n",
        "    \"FLAG_DOCUMENT_16\",\n",
        "    \"FLAG_DOCUMENT_17\",\n",
        "    \"FLAG_DOCUMENT_18\",\n",
        "    \"FLAG_DOCUMENT_19\",\n",
        "    \"FLAG_DOCUMENT_20\",\n",
        "    \"FLAG_DOCUMENT_21\"\n",
        "]\n",
        "\n",
        "# DataFrame resultante com as colunas excluídas\n",
        "df_application_train_01 = df_application_train.drop(columns=colunas_a_excluir)\n",
        "\n",
        " #Salvar o DataFrame resultante em um novo arquivo, se necessário\n",
        "#df_application_train_01.to_csv(\"application_train_01.csv\", index=False)"
      ],
      "metadata": {
        "id": "bb8uH1Ds7lLG"
      },
      "execution_count": 8,
      "outputs": []
    },
    {
      "cell_type": "code",
      "source": [
        "df_application_train_01 = df_application_train.copy()"
      ],
      "metadata": {
        "id": "7nnReIMG3wCZ"
      },
      "execution_count": 9,
      "outputs": []
    },
    {
      "cell_type": "code",
      "source": [
        "df_application_train_01 = spark.read.csv ('/content/drive/MyDrive/Colab Notebooks/AnaliseCredito/application_train_01.csv', header=True, inferSchema=True)\n",
        "df_application_train_01.createOrReplaceTempView(\"df_application_train_01\")"
      ],
      "metadata": {
        "id": "f6j2rqn3wT2P"
      },
      "execution_count": 22,
      "outputs": []
    },
    {
      "cell_type": "code",
      "source": [
        "df_application_train_01 = ('/content/drive/MyDrive/Colab Notebooks/AnaliseCredito/application_train_01.csv')\n",
        "df_application_train_01 = pd.read_csv(df_application_train_01,sep = ',')"
      ],
      "metadata": {
        "id": "vJzRv11M17VU"
      },
      "execution_count": 23,
      "outputs": []
    },
    {
      "cell_type": "markdown",
      "source": [
        "## Metadados"
      ],
      "metadata": {
        "id": "_9PcnDeJmLKC"
      }
    },
    {
      "cell_type": "code",
      "source": [
        "def generate_metadata(dataframe):\n",
        "    \"\"\"\n",
        "    Gera um dataframe contendo metadados das colunas do dataframe fornecido.\n",
        "\n",
        "    :param dataframe: DataFrame para o qual os metadados serão gerados.\n",
        "    :return: DataFrame contendo metadados.\n",
        "    \"\"\"\n",
        "\n",
        "    # Coleta de metadados básicos\n",
        "    metadata = pd.DataFrame({\n",
        "        'nome_variavel': dataframe.columns,\n",
        "        'tipo': dataframe.dtypes,\n",
        "        'qt_nulos': dataframe.isnull().sum(),\n",
        "        'percent_nulos': round((dataframe.isnull().sum() / len(dataframe))* 100,2),\n",
        "        'cardinalidade': dataframe.nunique(),\n",
        "    })\n",
        "    metadata = metadata.sort_values(by='tipo')\n",
        "    metadata = metadata.reset_index(drop=True)\n",
        "\n",
        "    return metadata\n",
        "\n",
        "generate_metadata(df_application_train_01)"
      ],
      "metadata": {
        "colab": {
          "base_uri": "https://localhost:8080/",
          "height": 424
        },
        "id": "tL1q0_LIHo3Q",
        "outputId": "c9e43229-568c-4956-9be7-0fb3283ce085"
      },
      "execution_count": null,
      "outputs": [
        {
          "output_type": "execute_result",
          "data": {
            "text/plain": [
              "                 nome_variavel    tipo  qt_nulos  percent_nulos  cardinalidade\n",
              "0                   SK_ID_CURR   int64         0           0.00         215257\n",
              "1                   FLAG_MOBIL   int64         0           0.00              2\n",
              "2               FLAG_EMP_PHONE   int64         0           0.00              2\n",
              "3              FLAG_WORK_PHONE   int64         0           0.00              2\n",
              "4             FLAG_CONT_MOBILE   int64         0           0.00              2\n",
              "..                         ...     ...       ...            ...            ...\n",
              "94           NAME_HOUSING_TYPE  object         0           0.00              6\n",
              "95             OCCUPATION_TYPE  object     67409          31.32             18\n",
              "96           ORGANIZATION_TYPE  object         0           0.00             58\n",
              "97             NAME_TYPE_SUITE  object       913           0.42              7\n",
              "98  WEEKDAY_APPR_PROCESS_START  object         0           0.00              7\n",
              "\n",
              "[99 rows x 5 columns]"
            ],
            "text/html": [
              "\n",
              "  <div id=\"df-14be5624-b74e-4632-a8ed-a3b53761038d\" class=\"colab-df-container\">\n",
              "    <div>\n",
              "<style scoped>\n",
              "    .dataframe tbody tr th:only-of-type {\n",
              "        vertical-align: middle;\n",
              "    }\n",
              "\n",
              "    .dataframe tbody tr th {\n",
              "        vertical-align: top;\n",
              "    }\n",
              "\n",
              "    .dataframe thead th {\n",
              "        text-align: right;\n",
              "    }\n",
              "</style>\n",
              "<table border=\"1\" class=\"dataframe\">\n",
              "  <thead>\n",
              "    <tr style=\"text-align: right;\">\n",
              "      <th></th>\n",
              "      <th>nome_variavel</th>\n",
              "      <th>tipo</th>\n",
              "      <th>qt_nulos</th>\n",
              "      <th>percent_nulos</th>\n",
              "      <th>cardinalidade</th>\n",
              "    </tr>\n",
              "  </thead>\n",
              "  <tbody>\n",
              "    <tr>\n",
              "      <th>0</th>\n",
              "      <td>SK_ID_CURR</td>\n",
              "      <td>int64</td>\n",
              "      <td>0</td>\n",
              "      <td>0.00</td>\n",
              "      <td>215257</td>\n",
              "    </tr>\n",
              "    <tr>\n",
              "      <th>1</th>\n",
              "      <td>FLAG_MOBIL</td>\n",
              "      <td>int64</td>\n",
              "      <td>0</td>\n",
              "      <td>0.00</td>\n",
              "      <td>2</td>\n",
              "    </tr>\n",
              "    <tr>\n",
              "      <th>2</th>\n",
              "      <td>FLAG_EMP_PHONE</td>\n",
              "      <td>int64</td>\n",
              "      <td>0</td>\n",
              "      <td>0.00</td>\n",
              "      <td>2</td>\n",
              "    </tr>\n",
              "    <tr>\n",
              "      <th>3</th>\n",
              "      <td>FLAG_WORK_PHONE</td>\n",
              "      <td>int64</td>\n",
              "      <td>0</td>\n",
              "      <td>0.00</td>\n",
              "      <td>2</td>\n",
              "    </tr>\n",
              "    <tr>\n",
              "      <th>4</th>\n",
              "      <td>FLAG_CONT_MOBILE</td>\n",
              "      <td>int64</td>\n",
              "      <td>0</td>\n",
              "      <td>0.00</td>\n",
              "      <td>2</td>\n",
              "    </tr>\n",
              "    <tr>\n",
              "      <th>...</th>\n",
              "      <td>...</td>\n",
              "      <td>...</td>\n",
              "      <td>...</td>\n",
              "      <td>...</td>\n",
              "      <td>...</td>\n",
              "    </tr>\n",
              "    <tr>\n",
              "      <th>94</th>\n",
              "      <td>NAME_HOUSING_TYPE</td>\n",
              "      <td>object</td>\n",
              "      <td>0</td>\n",
              "      <td>0.00</td>\n",
              "      <td>6</td>\n",
              "    </tr>\n",
              "    <tr>\n",
              "      <th>95</th>\n",
              "      <td>OCCUPATION_TYPE</td>\n",
              "      <td>object</td>\n",
              "      <td>67409</td>\n",
              "      <td>31.32</td>\n",
              "      <td>18</td>\n",
              "    </tr>\n",
              "    <tr>\n",
              "      <th>96</th>\n",
              "      <td>ORGANIZATION_TYPE</td>\n",
              "      <td>object</td>\n",
              "      <td>0</td>\n",
              "      <td>0.00</td>\n",
              "      <td>58</td>\n",
              "    </tr>\n",
              "    <tr>\n",
              "      <th>97</th>\n",
              "      <td>NAME_TYPE_SUITE</td>\n",
              "      <td>object</td>\n",
              "      <td>913</td>\n",
              "      <td>0.42</td>\n",
              "      <td>7</td>\n",
              "    </tr>\n",
              "    <tr>\n",
              "      <th>98</th>\n",
              "      <td>WEEKDAY_APPR_PROCESS_START</td>\n",
              "      <td>object</td>\n",
              "      <td>0</td>\n",
              "      <td>0.00</td>\n",
              "      <td>7</td>\n",
              "    </tr>\n",
              "  </tbody>\n",
              "</table>\n",
              "<p>99 rows × 5 columns</p>\n",
              "</div>\n",
              "    <div class=\"colab-df-buttons\">\n",
              "\n",
              "  <div class=\"colab-df-container\">\n",
              "    <button class=\"colab-df-convert\" onclick=\"convertToInteractive('df-14be5624-b74e-4632-a8ed-a3b53761038d')\"\n",
              "            title=\"Convert this dataframe to an interactive table.\"\n",
              "            style=\"display:none;\">\n",
              "\n",
              "  <svg xmlns=\"http://www.w3.org/2000/svg\" height=\"24px\" viewBox=\"0 -960 960 960\">\n",
              "    <path d=\"M120-120v-720h720v720H120Zm60-500h600v-160H180v160Zm220 220h160v-160H400v160Zm0 220h160v-160H400v160ZM180-400h160v-160H180v160Zm440 0h160v-160H620v160ZM180-180h160v-160H180v160Zm440 0h160v-160H620v160Z\"/>\n",
              "  </svg>\n",
              "    </button>\n",
              "\n",
              "  <style>\n",
              "    .colab-df-container {\n",
              "      display:flex;\n",
              "      gap: 12px;\n",
              "    }\n",
              "\n",
              "    .colab-df-convert {\n",
              "      background-color: #E8F0FE;\n",
              "      border: none;\n",
              "      border-radius: 50%;\n",
              "      cursor: pointer;\n",
              "      display: none;\n",
              "      fill: #1967D2;\n",
              "      height: 32px;\n",
              "      padding: 0 0 0 0;\n",
              "      width: 32px;\n",
              "    }\n",
              "\n",
              "    .colab-df-convert:hover {\n",
              "      background-color: #E2EBFA;\n",
              "      box-shadow: 0px 1px 2px rgba(60, 64, 67, 0.3), 0px 1px 3px 1px rgba(60, 64, 67, 0.15);\n",
              "      fill: #174EA6;\n",
              "    }\n",
              "\n",
              "    .colab-df-buttons div {\n",
              "      margin-bottom: 4px;\n",
              "    }\n",
              "\n",
              "    [theme=dark] .colab-df-convert {\n",
              "      background-color: #3B4455;\n",
              "      fill: #D2E3FC;\n",
              "    }\n",
              "\n",
              "    [theme=dark] .colab-df-convert:hover {\n",
              "      background-color: #434B5C;\n",
              "      box-shadow: 0px 1px 3px 1px rgba(0, 0, 0, 0.15);\n",
              "      filter: drop-shadow(0px 1px 2px rgba(0, 0, 0, 0.3));\n",
              "      fill: #FFFFFF;\n",
              "    }\n",
              "  </style>\n",
              "\n",
              "    <script>\n",
              "      const buttonEl =\n",
              "        document.querySelector('#df-14be5624-b74e-4632-a8ed-a3b53761038d button.colab-df-convert');\n",
              "      buttonEl.style.display =\n",
              "        google.colab.kernel.accessAllowed ? 'block' : 'none';\n",
              "\n",
              "      async function convertToInteractive(key) {\n",
              "        const element = document.querySelector('#df-14be5624-b74e-4632-a8ed-a3b53761038d');\n",
              "        const dataTable =\n",
              "          await google.colab.kernel.invokeFunction('convertToInteractive',\n",
              "                                                    [key], {});\n",
              "        if (!dataTable) return;\n",
              "\n",
              "        const docLinkHtml = 'Like what you see? Visit the ' +\n",
              "          '<a target=\"_blank\" href=https://colab.research.google.com/notebooks/data_table.ipynb>data table notebook</a>'\n",
              "          + ' to learn more about interactive tables.';\n",
              "        element.innerHTML = '';\n",
              "        dataTable['output_type'] = 'display_data';\n",
              "        await google.colab.output.renderOutput(dataTable, element);\n",
              "        const docLink = document.createElement('div');\n",
              "        docLink.innerHTML = docLinkHtml;\n",
              "        element.appendChild(docLink);\n",
              "      }\n",
              "    </script>\n",
              "  </div>\n",
              "\n",
              "\n",
              "<div id=\"df-08e87d1b-c759-486d-8d1f-32e36741968b\">\n",
              "  <button class=\"colab-df-quickchart\" onclick=\"quickchart('df-08e87d1b-c759-486d-8d1f-32e36741968b')\"\n",
              "            title=\"Suggest charts\"\n",
              "            style=\"display:none;\">\n",
              "\n",
              "<svg xmlns=\"http://www.w3.org/2000/svg\" height=\"24px\"viewBox=\"0 0 24 24\"\n",
              "     width=\"24px\">\n",
              "    <g>\n",
              "        <path d=\"M19 3H5c-1.1 0-2 .9-2 2v14c0 1.1.9 2 2 2h14c1.1 0 2-.9 2-2V5c0-1.1-.9-2-2-2zM9 17H7v-7h2v7zm4 0h-2V7h2v10zm4 0h-2v-4h2v4z\"/>\n",
              "    </g>\n",
              "</svg>\n",
              "  </button>\n",
              "\n",
              "<style>\n",
              "  .colab-df-quickchart {\n",
              "      --bg-color: #E8F0FE;\n",
              "      --fill-color: #1967D2;\n",
              "      --hover-bg-color: #E2EBFA;\n",
              "      --hover-fill-color: #174EA6;\n",
              "      --disabled-fill-color: #AAA;\n",
              "      --disabled-bg-color: #DDD;\n",
              "  }\n",
              "\n",
              "  [theme=dark] .colab-df-quickchart {\n",
              "      --bg-color: #3B4455;\n",
              "      --fill-color: #D2E3FC;\n",
              "      --hover-bg-color: #434B5C;\n",
              "      --hover-fill-color: #FFFFFF;\n",
              "      --disabled-bg-color: #3B4455;\n",
              "      --disabled-fill-color: #666;\n",
              "  }\n",
              "\n",
              "  .colab-df-quickchart {\n",
              "    background-color: var(--bg-color);\n",
              "    border: none;\n",
              "    border-radius: 50%;\n",
              "    cursor: pointer;\n",
              "    display: none;\n",
              "    fill: var(--fill-color);\n",
              "    height: 32px;\n",
              "    padding: 0;\n",
              "    width: 32px;\n",
              "  }\n",
              "\n",
              "  .colab-df-quickchart:hover {\n",
              "    background-color: var(--hover-bg-color);\n",
              "    box-shadow: 0 1px 2px rgba(60, 64, 67, 0.3), 0 1px 3px 1px rgba(60, 64, 67, 0.15);\n",
              "    fill: var(--button-hover-fill-color);\n",
              "  }\n",
              "\n",
              "  .colab-df-quickchart-complete:disabled,\n",
              "  .colab-df-quickchart-complete:disabled:hover {\n",
              "    background-color: var(--disabled-bg-color);\n",
              "    fill: var(--disabled-fill-color);\n",
              "    box-shadow: none;\n",
              "  }\n",
              "\n",
              "  .colab-df-spinner {\n",
              "    border: 2px solid var(--fill-color);\n",
              "    border-color: transparent;\n",
              "    border-bottom-color: var(--fill-color);\n",
              "    animation:\n",
              "      spin 1s steps(1) infinite;\n",
              "  }\n",
              "\n",
              "  @keyframes spin {\n",
              "    0% {\n",
              "      border-color: transparent;\n",
              "      border-bottom-color: var(--fill-color);\n",
              "      border-left-color: var(--fill-color);\n",
              "    }\n",
              "    20% {\n",
              "      border-color: transparent;\n",
              "      border-left-color: var(--fill-color);\n",
              "      border-top-color: var(--fill-color);\n",
              "    }\n",
              "    30% {\n",
              "      border-color: transparent;\n",
              "      border-left-color: var(--fill-color);\n",
              "      border-top-color: var(--fill-color);\n",
              "      border-right-color: var(--fill-color);\n",
              "    }\n",
              "    40% {\n",
              "      border-color: transparent;\n",
              "      border-right-color: var(--fill-color);\n",
              "      border-top-color: var(--fill-color);\n",
              "    }\n",
              "    60% {\n",
              "      border-color: transparent;\n",
              "      border-right-color: var(--fill-color);\n",
              "    }\n",
              "    80% {\n",
              "      border-color: transparent;\n",
              "      border-right-color: var(--fill-color);\n",
              "      border-bottom-color: var(--fill-color);\n",
              "    }\n",
              "    90% {\n",
              "      border-color: transparent;\n",
              "      border-bottom-color: var(--fill-color);\n",
              "    }\n",
              "  }\n",
              "</style>\n",
              "\n",
              "  <script>\n",
              "    async function quickchart(key) {\n",
              "      const quickchartButtonEl =\n",
              "        document.querySelector('#' + key + ' button');\n",
              "      quickchartButtonEl.disabled = true;  // To prevent multiple clicks.\n",
              "      quickchartButtonEl.classList.add('colab-df-spinner');\n",
              "      try {\n",
              "        const charts = await google.colab.kernel.invokeFunction(\n",
              "            'suggestCharts', [key], {});\n",
              "      } catch (error) {\n",
              "        console.error('Error during call to suggestCharts:', error);\n",
              "      }\n",
              "      quickchartButtonEl.classList.remove('colab-df-spinner');\n",
              "      quickchartButtonEl.classList.add('colab-df-quickchart-complete');\n",
              "    }\n",
              "    (() => {\n",
              "      let quickchartButtonEl =\n",
              "        document.querySelector('#df-08e87d1b-c759-486d-8d1f-32e36741968b button');\n",
              "      quickchartButtonEl.style.display =\n",
              "        google.colab.kernel.accessAllowed ? 'block' : 'none';\n",
              "    })();\n",
              "  </script>\n",
              "</div>\n",
              "\n",
              "    </div>\n",
              "  </div>\n"
            ],
            "application/vnd.google.colaboratory.intrinsic+json": {
              "type": "dataframe",
              "summary": "{\n  \"name\": \"generate_metadata(df_application_train_01)\",\n  \"rows\": 99,\n  \"fields\": [\n    {\n      \"column\": \"nome_variavel\",\n      \"properties\": {\n        \"dtype\": \"string\",\n        \"num_unique_values\": 99,\n        \"samples\": [\n          \"AMT_CREDIT\",\n          \"var_47\",\n          \"OCCUPATION_TYPE\"\n        ],\n        \"semantic_type\": \"\",\n        \"description\": \"\"\n      }\n    },\n    {\n      \"column\": \"tipo\",\n      \"properties\": {\n        \"dtype\": \"category\",\n        \"num_unique_values\": 3,\n        \"samples\": [\n          \"int64\",\n          \"float64\",\n          \"object\"\n        ],\n        \"semantic_type\": \"\",\n        \"description\": \"\"\n      }\n    },\n    {\n      \"column\": \"qt_nulos\",\n      \"properties\": {\n        \"dtype\": \"number\",\n        \"std\": 15810,\n        \"min\": 0,\n        \"max\": 121249,\n        \"num_unique_values\": 10,\n        \"samples\": [\n          67409,\n          8,\n          473\n        ],\n        \"semantic_type\": \"\",\n        \"description\": \"\"\n      }\n    },\n    {\n      \"column\": \"percent_nulos\",\n      \"properties\": {\n        \"dtype\": \"number\",\n        \"std\": 7.3453007553790295,\n        \"min\": 0.0,\n        \"max\": 56.33,\n        \"num_unique_values\": 8,\n        \"samples\": [\n          0.09,\n          13.54,\n          0.0\n        ],\n        \"semantic_type\": \"\",\n        \"description\": \"\"\n      }\n    },\n    {\n      \"column\": \"cardinalidade\",\n      \"properties\": {\n        \"dtype\": \"number\",\n        \"std\": 106240,\n        \"min\": 2,\n        \"max\": 215257,\n        \"num_unique_values\": 29,\n        \"samples\": [\n          58,\n          102294,\n          81\n        ],\n        \"semantic_type\": \"\",\n        \"description\": \"\"\n      }\n    }\n  ]\n}"
            }
          },
          "metadata": {},
          "execution_count": 53
        }
      ]
    },
    {
      "cell_type": "markdown",
      "source": [
        "## Análise Exploratória de Dados (EDA)"
      ],
      "metadata": {
        "id": "XJkezXbjmBPX"
      }
    },
    {
      "cell_type": "code",
      "execution_count": 14,
      "metadata": {
        "colab": {
          "base_uri": "https://localhost:8080/"
        },
        "id": "2qp_-bJO637l",
        "outputId": "191f0cbf-d211-4d53-c033-85fdfdcca6e2"
      },
      "outputs": [
        {
          "output_type": "stream",
          "name": "stdout",
          "text": [
            "root\n",
            " |-- SK_ID_CURR: integer (nullable = true)\n",
            " |-- TARGET: integer (nullable = true)\n",
            " |-- NAME_CONTRACT_TYPE: string (nullable = true)\n",
            " |-- CODE_GENDER: string (nullable = true)\n",
            " |-- FLAG_OWN_CAR: string (nullable = true)\n",
            " |-- FLAG_OWN_REALTY: string (nullable = true)\n",
            " |-- CNT_CHILDREN: integer (nullable = true)\n",
            " |-- AMT_INCOME_TOTAL: double (nullable = true)\n",
            " |-- AMT_CREDIT: double (nullable = true)\n",
            " |-- AMT_ANNUITY: double (nullable = true)\n",
            " |-- AMT_GOODS_PRICE: double (nullable = true)\n",
            " |-- NAME_TYPE_SUITE: string (nullable = true)\n",
            " |-- NAME_INCOME_TYPE: string (nullable = true)\n",
            " |-- NAME_EDUCATION_TYPE: string (nullable = true)\n",
            " |-- NAME_FAMILY_STATUS: string (nullable = true)\n",
            " |-- NAME_HOUSING_TYPE: string (nullable = true)\n",
            " |-- REGION_POPULATION_RELATIVE: double (nullable = true)\n",
            " |-- DAYS_BIRTH: integer (nullable = true)\n",
            " |-- DAYS_EMPLOYED: integer (nullable = true)\n",
            " |-- DAYS_REGISTRATION: double (nullable = true)\n",
            " |-- DAYS_ID_PUBLISH: integer (nullable = true)\n",
            " |-- FLAG_MOBIL: integer (nullable = true)\n",
            " |-- FLAG_EMP_PHONE: integer (nullable = true)\n",
            " |-- FLAG_WORK_PHONE: integer (nullable = true)\n",
            " |-- FLAG_CONT_MOBILE: integer (nullable = true)\n",
            " |-- FLAG_PHONE: integer (nullable = true)\n",
            " |-- FLAG_EMAIL: integer (nullable = true)\n",
            " |-- OCCUPATION_TYPE: string (nullable = true)\n",
            " |-- CNT_FAM_MEMBERS: double (nullable = true)\n",
            " |-- REGION_RATING_CLIENT: integer (nullable = true)\n",
            " |-- REGION_RATING_CLIENT_W_CITY: integer (nullable = true)\n",
            " |-- WEEKDAY_APPR_PROCESS_START: string (nullable = true)\n",
            " |-- HOUR_APPR_PROCESS_START: integer (nullable = true)\n",
            " |-- REG_REGION_NOT_LIVE_REGION: integer (nullable = true)\n",
            " |-- REG_REGION_NOT_WORK_REGION: integer (nullable = true)\n",
            " |-- LIVE_REGION_NOT_WORK_REGION: integer (nullable = true)\n",
            " |-- REG_CITY_NOT_LIVE_CITY: integer (nullable = true)\n",
            " |-- REG_CITY_NOT_WORK_CITY: integer (nullable = true)\n",
            " |-- LIVE_CITY_NOT_WORK_CITY: integer (nullable = true)\n",
            " |-- ORGANIZATION_TYPE: string (nullable = true)\n",
            " |-- EXT_SOURCE_1: double (nullable = true)\n",
            " |-- EXT_SOURCE_2: double (nullable = true)\n",
            " |-- EXT_SOURCE_3: double (nullable = true)\n",
            " |-- AMT_REQ_CREDIT_BUREAU_HOUR: double (nullable = true)\n",
            " |-- AMT_REQ_CREDIT_BUREAU_DAY: double (nullable = true)\n",
            " |-- AMT_REQ_CREDIT_BUREAU_WEEK: double (nullable = true)\n",
            " |-- AMT_REQ_CREDIT_BUREAU_MON: double (nullable = true)\n",
            " |-- AMT_REQ_CREDIT_BUREAU_QRT: double (nullable = true)\n",
            " |-- AMT_REQ_CREDIT_BUREAU_YEAR: double (nullable = true)\n",
            " |-- var_1: double (nullable = true)\n",
            " |-- var_2: double (nullable = true)\n",
            " |-- var_3: double (nullable = true)\n",
            " |-- var_4: double (nullable = true)\n",
            " |-- var_5: double (nullable = true)\n",
            " |-- var_6: double (nullable = true)\n",
            " |-- var_7: double (nullable = true)\n",
            " |-- var_8: double (nullable = true)\n",
            " |-- var_9: double (nullable = true)\n",
            " |-- var_10: double (nullable = true)\n",
            " |-- var_11: double (nullable = true)\n",
            " |-- var_12: double (nullable = true)\n",
            " |-- var_13: double (nullable = true)\n",
            " |-- var_14: double (nullable = true)\n",
            " |-- var_15: double (nullable = true)\n",
            " |-- var_16: double (nullable = true)\n",
            " |-- var_17: double (nullable = true)\n",
            " |-- var_18: double (nullable = true)\n",
            " |-- var_19: double (nullable = true)\n",
            " |-- var_20: double (nullable = true)\n",
            " |-- var_21: double (nullable = true)\n",
            " |-- var_22: double (nullable = true)\n",
            " |-- var_23: double (nullable = true)\n",
            " |-- var_24: double (nullable = true)\n",
            " |-- var_25: double (nullable = true)\n",
            " |-- var_26: double (nullable = true)\n",
            " |-- var_27: double (nullable = true)\n",
            " |-- var_28: double (nullable = true)\n",
            " |-- var_29: double (nullable = true)\n",
            " |-- var_30: double (nullable = true)\n",
            " |-- var_31: double (nullable = true)\n",
            " |-- var_32: double (nullable = true)\n",
            " |-- var_33: double (nullable = true)\n",
            " |-- var_34: double (nullable = true)\n",
            " |-- var_35: double (nullable = true)\n",
            " |-- var_36: double (nullable = true)\n",
            " |-- var_37: double (nullable = true)\n",
            " |-- var_38: double (nullable = true)\n",
            " |-- var_39: double (nullable = true)\n",
            " |-- var_40: double (nullable = true)\n",
            " |-- var_41: double (nullable = true)\n",
            " |-- var_42: double (nullable = true)\n",
            " |-- var_43: double (nullable = true)\n",
            " |-- var_44: double (nullable = true)\n",
            " |-- var_45: double (nullable = true)\n",
            " |-- var_46: double (nullable = true)\n",
            " |-- var_47: double (nullable = true)\n",
            " |-- var_48: double (nullable = true)\n",
            " |-- var_49: double (nullable = true)\n",
            " |-- var_50: double (nullable = true)\n",
            "\n"
          ]
        }
      ],
      "source": [
        "df_application_train_01.printSchema()"
      ]
    },
    {
      "cell_type": "code",
      "execution_count": null,
      "metadata": {
        "colab": {
          "base_uri": "https://localhost:8080/"
        },
        "id": "IeYhfxrG7Dch",
        "outputId": "bf5134f6-ba36-4980-f044-39fe53da128b"
      },
      "outputs": [
        {
          "output_type": "stream",
          "name": "stdout",
          "text": [
            "+----------+------+------------------+-----------+------------+---------------+------------+----------------+----------+-----------+---------------+---------------+--------------------+-----------------------------+--------------------+-------------------+--------------------------+----------+-------------+-----------------+---------------+----------+--------------+---------------+----------------+----------+----------+---------------------+---------------+--------------------+---------------------------+--------------------------+-----------------------+--------------------------+--------------------------+---------------------------+----------------------+----------------------+-----------------------+----------------------+------------------+------------------+------------------+--------------------------+-------------------------+--------------------------+-------------------------+-------------------------+--------------------------+------------------+------------------+------------------+------------------+------------------+------------------+------------------+------------------+------------------+------------------+------------------+------------------+------------------+------------------+------------------+------------------+------------------+------------------+------------------+------------------+------------------+------------------+------------------+------------------+------------------+------------------+------------------+------------------+------------------+------------------+------------------+------------------+------------------+------------------+------------------+------------------+------------------+------------------+------------------+------------------+------------------+------------------+------------------+------------------+------------------+------------------+------------------+------------------+------------------+------------------+\n",
            "|SK_ID_CURR|TARGET|NAME_CONTRACT_TYPE|CODE_GENDER|FLAG_OWN_CAR|FLAG_OWN_REALTY|CNT_CHILDREN|AMT_INCOME_TOTAL|AMT_CREDIT|AMT_ANNUITY|AMT_GOODS_PRICE|NAME_TYPE_SUITE|NAME_INCOME_TYPE    |NAME_EDUCATION_TYPE          |NAME_FAMILY_STATUS  |NAME_HOUSING_TYPE  |REGION_POPULATION_RELATIVE|DAYS_BIRTH|DAYS_EMPLOYED|DAYS_REGISTRATION|DAYS_ID_PUBLISH|FLAG_MOBIL|FLAG_EMP_PHONE|FLAG_WORK_PHONE|FLAG_CONT_MOBILE|FLAG_PHONE|FLAG_EMAIL|OCCUPATION_TYPE      |CNT_FAM_MEMBERS|REGION_RATING_CLIENT|REGION_RATING_CLIENT_W_CITY|WEEKDAY_APPR_PROCESS_START|HOUR_APPR_PROCESS_START|REG_REGION_NOT_LIVE_REGION|REG_REGION_NOT_WORK_REGION|LIVE_REGION_NOT_WORK_REGION|REG_CITY_NOT_LIVE_CITY|REG_CITY_NOT_WORK_CITY|LIVE_CITY_NOT_WORK_CITY|ORGANIZATION_TYPE     |EXT_SOURCE_1      |EXT_SOURCE_2      |EXT_SOURCE_3      |AMT_REQ_CREDIT_BUREAU_HOUR|AMT_REQ_CREDIT_BUREAU_DAY|AMT_REQ_CREDIT_BUREAU_WEEK|AMT_REQ_CREDIT_BUREAU_MON|AMT_REQ_CREDIT_BUREAU_QRT|AMT_REQ_CREDIT_BUREAU_YEAR|var_1             |var_2             |var_3             |var_4             |var_5             |var_6             |var_7             |var_8             |var_9             |var_10            |var_11            |var_12            |var_13            |var_14            |var_15            |var_16            |var_17            |var_18            |var_19            |var_20            |var_21            |var_22            |var_23            |var_24            |var_25            |var_26            |var_27            |var_28            |var_29            |var_30            |var_31            |var_32            |var_33            |var_34            |var_35            |var_36            |var_37            |var_38            |var_39            |var_40            |var_41            |var_42            |var_43            |var_44            |var_45            |var_46            |var_47            |var_48            |var_49            |var_50            |\n",
            "+----------+------+------------------+-----------+------------+---------------+------------+----------------+----------+-----------+---------------+---------------+--------------------+-----------------------------+--------------------+-------------------+--------------------------+----------+-------------+-----------------+---------------+----------+--------------+---------------+----------------+----------+----------+---------------------+---------------+--------------------+---------------------------+--------------------------+-----------------------+--------------------------+--------------------------+---------------------------+----------------------+----------------------+-----------------------+----------------------+------------------+------------------+------------------+--------------------------+-------------------------+--------------------------+-------------------------+-------------------------+--------------------------+------------------+------------------+------------------+------------------+------------------+------------------+------------------+------------------+------------------+------------------+------------------+------------------+------------------+------------------+------------------+------------------+------------------+------------------+------------------+------------------+------------------+------------------+------------------+------------------+------------------+------------------+------------------+------------------+------------------+------------------+------------------+------------------+------------------+------------------+------------------+------------------+------------------+------------------+------------------+------------------+------------------+------------------+------------------+------------------+------------------+------------------+------------------+------------------+------------------+------------------+\n",
            "|247330    |0     |Cash loans        |F          |N           |N              |0           |157500.0        |706410.0  |67072.5    |679500.0       |Unaccompanied  |Commercial associate|Higher education             |Married             |House / apartment  |0.032561                  |-14653    |-2062        |-8599.0          |-2087          |1         |1             |0              |1               |1         |0         |Private service staff|2.0            |1                   |1                          |WEDNESDAY                 |13                     |0                         |0                         |0                          |0                     |0                     |0                      |Services              |NULL              |0.6324239460507313|0.22009464485041  |0.0                       |0.0                      |0.0                       |0.0                      |0.0                      |1.0                       |0.3813396503984305|0.2537733979389915|0.2057281201864854|0.8082605522516552|0.917700143210084 |0.4876981806027259|0.9559213421805132|0.0893417793363334|0.519432392721959 |0.6678060213555708|0.3333202912839369|0.873507549111724 |0.2938369975706796|0.758751370685052 |0.972639879657895 |0.8132374152147033|0.3987618303099822|0.0601087411506366|0.432020650964474 |0.7117287020947736|0.4559773869574512|0.5329769135157408|0.6159554208595124|0.0050829344256292|0.4654490520568283|0.1459236479910849|0.0265340662537217|0.5622166627174792|0.3809966377611474|0.6347125853239837|0.3221947352174422|0.6778767451831661|0.518136510768327 |0.2842669211080721|0.8964990394700657|0.2609377455174546|0.0309228294883531|0.0520234889930129|0.9691933171705986|0.9843781260735788|0.8247617098091082|0.333515951081393 |0.2932598195076287|0.5648777101547645|0.1150583177203798|0.6556052276358179|0.415562160405398 |0.0926428921716483|0.7233310073651865|0.7965229597223112|\n",
            "|425716    |1     |Cash loans        |F          |Y           |Y              |1           |121500.0        |545040.0  |25407.0    |450000.0       |Unaccompanied  |Working             |Secondary / secondary special|Married             |House / apartment  |0.007114                  |-13995    |-2246        |-348.0           |-172           |1         |1             |1              |1               |1         |0         |Secretaries          |3.0            |2                   |2                          |MONDAY                    |10                     |0                         |0                         |0                          |0                     |0                     |0                      |Business Entity Type 3|0.5934561804300743|0.6959970082869142|0.633031641417419 |0.0                       |0.0                      |0.0                       |0.0                      |0.0                      |0.0                       |0.936515338389828 |0.1794811113663977|0.843631249288449 |0.5200293606034301|0.9074207339609182|0.4422794249284736|0.3053189809992135|0.1259684497875463|0.9254843412131474|0.1987140145049811|0.7931174066402618|0.9206239058270144|0.5876971290136712|0.1938579732511186|0.7208667042031188|0.3471891372770078|0.9060160787953816|0.3296935887629841|0.8024929427873037|0.1504730828849056|0.4182843176413195|0.8680253865145166|0.2542192055010592|0.9561461192829226|0.3475957242260535|0.3414393626662286|0.7441228341235621|0.0458909962786411|0.9785605624469602|0.9618678521369446|0.9857353575154724|0.5477683964935071|0.8225287403314785|0.3921723518090736|0.4636419811819664|0.5239000955755636|0.3976215734115788|0.4838889546633561|0.5995141043585471|0.1013050738155079|0.4162601539550145|0.4042931976496069|0.1379443228288888|0.457971154221785 |0.3036911087667592|0.2150592632683809|0.8388923591826062|0.6083350684761425|0.5856425994040045|0.2984564024497547|\n",
            "|331625    |0     |Cash loans        |M          |Y           |Y              |1           |225000.0        |942300.0  |27679.5    |675000.0       |Unaccompanied  |Working             |Secondary / secondary special|Married             |Municipal apartment|0.022625                  |-21687    |-1335        |-6306.0          |-4026          |1         |1             |0              |1               |0         |0         |Laborers             |3.0            |2                   |2                          |THURSDAY                  |10                     |0                         |0                         |0                          |0                     |0                     |0                      |Self-employed         |NULL              |0.667685730843607 |0.6075573001388961|0.0                       |0.0                      |0.0                       |0.0                      |0.0                      |1.0                       |0.4998975137331247|0.9843003146950304|0.1455726341463282|0.7636231014032149|0.5171443457596231|0.2519384145675352|0.7780780735786718|0.7786328095800754|0.7113062771449137|0.6067483318542329|0.8089923560913266|0.594886194234345 |0.8613063911204201|0.2251317597915805|0.5783058949978068|0.0070191902436859|0.6513990067557386|0.1450812080384841|0.7248071441474628|0.154567761605767 |0.3794588038799703|0.9013507486464444|0.5693518172244856|0.3663495362145325|0.0040135307395363|0.1517491003011094|0.197556275383689 |0.5125625756769874|0.9327409954678024|0.4274962040530992|0.7378028391812618|0.3991055245319335|0.9003783425812003|0.3481738419030863|0.6143474100805294|0.9342287064906812|0.0062519430880727|0.5478678779508553|0.4790797173276453|0.6001690108526375|0.0377107079718221|0.1244647160244806|0.0918395888589979|0.3646005572960895|0.9782197746384984|0.5203089189277581|0.594522775942415 |0.5596504605548295|0.3618727890818375|0.2548041670769307|\n",
            "|455397    |0     |Revolving loans   |F          |N           |Y              |2           |144000.0        |180000.0  |9000.0     |180000.0       |Unaccompanied  |Commercial associate|Secondary / secondary special|Separated           |House / apartment  |0.006629                  |-13071    |-2292        |-742.0           |-1201          |1         |1             |1              |1               |1         |0         |Cooking staff        |3.0            |2                   |2                          |MONDAY                    |8                      |0                         |0                         |0                          |0                     |0                     |0                      |Restaurant            |NULL              |0.314633771944806 |0.4276573700350293|0.0                       |0.0                      |0.0                       |0.0                      |1.0                      |2.0                       |0.3151068093668098|0.7660091240077689|0.0654094194342311|0.205369507110285 |0.4269372828737069|0.6693437539447569|0.4909019637347539|0.3925656069382347|0.3463180203763523|0.0251545840598629|0.7607817495648797|0.5306272546414648|0.8481789406696117|0.7598068219094353|0.7546675773660577|0.7956262973524225|0.2425113241680749|0.8022910577595052|0.0267775988214569|0.7878700315003645|0.3550605935517387|0.1322902373485049|0.2469930358250216|0.506481095748505 |0.684924414488561 |0.2336897883118741|0.8041409948730168|0.0101316847386778|0.932630567989622 |0.0905398743880477|0.6834679040346812|0.3654663290377121|0.2803877693223642|0.6709434075171322|0.8504148016924532|0.7598345700245056|0.9798626706593572|0.9220587623620888|0.9503379501693888|0.8220620665447309|0.7846304216904584|0.8314028605097469|0.2108715081589779|0.0496391322112861|0.8142191403975102|0.8301787965200871|0.7551626329455876|0.2166639943923538|0.6030019784645395|0.429000625961821 |\n",
            "|449114    |0     |Cash loans        |F          |N           |Y              |0           |112500.0        |729792.0  |37390.5    |630000.0       |Unaccompanied  |Pensioner           |Secondary / secondary special|Civil marriage      |House / apartment  |0.04622                   |-19666    |365243       |-169.0           |-3112          |1         |0             |0              |1               |0         |0         |NULL                 |2.0            |1                   |1                          |FRIDAY                    |10                     |0                         |0                         |0                          |0                     |0                     |0                      |XNA                   |0.5995791258525762|0.5059441189933327|0.2392262794694045|0.0                       |0.0                      |0.0                       |0.0                      |1.0                      |0.0                       |0.4480885724566079|0.3749951505295266|0.6061124344655214|0.4883087432050338|0.3215281216805753|0.338131752717428 |0.8666520767290559|0.1021629884363745|0.449258626810447 |0.6045126722310337|0.6913546531663916|0.9786072157356622|0.9783471732339104|0.755776343141084 |0.0371439768050768|0.2030801831668274|0.492793377294067 |0.3343779584957446|0.4472100695623827|0.2953941682322495|0.6209383820001969|0.3220723851874109|0.2648339271438354|0.2094510712333923|0.6547364565595762|0.2645378544882055|0.1333897955960651|0.9186403306551476|0.8909324361130552|0.2433958623089458|0.1081205029196666|0.4723453470892393|0.0451637869370538|0.7460887082206624|0.469676225685585 |0.5943081374901408|0.9616978515482224|0.6080983106960267|0.0413748298164822|0.7673410692690447|0.2653810525253658|0.6553439524690605|0.6687052951863605|0.1713913665419001|0.3357022352862878|0.5854939663015881|0.6195511068142575|0.6867378529592892|0.5404492330866939|0.3436320960159504|\n",
            "|307634    |0     |Cash loans        |F          |Y           |Y              |0           |40149.0         |279000.0  |7672.5     |279000.0       |Unaccompanied  |Working             |Secondary / secondary special|Married             |House / apartment  |0.031329                  |-18299    |-4000        |-1616.0          |-1848          |1         |1             |1              |1               |0         |0         |Security staff       |2.0            |2                   |2                          |TUESDAY                   |10                     |0                         |0                         |0                          |0                     |0                     |0                      |Medicine              |NULL              |0.309801868659496 |NULL              |NULL                      |NULL                     |NULL                      |NULL                     |NULL                     |NULL                      |0.931782788263986 |0.1864541023027057|0.4598914111186241|0.1961144169908438|0.2071668996399316|0.1913720537611931|0.6595724487023439|0.0119238503981269|0.8543555763394015|0.4678588567656974|0.6851336714311324|0.1037843004212507|0.8788999000684979|0.741028942421439 |0.3560928885367268|0.2963410239148201|0.0144748328718261|0.6444612826041984|0.1626255868731776|0.3341857826676209|0.7400377490696579|0.9053211596198482|0.1682013407014451|0.6343086793496797|0.5576611621818331|0.606459718505375 |0.4518834725731554|0.7436507466097286|0.0658645694313496|0.0722147565406913|0.8134670742749298|0.0779358311658426|0.4049818490672671|0.3563975057183083|0.6802738259787953|0.2393446309667496|0.85932475930284  |0.1814782801698422|0.3359811661427355|0.1331858154074239|0.7510337080461403|0.8352429233956362|0.4773676922004124|0.1028897074044488|0.0959676932595653|0.0864289937520621|0.1851178719786685|0.1423097460099102|0.089071769895899 |0.0790060285802629|\n",
            "|184029    |0     |Cash loans        |F          |Y           |Y              |0           |337500.0        |1506816.0 |47313.0    |1350000.0      |Unaccompanied  |Working             |Higher education             |Married             |House / apartment  |0.010147                  |-20469    |-3767        |-5102.0          |-4015          |1         |1             |0              |1               |1         |0         |HR staff             |2.0            |2                   |2                          |MONDAY                    |9                      |0                         |0                         |0                          |0                     |0                     |0                      |Business Entity Type 3|NULL              |0.7927430761452733|0.6512602186973006|0.0                       |0.0                      |0.0                       |0.0                      |0.0                      |0.0                       |0.4746559414432985|0.341256287881309 |0.6572799033052416|0.9534055443797222|0.0794357447294437|0.0204931033277488|0.7276966767287458|0.8806213068103756|0.5774337148165293|0.461283779667588 |0.5094680532346403|0.9020750104180896|0.4977981095626669|0.8958550425296624|0.9749108684945178|0.1553545034773128|0.8314544914500621|0.5723772546401584|0.7855785469959424|0.6614317151789768|0.3627285326162239|0.7652657846637185|0.2948009197007617|0.5445799019115646|0.634251321783042 |0.5903212763090868|0.0042252415280359|0.6234676084608014|0.0244371557888217|0.5760871840692692|0.2855098231121142|0.1914126289384821|0.7870381858432843|0.3858425562418797|0.155721170078257 |0.8520346181308558|0.6523925785965491|0.797791161678306 |0.0535875962062254|0.4585838349691674|0.7204233931034295|0.0554869321898022|0.0984656940749758|0.9440480417837778|0.2750241792413933|0.5960307864774965|0.5773150683601768|0.5202045865240781|0.3449768304876063|0.8173054525093753|\n",
            "|279950    |0     |Cash loans        |M          |Y           |Y              |0           |247500.0        |1154655.0 |49050.0    |990000.0       |Unaccompanied  |Working             |Secondary / secondary special|Married             |House / apartment  |0.00733                   |-19103    |-169         |-5668.0          |-2612          |1         |1             |0              |1               |0         |0         |Laborers             |2.0            |2                   |2                          |TUESDAY                   |13                     |0                         |1                         |1                          |0                     |0                     |0                      |Business Entity Type 3|NULL              |0.5265896232306497|0.4614823912998385|0.0                       |0.0                      |0.0                       |0.0                      |0.0                      |3.0                       |0.5757125938059516|0.873795351112755 |0.5754469776227953|0.2457483129600399|0.3696927253442329|0.0832061746295487|0.5609109399633182|0.9336174340873508|0.8665655142459836|0.3323095714700096|0.5547062234851384|0.3158821056034032|0.4151823123527484|0.913362157863848 |0.3579633260094925|0.8486455303499516|0.9145086667107654|0.5644781226960097|0.1649609035875163|0.1549419959613468|0.1263282073374275|0.0669717788109137|0.8616576960530351|0.7613470574007996|0.7315063963310826|0.5056381607647884|0.7122911313786183|0.5661295818644477|0.8971996496278443|0.874370720281117 |0.1195003362640119|0.5598213103642349|0.7252132714017089|0.5050157636876921|0.1204920511185926|0.2507739738977036|0.8685176504368162|0.1360492156561089|0.4309051427545437|0.8080838705367134|0.6633804048125652|0.2576961722841276|0.2277367726686384|0.1788775730982833|0.9504327054752232|0.6594404916504824|0.8021099889576832|0.6043780876886727|0.1795757809374407|0.515468068768905 |\n",
            "|334424    |0     |Cash loans        |F          |N           |N              |0           |135000.0        |296280.0  |12681.0    |225000.0       |Unaccompanied  |Pensioner           |Secondary / secondary special|Civil marriage      |House / apartment  |0.006305                  |-21927    |365243       |-632.0           |-4484          |1         |0             |0              |1               |0         |0         |NULL                 |2.0            |3                   |3                          |WEDNESDAY                 |15                     |0                         |0                         |0                          |0                     |0                     |0                      |XNA                   |0.7831124529997884|0.4879442489313642|0.4596904504249018|0.0                       |0.0                      |0.0                       |1.0                      |0.0                      |1.0                       |0.1288175716834722|0.4961511346254051|0.1665118157064862|0.9446083302791064|0.5836008637985801|0.333699604788179 |0.2844520180675808|0.9075157211611888|0.6446881226513397|0.4234995948499301|0.7575777730819702|0.9280107652621816|0.4310957420716524|0.8287184968173797|0.3815655496322663|0.995635672680082 |0.927871245269282 |0.5045081655959721|0.3055919417656597|0.5020998935912204|0.1820800656088942|0.3520192076542101|0.9009878148746558|0.1743413693274562|0.0358250737823608|0.0032204718969286|0.2564337900509422|0.4718054678546231|0.2550903541395226|0.0820565787206091|0.8009234632876087|0.9045971265119432|0.6172695414999602|0.903140861560066 |0.1606336220469056|0.3855158060561979|0.756494196830794 |0.7988607882657586|0.8559047568468929|0.7289302648205751|0.6008058038278962|0.8444052875111393|0.4557300835738581|0.3456838882725218|0.3630680482055017|0.5322771675699777|0.9053768667524732|0.074121933161061 |0.1092486457328402|0.9315381110648736|\n",
            "|232884    |0     |Cash loans        |M          |N           |N              |0           |112500.0        |450000.0  |21888.0    |450000.0       |Unaccompanied  |Working             |Secondary / secondary special|Single / not married|With parents       |0.019101                  |-11949    |-624         |-6091.0          |-4174          |1         |1             |1              |1               |1         |0         |NULL                 |1.0            |2                   |2                          |TUESDAY                   |18                     |0                         |0                         |0                          |0                     |0                     |0                      |Business Entity Type 3|0.3584461330322535|0.3629709888682018|0.5744466170995097|0.0                       |0.0                      |0.0                       |0.0                      |0.0                      |3.0                       |0.5933829458004498|0.4489865782559613|0.583379949070172 |0.421032752707699 |0.564033178675373 |0.316093667897198 |0.3332951786914665|0.5306005914182615|0.9294075653667114|0.300279219784738 |0.7267926542675637|0.0753384773244411|0.7744618963817606|0.1625918551188739|0.6499873141015972|0.1150626983084799|0.0194126802647937|0.7594631497909677|0.2231002646493658|0.4074535222941324|0.4777943036327778|0.0432126218307263|0.3472040899559706|0.1018426554513187|0.8730481885561868|0.5743647409532323|0.6087586473693642|0.3656912974104175|0.9188310051057412|0.3584813066810421|0.1592925851851835|0.3858795917861166|0.8230499782659829|0.4145711060724877|0.8493707912982943|0.4936973304101427|0.2365413501944065|0.8503875341033055|0.3347182721470703|0.0668177312181903|0.6714953163345173|0.2315464615189342|0.7601654895837482|0.0706971903775557|0.4586108426453323|0.9949377966393996|0.3972673482561444|0.3339835652768995|0.2162127055327368|0.252603044278412 |\n",
            "+----------+------+------------------+-----------+------------+---------------+------------+----------------+----------+-----------+---------------+---------------+--------------------+-----------------------------+--------------------+-------------------+--------------------------+----------+-------------+-----------------+---------------+----------+--------------+---------------+----------------+----------+----------+---------------------+---------------+--------------------+---------------------------+--------------------------+-----------------------+--------------------------+--------------------------+---------------------------+----------------------+----------------------+-----------------------+----------------------+------------------+------------------+------------------+--------------------------+-------------------------+--------------------------+-------------------------+-------------------------+--------------------------+------------------+------------------+------------------+------------------+------------------+------------------+------------------+------------------+------------------+------------------+------------------+------------------+------------------+------------------+------------------+------------------+------------------+------------------+------------------+------------------+------------------+------------------+------------------+------------------+------------------+------------------+------------------+------------------+------------------+------------------+------------------+------------------+------------------+------------------+------------------+------------------+------------------+------------------+------------------+------------------+------------------+------------------+------------------+------------------+------------------+------------------+------------------+------------------+------------------+------------------+\n",
            "only showing top 10 rows\n",
            "\n"
          ]
        }
      ],
      "source": [
        "df_application_train_01.show(10,False)"
      ]
    },
    {
      "cell_type": "markdown",
      "source": [
        "#### Análise Estatística das Variáveis Numéricas"
      ],
      "metadata": {
        "id": "EHjNIweOOhP6"
      }
    },
    {
      "cell_type": "code",
      "source": [
        "numeric_columns = [col_name for col_name, col_type in df_application_train_01.dtypes if col_type in ['int', 'double']]\n",
        "df_numeric_summary = df_application_train_01.select(numeric_columns).describe()\n",
        "df_numeric_summary.show()"
      ],
      "metadata": {
        "colab": {
          "base_uri": "https://localhost:8080/"
        },
        "id": "--O9FcHPKvUg",
        "outputId": "59217973-cb85-4f5e-9858-670bf681209c"
      },
      "execution_count": null,
      "outputs": [
        {
          "output_type": "stream",
          "name": "stdout",
          "text": [
            "+-------+------------------+-------------------+-------------------+------------------+------------------+-----------------+-----------------+--------------------------+-------------------+------------------+------------------+------------------+--------------------+-------------------+-------------------+--------------------+-------------------+-------------------+------------------+--------------------+---------------------------+-----------------------+--------------------------+--------------------------+---------------------------+----------------------+----------------------+-----------------------+-------------------+--------------------+-------------------+--------------------------+-------------------------+--------------------------+-------------------------+-------------------------+--------------------------+--------------------+--------------------+--------------------+--------------------+--------------------+--------------------+--------------------+--------------------+--------------------+--------------------+--------------------+--------------------+--------------------+--------------------+--------------------+--------------------+--------------------+--------------------+--------------------+--------------------+--------------------+--------------------+--------------------+--------------------+--------------------+--------------------+--------------------+-------------------+--------------------+--------------------+--------------------+--------------------+--------------------+--------------------+--------------------+--------------------+--------------------+--------------------+--------------------+--------------------+--------------------+--------------------+--------------------+--------------------+--------------------+--------------------+--------------------+-------------------+--------------------+-------------------+\n",
            "|summary|        SK_ID_CURR|             TARGET|       CNT_CHILDREN|  AMT_INCOME_TOTAL|        AMT_CREDIT|      AMT_ANNUITY|  AMT_GOODS_PRICE|REGION_POPULATION_RELATIVE|         DAYS_BIRTH|     DAYS_EMPLOYED| DAYS_REGISTRATION|   DAYS_ID_PUBLISH|          FLAG_MOBIL|     FLAG_EMP_PHONE|    FLAG_WORK_PHONE|    FLAG_CONT_MOBILE|         FLAG_PHONE|         FLAG_EMAIL|   CNT_FAM_MEMBERS|REGION_RATING_CLIENT|REGION_RATING_CLIENT_W_CITY|HOUR_APPR_PROCESS_START|REG_REGION_NOT_LIVE_REGION|REG_REGION_NOT_WORK_REGION|LIVE_REGION_NOT_WORK_REGION|REG_CITY_NOT_LIVE_CITY|REG_CITY_NOT_WORK_CITY|LIVE_CITY_NOT_WORK_CITY|       EXT_SOURCE_1|        EXT_SOURCE_2|       EXT_SOURCE_3|AMT_REQ_CREDIT_BUREAU_HOUR|AMT_REQ_CREDIT_BUREAU_DAY|AMT_REQ_CREDIT_BUREAU_WEEK|AMT_REQ_CREDIT_BUREAU_MON|AMT_REQ_CREDIT_BUREAU_QRT|AMT_REQ_CREDIT_BUREAU_YEAR|               var_1|               var_2|               var_3|               var_4|               var_5|               var_6|               var_7|               var_8|               var_9|              var_10|              var_11|              var_12|              var_13|              var_14|              var_15|              var_16|              var_17|              var_18|              var_19|              var_20|              var_21|              var_22|              var_23|              var_24|              var_25|              var_26|              var_27|             var_28|              var_29|              var_30|              var_31|              var_32|              var_33|              var_34|              var_35|              var_36|              var_37|              var_38|              var_39|              var_40|              var_41|              var_42|              var_43|              var_44|              var_45|              var_46|              var_47|             var_48|              var_49|             var_50|\n",
            "+-------+------------------+-------------------+-------------------+------------------+------------------+-----------------+-----------------+--------------------------+-------------------+------------------+------------------+------------------+--------------------+-------------------+-------------------+--------------------+-------------------+-------------------+------------------+--------------------+---------------------------+-----------------------+--------------------------+--------------------------+---------------------------+----------------------+----------------------+-----------------------+-------------------+--------------------+-------------------+--------------------------+-------------------------+--------------------------+-------------------------+-------------------------+--------------------------+--------------------+--------------------+--------------------+--------------------+--------------------+--------------------+--------------------+--------------------+--------------------+--------------------+--------------------+--------------------+--------------------+--------------------+--------------------+--------------------+--------------------+--------------------+--------------------+--------------------+--------------------+--------------------+--------------------+--------------------+--------------------+--------------------+--------------------+-------------------+--------------------+--------------------+--------------------+--------------------+--------------------+--------------------+--------------------+--------------------+--------------------+--------------------+--------------------+--------------------+--------------------+--------------------+--------------------+--------------------+--------------------+--------------------+--------------------+-------------------+--------------------+-------------------+\n",
            "|  count|            215257|             215257|             215257|            215257|            215257|           215249|           215058|                    215257|             215257|            215257|            215257|            215257|              215257|             215257|             215257|              215257|             215257|             215257|            215256|              215257|                     215257|                 215257|                    215257|                    215257|                     215257|                215257|                215257|                 215257|              94008|              214784|             172420|                    186107|                   186107|                    186107|                   186107|                   186107|                    186107|              215257|              215257|              215257|              215257|              215257|              215257|              215257|              215257|              215257|              215257|              215257|              215257|              215257|              215257|              215257|              215257|              215257|              215257|              215257|              215257|              215257|              215257|              215257|              215257|              215257|              215257|              215257|             215257|              215257|              215257|              215257|              215257|              215257|              215257|              215257|              215257|              215257|              215257|              215257|              215257|              215257|              215257|              215257|              215257|              215257|              215257|              215257|             215257|              215257|             215257|\n",
            "|   mean|278236.38713723596|0.08088935551457095|0.41663685733797273|168556.84834574486| 599495.9984251383|27119.68176158774|538826.9010476244|       0.02086897371513813|-16033.152241274383| 63737.36579065954|   -4979.871219248|-2991.410295600143|  0.9999953543903334| 0.8201034112711781|0.19906437421314988|  0.9980441983303678|0.28043222752337904|0.05716887255699002|2.1531107146839115|   2.052518617280739|         2.0313299915914467|     12.063905006573538|      0.015344448728728914|       0.05109706072276395|       0.040834908969278584|    0.0784968665362799|   0.23021783263726614|    0.17905108776950343| 0.5023237059767551|  0.5141921034667131| 0.5110699709936147|      0.006415664107207144|     0.006646713987114...|      0.034259861262606994|      0.26731933780029765|       0.2660297570752309|        1.8994288232038559|  0.4983530883999701|  0.4992970731307185|  0.5005541641987963|  0.4985849037396244|   0.500355394035378|  0.4996306509927012|  0.5002565324517189|  0.5002197908727047|  0.5002485579835438|  0.4994846980856967|  0.4997654280971455|  0.5008823374210929|  0.5003096643024817|  0.4996073028921406|  0.5011246759357632|  0.5002717471937224|  0.5008048612943421|  0.5003699301491409|  0.4984067625096475| 0.49946790953458486| 0.49985625151276497|  0.5003347025018803|  0.5001144498188898|  0.5007638131399973|  0.4996882154803528|  0.5002855469529326| 0.49899747952474127|0.49990685103472204|  0.5000598543408636|  0.4998104013754331|  0.4999336841970297|  0.5004659003857173|  0.5005350017170778|    0.50024534232476|  0.5002673845530465|  0.4992186695134377|  0.4991092238175051|  0.4998739596619978|  0.5001169139129311|  0.4998515859040225|  0.5000397067153658|  0.5003873829566351|  0.4997585864938891|  0.4997140828671204|   0.500410679303035|  0.5006018249452296|    0.49978081691322| 0.5006182282970468| 0.49947573116000105| 0.4995377948010949|\n",
            "| stddev|102885.02958926655| 0.2726657533764607| 0.7196954844395538|105855.71853675364|402898.91440575727|14522.02187611499|369816.1495158259|      0.013828949644271784|  4361.858114767585|141210.76529787848|3522.6653716046744|1508.9560901693144|0.002155367640701...|0.38410218885111125|0.39929749538566633|0.044181280850878926|0.44921145436370374|0.23216555078182732| 0.908398422483057|  0.5094221178475382|         0.5029492244406983|     3.2671958200343862|       0.12291894407603433|       0.22019622239501938|         0.1979080623323238|    0.2689524949177949|    0.4209731647749112|    0.38339598147051634|0.21077178881295686| 0.19110846878044047|0.19473869375421007|       0.08390962142698714|      0.10659877304580413|       0.20513696604711304|       0.9133432564955967|       0.6140334689947042|        1.8707247323633676|   0.289649435273795|  0.2887218982650492|  0.2884772096024715| 0.28862863225622165| 0.28821407200424637|  0.2887510535975949|  0.2890319138116238|  0.2883726185939828| 0.28851717596621407|   0.288826109372798|  0.2882947078047542| 0.28865215483480894| 0.28938277376685667|  0.2890784979887513| 0.28836164051829244|  0.2889468728645816|  0.2883557885400769| 0.28899003403467444| 0.28884951233510686| 0.28883488177452227|  0.2887886427744277|  0.2887206182444566| 0.28888950668719515| 0.28855873864127896| 0.28872097206175723| 0.28863995278998106|  0.2889627291526254| 0.2888046711263468|  0.2889438968907014| 0.28879470267999674|   0.288433222862999| 0.28850232634643286|  0.2892164154570972| 0.28854336469207714|  0.2886814868387616|  0.2889574876909066| 0.28855192060810725|  0.2887096431068468| 0.28843347536468583| 0.28850820268046207|    0.28863077333289|  0.2888735960677257|  0.2888542990312543| 0.28868894715171506|  0.2886779567751442|  0.2880516617338925| 0.28841108621846145|0.28828615755084697|  0.2886848464302471| 0.2885048721256452|\n",
            "|    min|            100003|                  0|                  0|           25650.0|           45000.0|           1615.5|          40500.0|                    2.9E-4|             -25229|            -17912|          -23416.0|             -7197|                   0|                  0|                  0|                   0|                  0|                  0|               1.0|                   1|                          1|                      0|                         0|                         0|                          0|                     0|                     0|                      0| 0.0145681324124455|8.173616518884397E-8|  5.272652387098E-4|                       0.0|                      0.0|                       0.0|                      0.0|                      0.0|                       0.0|1.105251638877646...|3.598772177704212...|9.062947014304434E-6|2.137333152352205E-6|1.567702179738894...|4.919894042387796E-6|6.360925160264763E-6|2.022923795619302...|2.582816149843125...|5.635749489196762E-6|2.182452686461112E-6|6.844908070346989E-7|6.792384622644754E-6|5.239730084261041E-7|1.655104467812584...|2.528330879547624...|8.893619579453116E-6|6.491312798395654E-8|2.867589987687324...|2.553230498136827E-7|3.666046612949003E-7|2.222527848649846...|2.795196712201964E-6|2.329982809023967E-6|4.041820915401395E-6|2.352374662839551...|2.729113342647693E-6|4.19793625339171E-6|4.189483509220437E-6|6.473542009222122E-6|5.244327971332119E-6|6.174181783724641...|8.467541774748177E-6|5.791024541013101E-7|4.284795692588439E-6|1.308183886394864...|3.745613017414051E-6|9.427679925400057E-6|2.135916956969019...|1.420556640097103...|4.701626510339452...|2.164764410395037E-6|1.012999537430836...|4.582410571440931E-6|1.596289814487228...|4.225255715861742E-6|7.727733725482189E-6|1.01420214410064E-5|1.708805868838592E-5|6.38717464995775E-6|\n",
            "|    max|            456255|                  1|                 19|            1.35E7|         4050000.0|         258025.5|        4050000.0|                  0.072508|              -7489|            365243|               0.0|                 0|                   1|                  1|                  1|                   1|                  1|                  1|              20.0|                   3|                          3|                     23|                         1|                         1|                          1|                     1|                     1|                      1| 0.9516239622079844|  0.8549996664047012| 0.8960095494948396|                       3.0|                      9.0|                       8.0|                     27.0|                     19.0|                      25.0|  0.9999974669682884|  0.9999994945474951|  0.9999995404981032|  0.9999952237713462|  0.9999955843504904|  0.9999952141346772|  0.9999991154587182|  0.9999869669623508|  0.9999981699078808|  0.9999995337529948|  0.9999948393246184|  0.9999937636393336|  0.9999973315062336|  0.9999998424722408|  0.9999996827705304|   0.999995220055986|  0.9999986137914928|   0.999993988191276|   0.999996844143593|  0.9999991188262068|  0.9999897821926412|  0.9999900439496664|  0.9999939552847398|  0.9999995420465309|  0.9999991032734692|   0.999999894723404|   0.999984819118599| 0.9999961242932583|  0.9999929061543302|  0.9999942974525846|  0.9999962599759414|  0.9999985967598496|  0.9999982851424348|   0.999989562203146|  0.9999933158333096|  0.9999901545228012|  0.9999904910661565|  0.9999982506925104|  0.9999996921477942|  0.9999956052690836|  0.9999889809424376|  0.9999944016966617|  0.9999876316694116|   0.999998118389394|   0.999997245145208|   0.999980676995059|  0.9999970781786977| 0.9999943091773406|  0.9999751380142772| 0.9999967200176326|\n",
            "+-------+------------------+-------------------+-------------------+------------------+------------------+-----------------+-----------------+--------------------------+-------------------+------------------+------------------+------------------+--------------------+-------------------+-------------------+--------------------+-------------------+-------------------+------------------+--------------------+---------------------------+-----------------------+--------------------------+--------------------------+---------------------------+----------------------+----------------------+-----------------------+-------------------+--------------------+-------------------+--------------------------+-------------------------+--------------------------+-------------------------+-------------------------+--------------------------+--------------------+--------------------+--------------------+--------------------+--------------------+--------------------+--------------------+--------------------+--------------------+--------------------+--------------------+--------------------+--------------------+--------------------+--------------------+--------------------+--------------------+--------------------+--------------------+--------------------+--------------------+--------------------+--------------------+--------------------+--------------------+--------------------+--------------------+-------------------+--------------------+--------------------+--------------------+--------------------+--------------------+--------------------+--------------------+--------------------+--------------------+--------------------+--------------------+--------------------+--------------------+--------------------+--------------------+--------------------+--------------------+--------------------+--------------------+-------------------+--------------------+-------------------+\n",
            "\n"
          ]
        }
      ]
    },
    {
      "cell_type": "markdown",
      "metadata": {
        "id": "jvgXpXzMQm7_"
      },
      "source": [
        "###Quantidade de contratos na base de dados"
      ]
    },
    {
      "cell_type": "code",
      "execution_count": null,
      "metadata": {
        "colab": {
          "base_uri": "https://localhost:8080/"
        },
        "id": "NiuYuHhWPb3H",
        "outputId": "451ee253-bc1b-4f3b-ead7-a81127462eaa"
      },
      "outputs": [
        {
          "output_type": "stream",
          "name": "stdout",
          "text": [
            "+--------+\n",
            "|COUNT_ID|\n",
            "+--------+\n",
            "|  215257|\n",
            "+--------+\n",
            "\n"
          ]
        }
      ],
      "source": [
        "spark.sql(\"\"\"\n",
        "select\n",
        "  count(SK_ID_CURR) as COUNT_ID\n",
        "from\n",
        "  df_application_train_01\n",
        "\"\"\").show()"
      ]
    },
    {
      "cell_type": "markdown",
      "metadata": {
        "id": "vj6bCMP2QtEN"
      },
      "source": [
        "###Análise da Variável Target\n",
        "\n",
        "Conduzi uma consulta SQL para a variável `TARGET` que determina a porcentagem de \"bons\" e \"maus\" clientes na base de dados. Visualizei os resultados usando gráfico de pizza, que forneceu uma representação visual da distribuição das classes da variável target."
      ]
    },
    {
      "cell_type": "code",
      "execution_count": null,
      "metadata": {
        "colab": {
          "base_uri": "https://localhost:8080/"
        },
        "id": "f3djW26vIP9L",
        "outputId": "692c2b92-4533-4d2c-cd4a-799689bc6d8a"
      },
      "outputs": [
        {
          "output_type": "stream",
          "name": "stdout",
          "text": [
            "+------+------+-----------+\n",
            "|TARGET| TOTAL|PORCENTAGEM|\n",
            "+------+------+-----------+\n",
            "|     1| 17412|       8.09|\n",
            "|     0|197845|      91.91|\n",
            "+------+------+-----------+\n",
            "\n"
          ]
        }
      ],
      "source": [
        "resultado_target=spark.sql(\"\"\"\n",
        "select\n",
        "  TARGET,\n",
        "  count(*) as TOTAL,\n",
        "  round(count(*)* 100/ (select count(*)from df_application_train_01),2) as PORCENTAGEM\n",
        "from\n",
        "  df_application_train_01\n",
        "group by\n",
        "  TARGET;\n",
        "\"\"\").show()"
      ]
    },
    {
      "cell_type": "code",
      "source": [
        "# Contar os valores únicos da variável target\n",
        "contagem_target = df_application_train_01['TARGET'].value_counts()\n",
        "\n",
        "# Preparar os dados para o gráfico de pizza\n",
        "labels = contagem_target.index\n",
        "sizes = contagem_target.values\n",
        "\n",
        "# Cores personalizadas\n",
        "cores = '#7EA1C4','#E08448'\n",
        "#0B86E3 #1B365C\n",
        "# Criar o gráfico de pizza\n",
        "plt.figure(figsize=(4, 4))\n",
        "plt.pie(sizes, labels=labels, autopct='%1.1f%%', startangle=140, colors=cores)\n",
        "plt.title('Distribuição da Variável Target')\n",
        "plt.axis('equal')  # Garante que o gráfico seja um círculo\n",
        "plt.show()\n"
      ],
      "metadata": {
        "colab": {
          "base_uri": "https://localhost:8080/",
          "height": 367
        },
        "id": "cUuCHMK5jdj3",
        "outputId": "abaeb41a-dceb-4e61-c88f-395189872efb"
      },
      "execution_count": 35,
      "outputs": [
        {
          "output_type": "display_data",
          "data": {
            "text/plain": [
              "<Figure size 400x400 with 1 Axes>"
            ],
            "image/png": "[encoded data removed]"
          },
          "metadata": {}
        }
      ]
    },
    {
      "cell_type": "markdown",
      "source": [
        "Na base de dados, a maioria dos clientes é classificada como \"bons pagadores\", representando aproximadamente 91,9% do total (TARGET 0), enquanto cerca de 8,9% são identificados como \"maus pagadores\" (TARGET 1)."
      ],
      "metadata": {
        "id": "fmeUzNE6MMKo"
      }
    },
    {
      "cell_type": "markdown",
      "source": [
        "### Análise da Variável Idade"
      ],
      "metadata": {
        "id": "rTR3yZpp_0Zp"
      }
    },
    {
      "cell_type": "code",
      "source": [
        "spark.sql(\"\"\"\n",
        "select\n",
        "    min(round(abs(DAYS_BIRTH) / 365, 2)) as MIN_IDADE,\n",
        "    round(avg(round(abs(DAYS_BIRTH) / 365, 2)),2) as MEDIA_IDADE,\n",
        "    max(round(abs(DAYS_BIRTH) / 365, 2)) as MAX_IDADE\n",
        "from\n",
        "    df_application_train_01\n",
        "\"\"\").show()\n"
      ],
      "metadata": {
        "colab": {
          "base_uri": "https://localhost:8080/"
        },
        "id": "1XrrkLbvGL_X",
        "outputId": "7fe76052-77f7-4ac3-c62a-ddebc1a1295a"
      },
      "execution_count": null,
      "outputs": [
        {
          "output_type": "stream",
          "name": "stdout",
          "text": [
            "+---------+-----------+---------+\n",
            "|MIN_IDADE|MEDIA_IDADE|MAX_IDADE|\n",
            "+---------+-----------+---------+\n",
            "|    20.52|      43.93|    69.12|\n",
            "+---------+-----------+---------+\n",
            "\n"
          ]
        }
      ]
    },
    {
      "cell_type": "markdown",
      "source": [
        "####Análise da Relação da Idade com Target\n",
        "\n",
        "Essa consulta analisa a distribuição da idade dos clientes em diferentes faixas etárias, segmentando-os de acordo com o target. O objetivo é entender como a idade dos clientes está relacionada à probabilidade de inadimplência."
      ],
      "metadata": {
        "id": "PXYpSKMgFdo2"
      }
    },
    {
      "cell_type": "code",
      "source": [
        "df_idade_target = spark.sql(\"\"\"\n",
        "select\n",
        "  TARGET,\n",
        "   case\n",
        "        when AGE >= 20 and age < 30 then '20-29'\n",
        "        when AGE >= 30 and age < 40 then '30-39'\n",
        "        when AGE >= 40 and age < 50 then '40-49'\n",
        "        when AGE >= 50 and age < 60 then '50-59'\n",
        "        else '60+'\n",
        "    end as FAIXA_IDADE,\n",
        "    count(*) as QUANT_CLIENTES\n",
        "from (\n",
        "    select\n",
        "        TARGET,\n",
        "        round(abs(DAYS_BIRTH) / 365) as AGE\n",
        "    from\n",
        "        df_application_train_01\n",
        ") temp\n",
        "group by\n",
        "    TARGET,\n",
        "    FAIXA_IDADE\n",
        "order by\n",
        "    TARGET,\n",
        "    FAIXA_IDADE\n",
        "\"\"\")\n",
        "df_idade_target.show()\n"
      ],
      "metadata": {
        "colab": {
          "base_uri": "https://localhost:8080/"
        },
        "id": "IY_DP6nyAha6",
        "outputId": "85cedf1c-6fda-473b-e5f3-e1fb4b5bec16"
      },
      "execution_count": 16,
      "outputs": [
        {
          "output_type": "stream",
          "name": "stdout",
          "text": [
            "+------+-----------+--------------+\n",
            "|TARGET|FAIXA_IDADE|QUANT_CLIENTES|\n",
            "+------+-----------+--------------+\n",
            "|     0|      20-29|         25480|\n",
            "|     0|      30-39|         51817|\n",
            "|     0|      40-49|         49968|\n",
            "|     0|      50-59|         44753|\n",
            "|     0|        60+|         25827|\n",
            "|     1|      20-29|          3337|\n",
            "|     1|      30-39|          5558|\n",
            "|     1|      40-49|          4218|\n",
            "|     1|      50-59|          2936|\n",
            "|     1|        60+|          1363|\n",
            "+------+-----------+--------------+\n",
            "\n"
          ]
        }
      ]
    },
    {
      "cell_type": "markdown",
      "source": [
        "####Visualização da Idade por Faixa para o Target 1"
      ],
      "metadata": {
        "id": "WFWYDdW0B6BX"
      }
    },
    {
      "cell_type": "code",
      "source": [
        "# Filtrar os dados para o alvo 1\n",
        "df_idade_target1 = df_idade_target.filter(df_idade_target['TARGET'] == 1)\n",
        "\n",
        "# Extrair os dados do DataFrame\n",
        "faixas_idade = df_idade_target1.select('FAIXA_IDADE').rdd.flatMap(lambda x: x).collect()\n",
        "quantidades_clientes = df_idade_target1.select('QUANT_CLIENTES').rdd.flatMap(lambda x: x).collect()\n",
        "\n",
        "# Criar o gráfico de barras\n",
        "plt.figure(figsize=(6, 4))\n",
        "plt.bar(faixas_idade, quantidades_clientes, color='#84A9CF')\n",
        "plt.title('Distribuição de Idade por Faixa para o Target 1')\n",
        "plt.xticks(rotation=45)\n",
        "plt.tight_layout()\n",
        "plt.show()\n"
      ],
      "metadata": {
        "colab": {
          "base_uri": "https://localhost:8080/",
          "height": 407
        },
        "id": "QaC2XkIeCqyK",
        "outputId": "071433c8-62fd-47c8-90ed-f0ebfd5a85a2"
      },
      "execution_count": 36,
      "outputs": [
        {
          "output_type": "display_data",
          "data": {
            "text/plain": [
              "<Figure size 600x400 with 1 Axes>"
            ],
            "image/png": "[encoded data removed]"
          },
          "metadata": {}
        }
      ]
    },
    {
      "cell_type": "markdown",
      "source": [
        "A faixa etária mais comum entre os clientes inadimplentes está entre 30 e 39 anos, com um total de 5.558 clientes.\n",
        "\n",
        "As faixas etárias seguintes em ordem de quantidade decrescente são 40-49 anos (4.218 clientes), 20-29 anos (3.337 clientes), 50-59 anos (2.936 clientes) e 60+ anos (1.363 clientes).\n",
        "\n",
        "Isso sugere que os clientes na faixa etária de 30 a 39 anos são os mais frequentemente associados à inadimplência, o que pode indicar um segmento demográfico com maior risco de não pagamento."
      ],
      "metadata": {
        "id": "8KaFq9sgD1Na"
      }
    },
    {
      "cell_type": "markdown",
      "metadata": {
        "id": "5WeC-EYXQ_n9"
      },
      "source": [
        "###Análise da Variável Tipo de Contrato"
      ]
    },
    {
      "cell_type": "code",
      "execution_count": 18,
      "metadata": {
        "colab": {
          "base_uri": "https://localhost:8080/"
        },
        "id": "vyeiSSUsMyvH",
        "outputId": "ecc19995-98a6-4639-b147-440ba71708db"
      },
      "outputs": [
        {
          "output_type": "stream",
          "name": "stdout",
          "text": [
            "+------------------+-------------+-----------+\n",
            "|NAME_CONTRACT_TYPE|tipo_contrato|PORCENTAGEM|\n",
            "+------------------+-------------+-----------+\n",
            "|   Revolving loans|        20594|       9.57|\n",
            "|        Cash loans|       194663|      90.43|\n",
            "+------------------+-------------+-----------+\n",
            "\n"
          ]
        }
      ],
      "source": [
        "df_tipo_contrato = spark.sql(\"\"\"\n",
        "select\n",
        "  NAME_CONTRACT_TYPE,\n",
        "  count(*) as tipo_contrato,\n",
        "  round(count(*)* 100/ (select count(*)from df_application_train),2) as PORCENTAGEM\n",
        "from\n",
        "  df_application_train_01\n",
        "group by\n",
        "  NAME_CONTRACT_TYPE;\n",
        "\"\"\")\n",
        "df_tipo_contrato.show()"
      ]
    },
    {
      "cell_type": "markdown",
      "source": [
        "####Visualização da Variável Tipo de Contrato"
      ],
      "metadata": {
        "id": "Yg9NUpxCBz46"
      }
    },
    {
      "cell_type": "code",
      "source": [
        "# Obter os resultados da consulta\n",
        "df_tipo_contrato01 = df_tipo_contrato.toPandas()\n",
        "\n",
        "# Criar o gráfico de barras\n",
        "plt.figure(figsize=(6, 4))\n",
        "barras = plt.bar(df_tipo_contrato01['NAME_CONTRACT_TYPE'], df_tipo_contrato01['PORCENTAGEM'], color='#84A9CF',width=0.5)\n",
        "\n",
        "# Adicionar as porcentagens em cada barra\n",
        "for barra in barras:\n",
        "    altura = barra.get_height()\n",
        "    plt.text(barra.get_x() + barra.get_width() / 2, altura, f'{altura}%', ha='center', va='bottom')\n",
        "\n",
        "# Definir rótulos e título\n",
        "\n",
        "plt.title('Número de Contratos por Tipo')\n",
        "\n",
        "# Ajustar o layout\n",
        "plt.xticks(rotation=0)\n",
        "plt.tight_layout()\n",
        "# Remover rótulos do eixo x\n",
        "plt.yticks([])\n",
        "# Exibir o gráfico\n",
        "plt.show()"
      ],
      "metadata": {
        "colab": {
          "base_uri": "https://localhost:8080/",
          "height": 407
        },
        "id": "IGzKNvWi2WFs",
        "outputId": "3d43b8f4-6323-4184-fbb6-042e48e399cf"
      },
      "execution_count": 37,
      "outputs": [
        {
          "output_type": "display_data",
          "data": {
            "text/plain": [
              "<Figure size 600x400 with 1 Axes>"
            ],
            "image/png": "[encoded data removed]"
          },
          "metadata": {}
        }
      ]
    },
    {
      "cell_type": "markdown",
      "source": [
        "####Análise da Relação entre Tipo de Contrato e Target\n",
        "\n",
        "A consulta abaixo apresenta os resultados da análise da relação entre o tipo de contrato e o target. Ela conta o número de ocorrências para cada combinação de tipo de contrato e target, além de calcular a porcentagem de cada combinação em relação ao total de ocorrências para cada tipo de contrato.\n",
        "\n",
        "O gráfico de barras abaixo representa visualmente os resultados da análise."
      ],
      "metadata": {
        "id": "_COmhF_ymywG"
      }
    },
    {
      "cell_type": "code",
      "source": [
        "df_contrato_target = spark.sql(\"\"\"\n",
        "select\n",
        "    NAME_CONTRACT_TYPE,\n",
        "    TARGET,\n",
        "    count(*) as QUANT_CLIENTES,\n",
        "    round(count(*) * 100 / sum(count(*)) over (partition by NAME_CONTRACT_TYPE), 2) as PORCENTAGEM\n",
        "from\n",
        "    df_application_train_01\n",
        "group by\n",
        "    NAME_CONTRACT_TYPE,\n",
        "    TARGET\n",
        "\"\"\")\n",
        "df_contrato_target.show()"
      ],
      "metadata": {
        "colab": {
          "base_uri": "https://localhost:8080/"
        },
        "id": "XEl_GlGD7jjb",
        "outputId": "b2d11eab-f8aa-424a-977e-cf3c9dd29587"
      },
      "execution_count": 39,
      "outputs": [
        {
          "output_type": "stream",
          "name": "stdout",
          "text": [
            "+------------------+------+--------------+-----------+\n",
            "|NAME_CONTRACT_TYPE|TARGET|QUANT_CLIENTES|PORCENTAGEM|\n",
            "+------------------+------+--------------+-----------+\n",
            "|        Cash loans|     0|        178371|      91.63|\n",
            "|        Cash loans|     1|         16292|       8.37|\n",
            "|   Revolving loans|     1|          1120|       5.44|\n",
            "|   Revolving loans|     0|         19474|      94.56|\n",
            "+------------------+------+--------------+-----------+\n",
            "\n"
          ]
        }
      ]
    },
    {
      "cell_type": "markdown",
      "source": [
        "####Visualização da Variável Tipo de Contrato em Relação ao Target"
      ],
      "metadata": {
        "id": "lEZzXgibBnev"
      }
    },
    {
      "cell_type": "code",
      "source": [
        "# Converter o DataFrame Spark para um DataFrame Pandas\n",
        "df_contrato_target01 = df_contrato_target.toPandas()\n",
        "\n",
        "# Plotar o gráfico de barras\n",
        "plt.figure(figsize=(6, 4))\n",
        "sns.barplot(data=df_contrato_target01, x='NAME_CONTRACT_TYPE', y='QUANT_CLIENTES', hue='TARGET')\n",
        "\n",
        "# Definir título\n",
        "plt.title('Distribuição das Classes do Target por Tipo de Contrato')\n",
        "\n",
        "# Remover os títulos dos eixos x e y\n",
        "plt.xlabel('')\n",
        "plt.ylabel('')\n",
        "\n",
        "# Mostrar o gráfico\n",
        "plt.xticks(rotation=0)\n",
        "plt.legend(title='Target', loc='upper right')\n",
        "plt.tight_layout()\n",
        "plt.show()"
      ],
      "metadata": {
        "colab": {
          "base_uri": "https://localhost:8080/",
          "height": 407
        },
        "id": "GehGJ6iZ7oqS",
        "outputId": "c5afcc06-ed64-4531-af8a-6cbbfee2a7c8"
      },
      "execution_count": 41,
      "outputs": [
        {
          "output_type": "display_data",
          "data": {
            "text/plain": [
              "<Figure size 600x400 with 1 Axes>"
            ],
            "image/png": "[encoded data removed]"
          },
          "metadata": {}
        }
      ]
    },
    {
      "cell_type": "markdown",
      "source": [
        "A maioria dos clientes possui empréstimos do tipo \"Cash loans\" em comparação com \"Revolving loans\".\n",
        "\n",
        "Para ambos os tipos de empréstimos, a grande maioria dos clientes tem status \"0\" (sem inadimplência), representando 91.63% para \"Cash loans\" e 94.56% para \"Revolving loans\".\n",
        "\n",
        "No entanto, o percentual de clientes com inadimplência é significativamente maior para \"Cash loans\" (8.37%) em comparação com \"Revolving loans\" (5.44%)."
      ],
      "metadata": {
        "id": "TBOr5JSTJE6o"
      }
    },
    {
      "cell_type": "markdown",
      "metadata": {
        "id": "P6cdrMdx88jl"
      },
      "source": [
        "###Análise da Variável Renda Total\n",
        "\n",
        "Essa consulta analise a media, minimo maximo da renda do cliente, retirando um missing values de '1.35E7'"
      ]
    },
    {
      "cell_type": "code",
      "execution_count": null,
      "metadata": {
        "colab": {
          "base_uri": "https://localhost:8080/"
        },
        "id": "HjWJ02BnRN7B",
        "outputId": "8a27aa73-348d-4a52-a5af-90297a3c08fe"
      },
      "outputs": [
        {
          "output_type": "stream",
          "name": "stdout",
          "text": [
            "+---------+---------+---------+\n",
            "|MED_RENDA|MIN_RENDA|MAX_RENDA|\n",
            "+---------+---------+---------+\n",
            "|168494.92|  25650.0|9000000.0|\n",
            "+---------+---------+---------+\n",
            "\n"
          ]
        }
      ],
      "source": [
        "spark.sql(\"\"\"\n",
        "select\n",
        "    round(avg(AMT_INCOME_TOTAL),2) as MED_RENDA,\n",
        "    round(min(AMT_INCOME_TOTAL),2) as MIN_RENDA,\n",
        "    round(max(AMT_INCOME_TOTAL),2) as MAX_RENDA\n",
        "from\n",
        "    df_application_train_01\n",
        "where\n",
        "    AMT_INCOME_TOTAL != '1.35E7'\n",
        "\"\"\").show()"
      ]
    },
    {
      "cell_type": "markdown",
      "source": [
        "####Visualização da Relação entre Renda Total e Target\n",
        "\n",
        "O boxplot abaixo representa a relação entre a renda total e o target. Ele mostra a distribuição da renda total para os grupos de clientes classificados como \"Bons\" (0) e \"Maus\" (1), de acordo com o target."
      ],
      "metadata": {
        "id": "683zMPI5oO7S"
      }
    },
    {
      "cell_type": "code",
      "source": [
        "# Filtrar o DataFrame para excluir o valor 1.35E7 na coluna 'AMT_INCOME_TOTAL'\n",
        "df_application_train_01 = df_application_train_01[df_application_train_01['AMT_INCOME_TOTAL'] != 1.35E7]\n",
        "\n",
        "# Criar o boxplot\n",
        "plt.figure(figsize=(6, 4))\n",
        "sns.boxplot(data=df_application_train, x='TARGET', y='AMT_INCOME_TOTAL')\n",
        "\n",
        "# Definir título\n",
        "\n",
        "plt.title('Relação entre Renda Total e Target')\n",
        "\n",
        "# Remover os títulos dos eixos x e y\n",
        "plt.xlabel('')\n",
        "plt.ylabel('')\n",
        "\n",
        "# Mostrar o gráfico\n",
        "plt.xticks(ticks=[0, 1], labels=['\"Bons\"', '\"Maus\"'])\n",
        "plt.tight_layout()\n",
        "plt.show()"
      ],
      "metadata": {
        "colab": {
          "base_uri": "https://localhost:8080/",
          "height": 407
        },
        "id": "yEJ9TAnYbpgp",
        "outputId": "82f098ab-562c-4c57-d919-385158c61612"
      },
      "execution_count": 43,
      "outputs": [
        {
          "output_type": "display_data",
          "data": {
            "text/plain": [
              "<Figure size 600x400 with 1 Axes>"
            ],
            "image/png": "[encoded data removed]"
          },
          "metadata": {}
        }
      ]
    },
    {
      "cell_type": "code",
      "source": [
        "# Filtrar o DataFrame para excluir o valor 1.35E7 na coluna 'AMT_INCOME_TOTAL'\n",
        "df_application_train_01 = df_application_train_01[df_application_train_01['AMT_INCOME_TOTAL'] != 1.35E7]\n",
        "\n",
        "# Criar o boxplot\n",
        "plt.figure(figsize=(6, 4))\n",
        "sns.boxplot(data=df_application_train, x='TARGET', y='AMT_INCOME_TOTAL', showfliers=False)\n",
        "\n",
        "# Definir título\n",
        "\n",
        "plt.title('Relação entre Renda Total e Target')\n",
        "\n",
        "# Remover os títulos dos eixos x e y\n",
        "plt.xlabel('')\n",
        "plt.ylabel('')\n",
        "\n",
        "# Mostrar o gráfico\n",
        "plt.xticks(ticks=[0, 1], labels=['\"Bons\"', '\"Maus\"'])\n",
        "plt.tight_layout()\n",
        "plt.show()\n"
      ],
      "metadata": {
        "colab": {
          "base_uri": "https://localhost:8080/",
          "height": 407
        },
        "id": "X8KKLwm-Lp9F",
        "outputId": "459b55c2-e9bc-4a1e-8c06-07272fca5f85"
      },
      "execution_count": 42,
      "outputs": [
        {
          "output_type": "display_data",
          "data": {
            "text/plain": [
              "<Figure size 600x400 with 1 Axes>"
            ],
            "image/png": "[encoded data removed]"
          },
          "metadata": {}
        }
      ]
    },
    {
      "cell_type": "markdown",
      "source": [
        "\n",
        "No primeiro boxplot, observamos a presença de outliers nos clientes classificados como 'bons', indicando uma dispersão incomum nos valores de renda total para esse grupo. Esses outliers podem representar casos extremos de renda entre os clientes 'bons', que se destacam significativamente em relação à maioria.\n",
        "\n",
        "No segundo boxplot, após a remoção dos outliers, podemos observar que a mediana da renda total para os clientes 'bons' está acima da mediana dos clientes 'maus'. Isso sugere que, em geral, os clientes classificados como 'bons' tendem a ter uma renda total mais alta em comparação com os clientes 'maus', conforme representado pela posição da mediana nos boxplots."
      ],
      "metadata": {
        "id": "1xqqAvGTJEtx"
      }
    },
    {
      "cell_type": "markdown",
      "source": [
        "####Análise da Relação entre Renda Total por faixa e Target"
      ],
      "metadata": {
        "id": "d0-_5qeQA6kc"
      }
    },
    {
      "cell_type": "code",
      "source": [
        "df_renda_target02 = spark.sql(\"\"\"\n",
        "select\n",
        "    t.FAIXA_RENDA,\n",
        "    TARGET,\n",
        "    count(*) as QUANT_CLIENTES,\n",
        "    round(100 * count(*) / TOTAL_CLIENTES_FAIXA, 2) as PORCENTAGEM\n",
        "from (\n",
        "    select\n",
        "        case\n",
        "            when AMT_INCOME_TOTAL <= 50000 then 'faixa 1: até 50.000'\n",
        "            when AMT_INCOME_TOTAL <= 100000 then 'faixa 2: 50.001 - 100.000'\n",
        "            when AMT_INCOME_TOTAL <= 150000 then 'faixa 3: 100.001 - 150.000'\n",
        "            when AMT_INCOME_TOTAL <= 200000 then 'faixa 4: 150.001 - 200.000'\n",
        "            else 'faixa 5: mais de 200.000'\n",
        "        end as FAIXA_RENDA,\n",
        "        TARGET\n",
        "    from\n",
        "        df_application_train_01\n",
        ") t\n",
        "join (\n",
        "    select\n",
        "        case\n",
        "            when AMT_INCOME_TOTAL <= 50000 then 'faixa 1: até 50.000'\n",
        "            when AMT_INCOME_TOTAL <= 100000 then 'faixa 2: 50.001 - 100.000'\n",
        "            when AMT_INCOME_TOTAL <= 150000 then 'faixa 3: 100.001 - 150.000'\n",
        "            when AMT_INCOME_TOTAL <= 200000 then 'faixa 4: 150.001 - 200.000'\n",
        "            else 'faixa 5: mais de 200.000'\n",
        "        end as FAIXA_RENDA,\n",
        "        count(*) as TOTAL_CLIENTES_FAIXA\n",
        "    from\n",
        "        df_application_train_01\n",
        "    group by\n",
        "        FAIXA_RENDA\n",
        ") TOTAL_CLIENTES on t.FAIXA_RENDA = TOTAL_CLIENTES.FAIXA_RENDA\n",
        "group by\n",
        "    t.FAIXA_RENDA,\n",
        "    TARGET,\n",
        "    TOTAL_CLIENTES_FAIXA\n",
        "order by\n",
        "    t.FAIXA_RENDA,\n",
        "    TARGET;\n",
        "\"\"\")\n",
        "df_renda_target02.show()"
      ],
      "metadata": {
        "colab": {
          "base_uri": "https://localhost:8080/"
        },
        "id": "ZPOa_kFZZ1OB",
        "outputId": "3778111e-2280-40f7-f138-8fe6092acf37"
      },
      "execution_count": 44,
      "outputs": [
        {
          "output_type": "stream",
          "name": "stdout",
          "text": [
            "+--------------------+------+--------------+-----------+\n",
            "|         FAIXA_RENDA|TARGET|QUANT_CLIENTES|PORCENTAGEM|\n",
            "+--------------------+------+--------------+-----------+\n",
            "| faixa 1: até 50.000|     0|          2905|      92.37|\n",
            "| faixa 1: até 50.000|     1|           240|       7.63|\n",
            "|faixa 2: 50.001 -...|     0|         38123|      91.79|\n",
            "|faixa 2: 50.001 -...|     1|          3411|       8.21|\n",
            "|faixa 3: 100.001 ...|     0|         58655|      91.39|\n",
            "|faixa 3: 100.001 ...|     1|          5526|       8.61|\n",
            "|faixa 4: 150.001 ...|     0|         40898|      91.39|\n",
            "|faixa 4: 150.001 ...|     1|          3854|       8.61|\n",
            "|faixa 5: mais de ...|     0|         57264|      92.89|\n",
            "|faixa 5: mais de ...|     1|          4381|       7.11|\n",
            "+--------------------+------+--------------+-----------+\n",
            "\n"
          ]
        }
      ]
    },
    {
      "cell_type": "markdown",
      "source": [
        "####Visualização da Variável Renda Total por Faixa e a Relação com Target"
      ],
      "metadata": {
        "id": "sxlmcfYjBYcS"
      }
    },
    {
      "cell_type": "code",
      "source": [
        "# Converter o DataFrame do Spark para um DataFrame do Pandas\n",
        "df_pandas = df_renda_target02.toPandas()\n",
        "\n",
        "# Pivotar os dados para ter as faixas de renda como índices\n",
        "df_pivot = df_pandas.pivot(index='FAIXA_RENDA', columns='TARGET', values='PORCENTAGEM')\n",
        "\n",
        "# Criar o gráfico de barras empilhadas 100% horizontal\n",
        "plt.figure(figsize=(8, 6))\n",
        "ax = df_pivot.plot(kind='barh', stacked=True)\n",
        "\n",
        "# Adicionar rótulos de porcentagem nas barras\n",
        "for p in ax.patches:\n",
        "    width, height = p.get_width(), p.get_height()\n",
        "    x, y = p.get_xy()\n",
        "    ax.annotate(f'{width:.2f}%', (x + width/2, y + height/2), ha='center', va='center', fontsize= 8, rotation = 45)\n",
        "\n",
        "# Adicionar título\n",
        "plt.title('Relação entre Faixa de Renda e Target')\n",
        "\n",
        "# Remover rótulos do eixo x\n",
        "plt.xticks([])\n",
        "\n",
        "# Remover os títulos dos eixos x e y\n",
        "plt.xlabel('')\n",
        "plt.ylabel('')\n",
        "\n",
        "# Exibir a legenda fora do gráfico\n",
        "plt.legend(title='Target', bbox_to_anchor=(0, -0.3), loc='lower left')\n",
        "\n",
        "# Exibir o gráfico\n",
        "plt.tight_layout()\n",
        "plt.show()"
      ],
      "metadata": {
        "colab": {
          "base_uri": "https://localhost:8080/",
          "height": 490
        },
        "id": "juqrrRZqiMps",
        "outputId": "59086be1-0074-4b25-b418-27b15c9d315f"
      },
      "execution_count": 46,
      "outputs": [
        {
          "output_type": "display_data",
          "data": {
            "text/plain": [
              "<Figure size 800x600 with 0 Axes>"
            ]
          },
          "metadata": {}
        },
        {
          "output_type": "display_data",
          "data": {
            "text/plain": [
              "<Figure size 640x480 with 1 Axes>"
            ],
            "image/png": "[encoded data removed]"
          },
          "metadata": {}
        }
      ]
    },
    {
      "cell_type": "markdown",
      "source": [
        "###Análise da Variável Posse de Carro pelo Cliente"
      ],
      "metadata": {
        "id": "JcB3ao8ENWjI"
      }
    },
    {
      "cell_type": "code",
      "source": [
        "spark.sql(\"\"\"\n",
        "select\n",
        "    FLAG_OWN_CAR as POSSUI_CARRO,\n",
        "    count(*) as CLIENTES,\n",
        "    round(count(*)* 100/ (select count(*)from df_application_train_01),2) as PORCENTAGEM\n",
        "from\n",
        "    df_application_train_01\n",
        "group by\n",
        "    FLAG_OWN_CAR;\n",
        "\"\"\").show()"
      ],
      "metadata": {
        "colab": {
          "base_uri": "https://localhost:8080/"
        },
        "id": "bDnY9zNyMusu",
        "outputId": "b9207e5d-3721-42df-e1f6-aedd6f27b0aa"
      },
      "execution_count": null,
      "outputs": [
        {
          "output_type": "stream",
          "name": "stdout",
          "text": [
            "+------------+--------+-----------+\n",
            "|POSSUI_CARRO|CLIENTES|PORCENTAGEM|\n",
            "+------------+--------+-----------+\n",
            "|           Y|   73425|      34.11|\n",
            "|           N|  141832|      65.89|\n",
            "+------------+--------+-----------+\n",
            "\n"
          ]
        }
      ]
    },
    {
      "cell_type": "markdown",
      "metadata": {
        "id": "KxcZE3xI9Cru"
      },
      "source": [
        "#### Análise da Posse de Carro pelo Cliente e a Relação com Target"
      ]
    },
    {
      "cell_type": "code",
      "execution_count": 47,
      "metadata": {
        "colab": {
          "base_uri": "https://localhost:8080/"
        },
        "id": "zuwD4sJeSlXA",
        "outputId": "7baddaed-941f-46b4-886f-b2a899501997"
      },
      "outputs": [
        {
          "output_type": "stream",
          "name": "stdout",
          "text": [
            "+------+------------+--------+-----------+\n",
            "|TARGET|POSSUI_CARRO|CLIENTES|PORCENTAGEM|\n",
            "+------+------------+--------+-----------+\n",
            "|     0|           N|  129720|      91.46|\n",
            "|     1|           N|   12112|       8.54|\n",
            "|     0|           Y|   68125|      92.78|\n",
            "|     1|           Y|    5300|       7.22|\n",
            "+------+------------+--------+-----------+\n",
            "\n"
          ]
        }
      ],
      "source": [
        "df_carro_target = spark.sql(\"\"\"\n",
        "select\n",
        "    TARGET,\n",
        "    FLAG_OWN_CAR as POSSUI_CARRO,\n",
        "    count(*) as CLIENTES,\n",
        "    round(count(*) * 100 / sum(count(*)) over (partition by FLAG_OWN_CAR), 2) as PORCENTAGEM\n",
        "from\n",
        "    df_application_train_01\n",
        "group by\n",
        "    TARGET,\n",
        "    FLAG_OWN_CAR;\n",
        "\"\"\")\n",
        "df_carro_target.show()"
      ]
    },
    {
      "cell_type": "markdown",
      "source": [
        "A posse de carro parece não ter uma influência na taxa de inadimplência dos clientes. Tanto entre aqueles que possuem carro quanto entre os que não possuem, a maioria são classificados como \"bons\" pagadores. No entanto, a proporção de inadimplentes é ligeiramente menor entre os clientes que possuem carro em comparação com aqueles que não possuem."
      ],
      "metadata": {
        "id": "-7vSYuBYNqPQ"
      }
    },
    {
      "cell_type": "markdown",
      "source": [
        "####Visualização da Variável Posse de Carro e a Relação com Target"
      ],
      "metadata": {
        "id": "yj2woee1KocF"
      }
    },
    {
      "cell_type": "code",
      "source": [
        "# Converter o DataFrame do Spark para um DataFrame do Pandas\n",
        "df_carro_target01 = df_carro_target.toPandas()\n",
        "\n",
        "# Plotar o gráfico de barras\n",
        "plt.figure(figsize=(8, 4))\n",
        "sns.barplot(data=df_carro_target01, x='TARGET', y='CLIENTES', hue='POSSUI_CARRO')\n",
        "\n",
        "# Remover os títulos dos eixos x e y\n",
        "plt.xlabel('')\n",
        "plt.ylabel('')\n",
        "\n",
        "plt.title('Relação entre Target e Posse de Carro')\n",
        "plt.show()\n"
      ],
      "metadata": {
        "colab": {
          "base_uri": "https://localhost:8080/",
          "height": 391
        },
        "id": "2wfEFMag7yPr",
        "outputId": "afe5866c-d745-44c1-d96b-62db6dd616ad"
      },
      "execution_count": 48,
      "outputs": [
        {
          "output_type": "display_data",
          "data": {
            "text/plain": [
              "<Figure size 800x400 with 1 Axes>"
            ],
            "image/png": "[encoded data removed]"
          },
          "metadata": {}
        }
      ]
    },
    {
      "cell_type": "markdown",
      "source": [
        "###Análise da Variável Posse de Imóvel pelo Cliente"
      ],
      "metadata": {
        "id": "yQdSJqGyK29y"
      }
    },
    {
      "cell_type": "code",
      "source": [
        "spark.sql(\"\"\"\n",
        "select\n",
        "    FLAG_OWN_REALTY as POSSUI_IMOVEL,\n",
        "    count(*) as CLIENTES,\n",
        "    round(count(*)* 100/ (select count(*)from df_application_train_01),2) as PORCENTAGEM\n",
        "from\n",
        "    df_application_train\n",
        "group by\n",
        "   FLAG_OWN_REALTY;\n",
        "\"\"\").show()"
      ],
      "metadata": {
        "colab": {
          "base_uri": "https://localhost:8080/"
        },
        "id": "7KvWISczOu8K",
        "outputId": "0fe69ec2-8466-4b88-bd49-30d6e9ed42d1"
      },
      "execution_count": null,
      "outputs": [
        {
          "output_type": "stream",
          "name": "stdout",
          "text": [
            "+-------------+--------+-----------+\n",
            "|POSSUI_IMOVEL|CLIENTES|PORCENTAGEM|\n",
            "+-------------+--------+-----------+\n",
            "|            Y|  149519|      69.46|\n",
            "|            N|   65738|      30.54|\n",
            "+-------------+--------+-----------+\n",
            "\n"
          ]
        }
      ]
    },
    {
      "cell_type": "markdown",
      "metadata": {
        "id": "Alg_OiR39Gqu"
      },
      "source": [
        "####Análise da Posse de Imóvel pelo Cliente e a Relação com Target"
      ]
    },
    {
      "cell_type": "code",
      "execution_count": 50,
      "metadata": {
        "colab": {
          "base_uri": "https://localhost:8080/"
        },
        "id": "jrLBDuGP4EOb",
        "outputId": "7d20e3ff-8846-42d7-feca-dc28eeafabed"
      },
      "outputs": [
        {
          "output_type": "stream",
          "name": "stdout",
          "text": [
            "+------+-------------+--------+-----------+\n",
            "|TARGET|POSSUI_IMOVEL|CLIENTES|PORCENTAGEM|\n",
            "+------+-------------+--------+-----------+\n",
            "|     0|            N|   60234|      91.63|\n",
            "|     1|            N|    5504|       8.37|\n",
            "|     0|            Y|  137611|      92.04|\n",
            "|     1|            Y|   11908|       7.96|\n",
            "+------+-------------+--------+-----------+\n",
            "\n"
          ]
        }
      ],
      "source": [
        "df_imovel_target = spark.sql(\"\"\"\n",
        "select\n",
        "    TARGET,\n",
        "    FLAG_OWN_REALTY as POSSUI_IMOVEL,\n",
        "    count(*) as CLIENTES,\n",
        "     round(count(*) * 100 / sum(count(*)) over (partition by FLAG_OWN_REALTY), 2) as PORCENTAGEM\n",
        "from\n",
        "    df_application_train\n",
        "group by\n",
        "    TARGET,\n",
        "    FLAG_OWN_REALTY;\n",
        "\"\"\")\n",
        "df_imovel_target.show()\n"
      ]
    },
    {
      "cell_type": "markdown",
      "source": [
        "Tanto entre os clientes que possuem imóvel quanto entre os que não possuem, a maioria é classificada como \"bons\" pagadores.\n",
        "\n",
        "No entanto, a proporção de inadimplentes é ligeiramente menor entre os clientes que possuem imóvel (7.96%) em comparação com aqueles que não possuem (8.37%)."
      ],
      "metadata": {
        "id": "06SE7n9DL0pb"
      }
    },
    {
      "cell_type": "markdown",
      "source": [
        "####Visualização da Variável Posse de Imóvel pelo Cliente e a Relação com Target"
      ],
      "metadata": {
        "id": "W07MdnM1CNjy"
      }
    },
    {
      "cell_type": "code",
      "source": [
        "# Converter o DataFrame do Spark para um DataFrame do Pandas\n",
        "df_imovel_target01 = df_imovel_target.toPandas()\n",
        "\n",
        "# Plotar o gráfico de barras\n",
        "plt.figure(figsize=(8, 6))\n",
        "sns.barplot(data=df_imovel_target01, x='TARGET', y='CLIENTES', hue='POSSUI_IMOVEL')\n",
        "\n",
        "# Remover os títulos dos eixos x e y\n",
        "plt.xlabel('')\n",
        "plt.ylabel('')\n",
        "\n",
        "plt.title('Relação entre Target e Posse de Imóvel')\n",
        "plt.show()"
      ],
      "metadata": {
        "colab": {
          "base_uri": "https://localhost:8080/",
          "height": 545
        },
        "id": "_eIbzTLhNE_h",
        "outputId": "dadd573f-c9c3-4cc7-b467-63a06b65d495"
      },
      "execution_count": 51,
      "outputs": [
        {
          "output_type": "display_data",
          "data": {
            "text/plain": [
              "<Figure size 800x600 with 1 Axes>"
            ],
            "image/png": "[encoded data removed]"
          },
          "metadata": {}
        }
      ]
    },
    {
      "cell_type": "markdown",
      "source": [
        "###Análise da Quantidade de Filhos por Cliente"
      ],
      "metadata": {
        "id": "KX88GrY2rNuk"
      }
    },
    {
      "cell_type": "code",
      "execution_count": null,
      "metadata": {
        "colab": {
          "base_uri": "https://localhost:8080/"
        },
        "id": "-ItLtDHC9xAJ",
        "outputId": "000e7546-f6c5-48ef-ad42-cbd4a351460a"
      },
      "outputs": [
        {
          "output_type": "stream",
          "name": "stdout",
          "text": [
            "+------------+--------------+-----------+\n",
            "|QUANT_FILHOS|QUANT_CLIENTES|PORCENTAGEM|\n",
            "+------------+--------------+-----------+\n",
            "|           0|        150712|      70.01|\n",
            "|           1|         42855|      19.91|\n",
            "|           2|         18775|       8.72|\n",
            "|           3|          2546|       1.18|\n",
            "|           4|           287|       0.13|\n",
            "|           5|            54|       0.03|\n",
            "|           6|            14|       0.01|\n",
            "|           7|             5|        0.0|\n",
            "|           8|             1|        0.0|\n",
            "|           9|             2|        0.0|\n",
            "|          10|             2|        0.0|\n",
            "|          11|             1|        0.0|\n",
            "|          14|             2|        0.0|\n",
            "|          19|             1|        0.0|\n",
            "+------------+--------------+-----------+\n",
            "\n"
          ]
        }
      ],
      "source": [
        "spark.sql(\"\"\"\n",
        "select\n",
        "  CNT_CHILDREN as QUANT_FILHOS,\n",
        "  count(*) AS QUANT_CLIENTES,\n",
        "  round(count(*)* 100/ (select count(*)from df_application_train_01),2) as PORCENTAGEM\n",
        "from\n",
        "  df_application_train\n",
        "group by\n",
        "  CNT_CHILDREN\n",
        "order by\n",
        "  QUANT_FILHOS;\n",
        "\"\"\").show()"
      ]
    },
    {
      "cell_type": "markdown",
      "source": [
        "A maioria dos clientes (aproximadamente 70,01%) na base de dados não tem filhos, enquanto quase 20% têm apenas um filho. A quantidade de clientes diminui progressivamente à medida que o número de filhos aumenta, com uma porcentagem muito pequena de clientes (menos de 1,5% no total) tendo três ou mais filhos."
      ],
      "metadata": {
        "id": "_uelN_nxOmYG"
      }
    },
    {
      "cell_type": "markdown",
      "source": [
        "###Análise da Variável Nivel de Educação"
      ],
      "metadata": {
        "id": "1UhHSbW9WLKI"
      }
    },
    {
      "cell_type": "code",
      "source": [
        "spark.sql(\"\"\"\n",
        "select\n",
        "    NAME_EDUCATION_TYPE,\n",
        "    count (*) as QUANTIDADE_CLIENTES,\n",
        "    round(count(*) * 100 / (select count(*) from df_application_train), 2) as PORCENTAGEM\n",
        "from\n",
        "    df_application_train_01\n",
        "group by\n",
        "    NAME_EDUCATION_TYPE\n",
        "\"\"\").show()"
      ],
      "metadata": {
        "colab": {
          "base_uri": "https://localhost:8080/"
        },
        "id": "JpG6gcgvVx7t",
        "outputId": "20ad1ac0-4154-4805-ade3-b2bf3ba8187a"
      },
      "execution_count": null,
      "outputs": [
        {
          "output_type": "stream",
          "name": "stdout",
          "text": [
            "+--------------------+-------------------+-----------+\n",
            "| NAME_EDUCATION_TYPE|QUANTIDADE_CLIENTES|PORCENTAGEM|\n",
            "+--------------------+-------------------+-----------+\n",
            "|     Academic degree|                117|       0.05|\n",
            "|   Incomplete higher|               7169|       3.33|\n",
            "|Secondary / secon...|             152634|      70.91|\n",
            "|     Lower secondary|               2673|       1.24|\n",
            "|    Higher education|              52664|      24.47|\n",
            "+--------------------+-------------------+-----------+\n",
            "\n"
          ]
        }
      ]
    },
    {
      "cell_type": "markdown",
      "source": [
        "A maioria dos clientes, aproximadamente 70,91% possui educação de nível médio (Secondary / secondary special), enquanto um número significativo de 24,47% possui educação superior (Higher education).\n",
        "\n",
        "Isso sugere que a base de clientes é predominantemente composta por pessoas com formação educacional de nível médio."
      ],
      "metadata": {
        "id": "_ZpJDtr3WZay"
      }
    },
    {
      "cell_type": "markdown",
      "source": [
        "#### Análise da Relação entre o Nível de Educação e o Target de Crédito\n",
        "\n",
        "A consulta abaixo examina os dados de clientes, agrupando-os com base no nível de educação e no target de crédito. O resultado apresenta a quantidade de clientes em cada categoria, bem como a porcentagem em relação ao total de clientes na base de dados."
      ],
      "metadata": {
        "id": "kIm5d04dsNlX"
      }
    },
    {
      "cell_type": "code",
      "execution_count": 54,
      "metadata": {
        "colab": {
          "base_uri": "https://localhost:8080/"
        },
        "id": "VYqdw6P_EMhN",
        "outputId": "e1bc5e90-9a9e-4ad0-f129-57c66432719f"
      },
      "outputs": [
        {
          "output_type": "stream",
          "name": "stdout",
          "text": [
            "+--------------------+------+-------------------+-----------+\n",
            "| NAME_EDUCATION_TYPE|TARGET|QUANTIDADE_CLIENTES|PORCENTAGEM|\n",
            "+--------------------+------+-------------------+-----------+\n",
            "|     Academic degree|     1|                  3|       2.56|\n",
            "|     Academic degree|     0|                114|      97.44|\n",
            "|    Higher education|     1|               2851|       5.41|\n",
            "|    Higher education|     0|              49813|      94.59|\n",
            "|   Incomplete higher|     0|               6562|      91.53|\n",
            "|   Incomplete higher|     1|                607|       8.47|\n",
            "|     Lower secondary|     1|                289|      10.81|\n",
            "|     Lower secondary|     0|               2384|      89.19|\n",
            "|Secondary / secon...|     1|              13662|       8.95|\n",
            "|Secondary / secon...|     0|             138972|      91.05|\n",
            "+--------------------+------+-------------------+-----------+\n",
            "\n"
          ]
        }
      ],
      "source": [
        "df_educacao_target = spark.sql(\"\"\"\n",
        "select\n",
        "    NAME_EDUCATION_TYPE,\n",
        "    TARGET,\n",
        "    count (*) as QUANTIDADE_CLIENTES,\n",
        "    round(count(*) * 100 / sum(count(*)) over (partition by NAME_EDUCATION_TYPE), 2) as PORCENTAGEM\n",
        "from\n",
        "    df_application_train_01\n",
        "group by\n",
        "    NAME_EDUCATION_TYPE,\n",
        "    TARGET\n",
        "order by\n",
        "    NAME_EDUCATION_TYPE\n",
        "\"\"\")\n",
        "df_educacao_target.show()\n"
      ]
    },
    {
      "cell_type": "markdown",
      "source": [
        "####Visualização da Variável Nivel de Educação para o Target 1"
      ],
      "metadata": {
        "id": "tadi6vaGCvWn"
      }
    },
    {
      "cell_type": "code",
      "source": [
        "# Converter o resultado da consulta em um DataFrame Pandas\n",
        "df_pandas = df_educacao_target.toPandas()\n",
        "\n",
        "# Filtrar apenas os clientes com TARGET 1 (inadimplentes)\n",
        "df_pandas_target_1 = df_pandas[df_pandas['TARGET'] == 1]\n",
        "\n",
        "# Ordenar o DataFrame pela coluna 'PORCENTAGEM' em ordem crescente\n",
        "df_pandas_target_1 = df_pandas_target_1.sort_values(by='PORCENTAGEM')\n",
        "\n",
        "# Criar o gráfico de barras horizontais\n",
        "plt.figure(figsize=(8,4))\n",
        "barras = plt.barh(df_pandas_target_1['NAME_EDUCATION_TYPE'], df_pandas_target_1['PORCENTAGEM'], color='#84A9CF')\n",
        "\n",
        "# Adicionar a porcentagem como rótulo em cada barra\n",
        "for barra in barras:\n",
        "    width = barra.get_width()\n",
        "    plt.text(width, barra.get_y() + barra.get_height()/2, f'{width}%', ha='left', va='center')\n",
        "\n",
        "# Adicionar rótulos e título\n",
        "plt.ylabel('Tipo de Educação')\n",
        "plt.title('Porcentagem de Inadimplentes por Tipo de Educação')\n",
        "\n",
        "# Remover os números do eixo x\n",
        "plt.xticks([])\n",
        "\n",
        "# Remover o título do eixo y\n",
        "plt.ylabel('')\n",
        "\n",
        "# Remover a grade\n",
        "plt.grid(False)\n",
        "\n",
        "# Exibir o gráfico\n",
        "plt.tight_layout()\n",
        "plt.show()\n",
        "\n"
      ],
      "metadata": {
        "colab": {
          "base_uri": "https://localhost:8080/",
          "height": 401
        },
        "id": "4B5HD9bCXZOv",
        "outputId": "17e8bc4f-0125-4abd-d6e5-0d73629d8138"
      },
      "execution_count": 63,
      "outputs": [
        {
          "output_type": "display_data",
          "data": {
            "text/plain": [
              "<Figure size 800x400 with 1 Axes>"
            ],
            "image/png": "[encoded data removed]"
          },
          "metadata": {}
        }
      ]
    },
    {
      "cell_type": "markdown",
      "source": [
        "\n",
        "Com a visualização do gráfico que indica a porcentagem de inadimplentes dentro de cada nível de educação, observamos que quase 11% dos clientes que possuem ensino fundamental (Lower secondary) estão inadimplentes. Além disso, tanto o ensino médio (Secondary / secondary special) quanto o superior incompleto (Incomplete higher) apresentam quase 9% de inadimplentes. Mesmo com a quantidade de clientes com ensino fundamental sendo pequena, uma boa parcela está inadimplente."
      ],
      "metadata": {
        "id": "dA4zynEra-SQ"
      }
    },
    {
      "cell_type": "markdown",
      "source": [
        "###Análise da Variavel Quantidade de Membros na Família"
      ],
      "metadata": {
        "id": "ZXe9XVm3sfzo"
      }
    },
    {
      "cell_type": "code",
      "source": [
        "spark.sql(\"\"\"\n",
        "select\n",
        "    round(avg(CNT_FAM_MEMBERS),2) as MEDIA_MEMBROS_FAMILIA,\n",
        "    min(CNT_FAM_MEMBERS) as MIN_MEMBROS_FAMILIA,\n",
        "    max(CNT_FAM_MEMBERS) as MAX_MEMBROS_FAMILIA\n",
        "from\n",
        "    df_application_train_01\n",
        "\"\"\").show()"
      ],
      "metadata": {
        "colab": {
          "base_uri": "https://localhost:8080/"
        },
        "id": "6FigTUqjFFaZ",
        "outputId": "cf890459-2d9a-44df-d098-210cf92be63d"
      },
      "execution_count": null,
      "outputs": [
        {
          "output_type": "stream",
          "name": "stdout",
          "text": [
            "+---------------------+-------------------+-------------------+\n",
            "|MEDIA_MEMBROS_FAMILIA|MIN_MEMBROS_FAMILIA|MAX_MEMBROS_FAMILIA|\n",
            "+---------------------+-------------------+-------------------+\n",
            "|                 2.15|                1.0|               20.0|\n",
            "+---------------------+-------------------+-------------------+\n",
            "\n"
          ]
        }
      ]
    },
    {
      "cell_type": "markdown",
      "source": [
        "####Análise da Relação da Quantidade de Membros na Família com o  Target"
      ],
      "metadata": {
        "id": "gOd6kbOaRRPH"
      }
    },
    {
      "cell_type": "code",
      "source": [
        "spark.sql(\"\"\"\n",
        "select\n",
        "    TARGET,\n",
        "    CNT_FAM_MEMBERS as QUANT_MEMBROS,\n",
        "    count(*) as QUANT_CLIENTES\n",
        "from\n",
        "    df_application_train_01\n",
        "group by\n",
        "    TARGET,\n",
        "    CNT_FAM_MEMBERS\n",
        "order by\n",
        "    QUANT_CLIENTES;\n",
        "\"\"\").show()"
      ],
      "metadata": {
        "colab": {
          "base_uri": "https://localhost:8080/"
        },
        "id": "lo-Z0wSMPzeX",
        "outputId": "84308406-d771-4cda-b745-579f2069a73d"
      },
      "execution_count": null,
      "outputs": [
        {
          "output_type": "stream",
          "name": "stdout",
          "text": [
            "+------+-------------+--------------+\n",
            "|TARGET|QUANT_MEMBROS|QUANT_CLIENTES|\n",
            "+------+-------------+--------------+\n",
            "|     0|         16.0|             1|\n",
            "|     0|         15.0|             1|\n",
            "|     1|         10.0|             1|\n",
            "|     0|         20.0|             1|\n",
            "|     0|         10.0|             1|\n",
            "|     0|         NULL|             1|\n",
            "|     1|         13.0|             1|\n",
            "|     1|         11.0|             1|\n",
            "|     0|         12.0|             2|\n",
            "|     1|          7.0|             2|\n",
            "|     1|          8.0|             3|\n",
            "|     0|          9.0|             4|\n",
            "|     0|          8.0|            10|\n",
            "|     1|          6.0|            36|\n",
            "|     0|          7.0|            51|\n",
            "|     1|          5.0|           233|\n",
            "|     0|          6.0|           237|\n",
            "|     1|          4.0|          1511|\n",
            "|     0|          5.0|          2156|\n",
            "|     1|          3.0|          3269|\n",
            "+------+-------------+--------------+\n",
            "only showing top 20 rows\n",
            "\n"
          ]
        }
      ]
    },
    {
      "cell_type": "markdown",
      "source": [
        "A maioria dos clientes tem um número moderado de membros na família, com uma distribuição mais concentrada em torno de 3 a 5 membros.\n",
        "\n",
        "Observa-se que há uma quantidade significativa de clientes inadimplentes em famílias com um número menor de membros entre 3 e 5 por exemplo."
      ],
      "metadata": {
        "id": "jp4lw0H2RmuA"
      }
    },
    {
      "cell_type": "markdown",
      "source": [
        "###Análise da Variável Valor do Crédito"
      ],
      "metadata": {
        "id": "2wDk1SsdwcR9"
      }
    },
    {
      "cell_type": "code",
      "source": [
        "spark.sql(\"\"\"\n",
        "select\n",
        "  round(avg(AMT_CREDIT),2) as MEDIA_CREDITO,\n",
        "  round(min(AMT_CREDIT),2) as MIN_CREDITO,\n",
        "  round(max(AMT_CREDIT),2) as MAX_CREDITO\n",
        "from\n",
        "  df_application_train_01\n",
        "\"\"\").show()"
      ],
      "metadata": {
        "colab": {
          "base_uri": "https://localhost:8080/"
        },
        "id": "h23WGVLZF0Ir",
        "outputId": "d02fcefd-87fb-45fc-adc5-750282f2a204"
      },
      "execution_count": null,
      "outputs": [
        {
          "output_type": "stream",
          "name": "stdout",
          "text": [
            "+-------------+-----------+-----------+\n",
            "|MEDIA_CREDITO|MIN_CREDITO|MAX_CREDITO|\n",
            "+-------------+-----------+-----------+\n",
            "|     599496.0|    45000.0|  4050000.0|\n",
            "+-------------+-----------+-----------+\n",
            "\n"
          ]
        }
      ]
    },
    {
      "cell_type": "markdown",
      "source": [
        "#### Análise por Faixa dos Valores de Crédito e o Target\n",
        "\n"
      ],
      "metadata": {
        "id": "AnEGW5_K6DRy"
      }
    },
    {
      "cell_type": "code",
      "source": [
        "df_faixa_credito_target = spark.sql(\"\"\"\n",
        "select\n",
        "    TARGET,\n",
        "    case\n",
        "        when AMT_CREDIT >= 0 and AMT_CREDIT < 100000 then '0-100k'\n",
        "        when AMT_CREDIT >= 100000 and AMT_CREDIT < 200000 then '100k-200k'\n",
        "        when AMT_CREDIT >= 200000 and AMT_CREDIT < 300000 then '200k-300k'\n",
        "        when AMT_CREDIT >= 300000 and AMT_CREDIT < 400000 then '300k-400k'\n",
        "        else '400k+'\n",
        "    end as FAIXA_CREDITO,\n",
        "    count(*) as QUANT_CLIENTES\n",
        "from\n",
        "    df_application_train_01\n",
        "group by\n",
        "    TARGET,\n",
        "    FAIXA_CREDITO\n",
        "order by\n",
        "    TARGET,\n",
        "    FAIXA_CREDITO\n",
        "\"\"\")\n",
        "\n",
        "df_faixa_credito_target.show()"
      ],
      "metadata": {
        "colab": {
          "base_uri": "https://localhost:8080/"
        },
        "id": "dOg0B98AYEQB",
        "outputId": "a1b1745c-7ddd-451c-e99d-7140ad3f9027"
      },
      "execution_count": null,
      "outputs": [
        {
          "output_type": "stream",
          "name": "stdout",
          "text": [
            "+------+-------------+--------------+\n",
            "|TARGET|FAIXA_CREDITO|QUANT_CLIENTES|\n",
            "+------+-------------+--------------+\n",
            "|     0|       0-100k|          3977|\n",
            "|     0|    100k-200k|         19593|\n",
            "|     0|    200k-300k|         35449|\n",
            "|     0|    300k-400k|         16535|\n",
            "|     0|        400k+|        122291|\n",
            "|     1|       0-100k|           236|\n",
            "|     1|    100k-200k|          1500|\n",
            "|     1|    200k-300k|          3041|\n",
            "|     1|    300k-400k|          1835|\n",
            "|     1|        400k+|         10800|\n",
            "+------+-------------+--------------+\n",
            "\n"
          ]
        }
      ]
    },
    {
      "cell_type": "markdown",
      "source": [
        "A maioria dos clientes, tanto do target 0 quanto do target 1, está na faixa de crédito de 400k+.\n",
        "\n",
        "Para o target 0, a segunda faixa de crédito mais comum é a faixa de 200k-300k, seguida pela faixa de 100k-200k.\n",
        "\n",
        "Para o target 1, a segunda faixa de crédito mais comum é a faixa de 400k+, seguida pela faixa de 200k-300k.\n"
      ],
      "metadata": {
        "id": "LkaZvpAZZtxI"
      }
    },
    {
      "cell_type": "markdown",
      "source": [
        "###Análise da Varável valor do Crédito por Faixas de Renda\n",
        "\n",
        "Por meio da consulta Spark SQL, segmentei os clientes em diferentes faixas de renda, que variam de \"Até 50.000\" a \"Mais de 200.000\". Para cada faixa de renda, calculei a média, o mínimo e o máximo dos valores de crédito concedidos."
      ],
      "metadata": {
        "id": "9ioyU7Ja6lPg"
      }
    },
    {
      "cell_type": "code",
      "source": [
        "df_credito_renda = spark.sql(\"\"\"\n",
        "select\n",
        "   case\n",
        "      when AMT_INCOME_TOTAL <=  50000 then 'Faixa 1: Até 50.000'\n",
        "      when AMT_INCOME_TOTAL <= 100000 then 'Faixa 2: 50.001 - 100.000'\n",
        "      when AMT_INCOME_TOTAL <= 150000 then 'Faixa 3: 100.001 - 150.000'\n",
        "      when AMT_INCOME_TOTAL <= 200000 then 'Faixa 4: 150.001 - 200.000'\n",
        "      else 'Faixa 5: Mais de 200.000'\n",
        "    end  as FAIXA_RENDA,\n",
        "      round(avg(AMT_CREDIT), 2) as MEDIA_CREDITO,\n",
        "      round(min(AMT_CREDIT), 2) as MIN_CREDITO,\n",
        "      round(max(AMT_CREDIT), 2) as MAX_CREDITO\n",
        "from\n",
        "    df_application_train_01\n",
        "group by\n",
        "    case\n",
        "      when AMT_INCOME_TOTAL <=  50000 then 'Faixa 1: Até 50.000'\n",
        "      when AMT_INCOME_TOTAL <= 100000 then 'Faixa 2: 50.001 - 100.000'\n",
        "      when AMT_INCOME_TOTAL <= 150000 then 'Faixa 3: 100.001 - 150.000'\n",
        "      when AMT_INCOME_TOTAL <= 200000 then 'Faixa 4: 150.001 - 200.000'\n",
        "      else 'Faixa 5: Mais de 200.000'\n",
        "    end\n",
        "order by\n",
        "   FAIXA_RENDA;\n",
        "\"\"\")\n",
        "df_credito_renda.show()"
      ],
      "metadata": {
        "colab": {
          "base_uri": "https://localhost:8080/"
        },
        "id": "GsSZAdGRyQNH",
        "outputId": "ff7e2280-76a7-4e61-e7dc-4195880e9c9f"
      },
      "execution_count": 56,
      "outputs": [
        {
          "output_type": "stream",
          "name": "stdout",
          "text": [
            "+--------------------+-------------+-----------+-----------+\n",
            "|         FAIXA_RENDA|MEDIA_CREDITO|MIN_CREDITO|MAX_CREDITO|\n",
            "+--------------------+-------------+-----------+-----------+\n",
            "| Faixa 1: Até 50.000|    295648.85|    45000.0|  2215224.0|\n",
            "|Faixa 2: 50.001 -...|    393857.73|    45000.0|  2517300.0|\n",
            "|Faixa 3: 100.001 ...|    521020.04|    45000.0|  2517300.0|\n",
            "|Faixa 4: 150.001 ...|    635453.73|    45000.0|  2980521.0|\n",
            "|Faixa 5: Mais de ...|    809149.07|    45000.0|  4050000.0|\n",
            "+--------------------+-------------+-----------+-----------+\n",
            "\n"
          ]
        }
      ]
    },
    {
      "cell_type": "markdown",
      "source": [
        "####Visualização da Variável Valor do Credito por Faixa de Renda"
      ],
      "metadata": {
        "id": "AerbeyHQDYnJ"
      }
    },
    {
      "cell_type": "code",
      "source": [
        "# Converter os resultados da consulta para um DataFrame Pandas\n",
        "df_credito_renda01 = df_credito_renda.toPandas()\n",
        "\n",
        "# Configurar o gráfico de barras\n",
        "plt.figure(figsize=(8, 6))\n",
        "\n",
        "sns.barplot(data=df_credito_renda01, x='FAIXA_RENDA', y='MEDIA_CREDITO')\n",
        "plt.title('Média de Crédito por Faixa de Renda')\n",
        "\n",
        "# Remover os títulos dos eixos x e y\n",
        "plt.xlabel('')\n",
        "plt.ylabel('')\n",
        "\n",
        "plt.xticks(rotation=45, ha='right')\n",
        "plt.tight_layout()\n",
        "plt.show()\n"
      ],
      "metadata": {
        "colab": {
          "base_uri": "https://localhost:8080/",
          "height": 607
        },
        "id": "jezQI5ba7QQe",
        "outputId": "bd3661c0-bc81-4546-98be-b241f7e0627c"
      },
      "execution_count": 57,
      "outputs": [
        {
          "output_type": "display_data",
          "data": {
            "text/plain": [
              "<Figure size 800x600 with 1 Axes>"
            ],
            "image/png": "[encoded data removed]"
          },
          "metadata": {}
        }
      ]
    },
    {
      "cell_type": "markdown",
      "source": [
        "Observa-se que, em geral, o valor médio do crédito aumenta à medida que a faixa de renda aumenta.\n",
        "\n",
        "Embora exista um aumento geral no valor médio do crédito à medida que a faixa de renda aumenta, a variação nos valores mínimos e máximos de crédito é significativa dentro de cada faixa de renda."
      ],
      "metadata": {
        "id": "g4EGE5KyEOOz"
      }
    },
    {
      "cell_type": "markdown",
      "source": [
        "###Análise da Parcela Mensal do Crédito"
      ],
      "metadata": {
        "id": "2M2POVUCHeAI"
      }
    },
    {
      "cell_type": "code",
      "source": [
        "spark.sql(\"\"\"\n",
        "select\n",
        "  round(avg(AMT_ANNUITY)/12,2) as MED_PARC_MENSAL,\n",
        "  round(min(AMT_ANNUITY)/12,2) as MIN_PARC_MENSAL,\n",
        "  round(max(AMT_ANNUITY)/12,2) as MAX_PARC_MENSAL\n",
        "from\n",
        "  df_application_train_01\n",
        "\"\"\").show()"
      ],
      "metadata": {
        "colab": {
          "base_uri": "https://localhost:8080/"
        },
        "id": "KWM2cbGpVHps",
        "outputId": "2918c921-6aec-48a9-95af-0d367382903a"
      },
      "execution_count": null,
      "outputs": [
        {
          "output_type": "stream",
          "name": "stdout",
          "text": [
            "+---------------+---------------+---------------+\n",
            "|MED_PARC_MENSAL|MIN_PARC_MENSAL|MAX_PARC_MENSAL|\n",
            "+---------------+---------------+---------------+\n",
            "|        2259.97|         134.63|       21502.13|\n",
            "+---------------+---------------+---------------+\n",
            "\n"
          ]
        }
      ]
    },
    {
      "cell_type": "markdown",
      "source": [
        "###Análise da Variável Tipo de Renda do Cliente"
      ],
      "metadata": {
        "id": "7QhkeK_xH18I"
      }
    },
    {
      "cell_type": "code",
      "source": [
        "spark.sql(\"\"\"\n",
        "select\n",
        "  NAME_INCOME_TYPE,\n",
        "  count(*) as TIPO_RENDA,\n",
        "  round((count(*) / sum(count(*)) over()) * 100,2) as PORCENTAGEM\n",
        "from\n",
        "  df_application_train_01\n",
        "group by\n",
        "  NAME_INCOME_TYPE\n",
        "order by\n",
        "  TIPO_RENDA\n",
        "\"\"\").show()"
      ],
      "metadata": {
        "colab": {
          "base_uri": "https://localhost:8080/"
        },
        "id": "aYCRBLxoW6nG",
        "outputId": "e9e7e041-a61e-4a71-a8a0-b5172d3418db"
      },
      "execution_count": null,
      "outputs": [
        {
          "output_type": "stream",
          "name": "stdout",
          "text": [
            "+--------------------+----------+-----------+\n",
            "|    NAME_INCOME_TYPE|TIPO_RENDA|PORCENTAGEM|\n",
            "+--------------------+----------+-----------+\n",
            "|     Maternity leave|         2|        0.0|\n",
            "|         Businessman|         8|        0.0|\n",
            "|             Student|        14|       0.01|\n",
            "|          Unemployed|        16|       0.01|\n",
            "|       State servant|     15207|       7.06|\n",
            "|           Pensioner|     38709|      17.98|\n",
            "|Commercial associate|     50219|      23.33|\n",
            "|             Working|    111082|       51.6|\n",
            "+--------------------+----------+-----------+\n",
            "\n"
          ]
        }
      ]
    },
    {
      "cell_type": "markdown",
      "source": [
        "####Análise da Variável Tipo de Renda e a Relação com Target"
      ],
      "metadata": {
        "id": "6hVB1GIrLPtL"
      }
    },
    {
      "cell_type": "code",
      "source": [
        "df_tipo_renda_target = spark.sql(\"\"\"\n",
        "select\n",
        "  TARGET,\n",
        "  NAME_INCOME_TYPE as TIPO_RENDA,\n",
        "  count(*) as QUANT_CLIENTES\n",
        "from\n",
        "  df_application_train_01\n",
        "group by\n",
        "  TARGET,\n",
        "  NAME_INCOME_TYPE\n",
        "order by\n",
        "  QUANT_CLIENTES;\n",
        "\"\"\")\n",
        "df_tipo_renda_target.show()"
      ],
      "metadata": {
        "colab": {
          "base_uri": "https://localhost:8080/"
        },
        "id": "v4ttYkYWIIdu",
        "outputId": "528426e5-3e2d-4212-88e8-b4e4c4c9ee01"
      },
      "execution_count": 58,
      "outputs": [
        {
          "output_type": "stream",
          "name": "stdout",
          "text": [
            "+------+--------------------+--------------+\n",
            "|TARGET|          TIPO_RENDA|QUANT_CLIENTES|\n",
            "+------+--------------------+--------------+\n",
            "|     1|     Maternity leave|             1|\n",
            "|     0|     Maternity leave|             1|\n",
            "|     1|          Unemployed|             6|\n",
            "|     0|         Businessman|             8|\n",
            "|     0|          Unemployed|            10|\n",
            "|     0|             Student|            14|\n",
            "|     1|       State servant|           877|\n",
            "|     1|           Pensioner|          2091|\n",
            "|     1|Commercial associate|          3812|\n",
            "|     1|             Working|         10625|\n",
            "|     0|       State servant|         14330|\n",
            "|     0|           Pensioner|         36618|\n",
            "|     0|Commercial associate|         46407|\n",
            "|     0|             Working|        100457|\n",
            "+------+--------------------+--------------+\n",
            "\n"
          ]
        }
      ]
    },
    {
      "cell_type": "markdown",
      "source": [
        "####Visualização da Variável Tipo de Renda e o Target"
      ],
      "metadata": {
        "id": "3xyktBC5LbBH"
      }
    },
    {
      "cell_type": "code",
      "source": [
        "# Converta os resultados para um DataFrame pandas\n",
        "df_tipo_renda_target01 = df_tipo_renda_target.toPandas()\n",
        "\n",
        "# Crie o gráfico de barras agrupado\n",
        "plt.figure(figsize=(10, 6))\n",
        "sns.barplot(data=df_tipo_renda_target01, x='TIPO_RENDA', y='QUANT_CLIENTES', hue='TARGET')\n",
        "\n",
        "# Adicione título\n",
        "plt.title('Quantidade de Clientes por Tipo de Renda e Target')\n",
        "\n",
        "# Remover os títulos dos eixos x e y\n",
        "plt.xlabel('')\n",
        "plt.ylabel('')\n",
        "\n",
        "# Mostrar o gráfico\n",
        "plt.xticks(rotation=45)\n",
        "plt.tight_layout()\n",
        "plt.legend(title='TARGET')\n",
        "plt.show()"
      ],
      "metadata": {
        "colab": {
          "base_uri": "https://localhost:8080/",
          "height": 549
        },
        "id": "bxWF95ahJk2k",
        "outputId": "b13fc992-b68c-4b83-9f6d-ae4473cb418e"
      },
      "execution_count": 59,
      "outputs": [
        {
          "output_type": "display_data",
          "data": {
            "text/plain": [
              "<Figure size 1000x600 with 1 Axes>"
            ],
            "image/png": "[encoded data removed]"
          },
          "metadata": {}
        }
      ]
    },
    {
      "cell_type": "markdown",
      "source": [
        "A maioria dos clientes pertence ao grupo \"Working\" tanto para target 0 quanto para target 1.\n",
        "\n",
        "A segunda maior quantidade de clientes inadimplentes (target 1) é dos que têm a ocupação de \"Commercial associate\".\n",
        "\n",
        "Clientes com ocupações como \"State servant\" e \"Pensioner\" têm menos chances de serem inadimplentes em comparação com outras ocupações.\n",
        "\n",
        "Há uma quantidade muito pequena de clientes com ocupações especiais como \"Maternity leave\", \"Unemployed\" e \"Businessman\", e o número de inadimplentes dentro desses grupos também é baixo."
      ],
      "metadata": {
        "id": "6-yjfgrrK240"
      }
    },
    {
      "cell_type": "markdown",
      "source": [
        "###Análise da Variável Pontuação de Fonte de Dados Externos"
      ],
      "metadata": {
        "id": "Ih2QF7-XNMuq"
      }
    },
    {
      "cell_type": "code",
      "source": [
        "spark.sql(\"\"\"\n",
        "select\n",
        "    avg(EXT_SOURCE_1) as media_EXT_SOURCE_1,\n",
        "    avg(EXT_SOURCE_2) as media_EXT_SOURCE_2,\n",
        "    avg(EXT_SOURCE_3) as media_EXT_SOURCE_3,\n",
        "    max(EXT_SOURCE_1) as max_EXT_SOURCE_1,\n",
        "    max(EXT_SOURCE_2) as max_EXT_SOURCE_2,\n",
        "    max(EXT_SOURCE_3) as max_EXT_SOURCE_3,\n",
        "    min(EXT_SOURCE_1) as min_EXT_SOURCE_1,\n",
        "    min(EXT_SOURCE_2) as min_EXT_SOURCE_2,\n",
        "    min(EXT_SOURCE_3) as min_EXT_SOURCE_3\n",
        "from\n",
        "df_application_train_01\n",
        "\n",
        "\"\"\").show()"
      ],
      "metadata": {
        "colab": {
          "base_uri": "https://localhost:8080/"
        },
        "id": "yoWJBBlaaqND",
        "outputId": "572916f1-55d0-4bd2-ff9a-6b25cd0c2dd4"
      },
      "execution_count": null,
      "outputs": [
        {
          "output_type": "stream",
          "name": "stdout",
          "text": [
            "+------------------+------------------+------------------+------------------+------------------+------------------+------------------+--------------------+-----------------+\n",
            "|media_EXT_SOURCE_1|media_EXT_SOURCE_2|media_EXT_SOURCE_3|  max_EXT_SOURCE_1|  max_EXT_SOURCE_2|  max_EXT_SOURCE_3|  min_EXT_SOURCE_1|    min_EXT_SOURCE_2| min_EXT_SOURCE_3|\n",
            "+------------------+------------------+------------------+------------------+------------------+------------------+------------------+--------------------+-----------------+\n",
            "|0.5023237059767551|0.5141921034667131|0.5110699709936147|0.9516239622079844|0.8549996664047012|0.8960095494948396|0.0145681324124455|8.173616518884397E-8|5.272652387098E-4|\n",
            "+------------------+------------------+------------------+------------------+------------------+------------------+------------------+--------------------+-----------------+\n",
            "\n"
          ]
        }
      ]
    },
    {
      "cell_type": "markdown",
      "source": [
        "####Correlação da Variável Pontuação de Fonte de Dados Externos com o Target"
      ],
      "metadata": {
        "id": "jHmCROowNdRO"
      }
    },
    {
      "cell_type": "code",
      "source": [
        "df_correlation = spark.sql(\"\"\"\n",
        "select\n",
        "  corr(EXT_SOURCE_1, TARGET) as correlation_EXT_SOURCE_1,\n",
        "  corr(EXT_SOURCE_2, TARGET) as correlation_EXT_SOURCE_2,\n",
        "  corr(EXT_SOURCE_3, TARGET) as correlation_EXT_SOURCE_3\n",
        "from\n",
        "  df_application_train_01\n",
        "\"\"\")\n",
        "df_correlation.show()"
      ],
      "metadata": {
        "colab": {
          "base_uri": "https://localhost:8080/"
        },
        "id": "nHAls1ERMV3Q",
        "outputId": "c8394cc8-d41c-4390-98ec-d96500a2042f"
      },
      "execution_count": null,
      "outputs": [
        {
          "output_type": "stream",
          "name": "stdout",
          "text": [
            "+------------------------+------------------------+------------------------+\n",
            "|correlation_EXT_SOURCE_1|correlation_EXT_SOURCE_2|correlation_EXT_SOURCE_3|\n",
            "+------------------------+------------------------+------------------------+\n",
            "|    -0.15491233954514788|     -0.1597761566994234|    -0.17989774535126316|\n",
            "+------------------------+------------------------+------------------------+\n",
            "\n"
          ]
        }
      ]
    },
    {
      "cell_type": "markdown",
      "source": [
        " Esses resultados de correlação indicam uma relação fraca entre as variáveis EXT_SOURCE_1, EXT_SOURCE_2, EXT_SOURCE_3 e o alvo TARGET, o que significa que essas variáveis não estão fortemente relacionadas à variável TARGET"
      ],
      "metadata": {
        "id": "fI4yg42VM5U6"
      }
    },
    {
      "cell_type": "markdown",
      "source": [
        "####Visualização da Variável Pontuação de Fonte de Dados Externos\n",
        "\n",
        " Crie um histograma para cada variável EXT_SOURCE_1, EXT_SOURCE_2 e EXT_SOURCE_3. Os histogramas ajudam a visualizar a distribuição de cada variável."
      ],
      "metadata": {
        "id": "oywI3rFtOH5D"
      }
    },
    {
      "cell_type": "code",
      "source": [
        "# Definir o estilo do seaborn\n",
        "sns.set(style=\"whitegrid\")\n",
        "\n",
        "# Definir o tamanho do gráfico\n",
        "plt.figure(figsize=(12, 6))\n",
        "\n",
        "# Histograma para EXT_SOURCE_1\n",
        "plt.subplot(1, 3, 1)\n",
        "sns.histplot(data=df_application_train_01, x='EXT_SOURCE_1', kde=True, color='skyblue')\n",
        "plt.title('Distribuição de EXT_SOURCE_1')\n",
        "plt.xlabel('')\n",
        "plt.ylabel('')\n",
        "\n",
        "# Histograma para EXT_SOURCE_2\n",
        "plt.subplot(1, 3, 2)\n",
        "sns.histplot(data=df_application_train_01, x='EXT_SOURCE_2', kde=True, color='salmon')\n",
        "plt.title('Distribuição de EXT_SOURCE_2')\n",
        "plt.xlabel('')\n",
        "plt.ylabel('')\n",
        "\n",
        "# Histograma para EXT_SOURCE_3\n",
        "plt.subplot(1, 3, 3)\n",
        "sns.histplot(data=df_application_train_01, x='EXT_SOURCE_3', kde=True, color='lightgreen')\n",
        "plt.title('Distribuição de EXT_SOURCE_3')\n",
        "plt.xlabel('')\n",
        "plt.ylabel('')\n",
        "\n",
        "# Mostrar os gráficos\n",
        "plt.tight_layout()\n",
        "plt.show()\n"
      ],
      "metadata": {
        "colab": {
          "base_uri": "https://localhost:8080/",
          "height": 457
        },
        "id": "VYRB4jUPNx9C",
        "outputId": "fb427c52-cb3d-4acc-9585-a9701d84f25d"
      },
      "execution_count": 62,
      "outputs": [
        {
          "output_type": "display_data",
          "data": {
            "text/plain": [
              "<Figure size 1200x600 with 3 Axes>"
            ],
            "image/png": "[encoded data removed]"
          },
          "metadata": {}
        }
      ]
    },
    {
      "cell_type": "markdown",
      "source": [
        "##Considerações Finais\n",
        "\n",
        "Durante a análise exploratória dos dados neste projeto de modelagem de crédito, explorei os dados e obtive insights significativos que podem informar o processo de tomada de decisão relacionado à concessão de crédito. Abaixo estão as principais conclusões derivadas dessa análise:\n",
        "\n",
        "- Distribuição do Target:\n",
        "\n",
        "A maioria dos clientes é classificada como \"bons pagadores\", representando cerca de 91,9% do total, enquanto aproximadamente 8,9% são identificados como \"maus pagadores\".\n",
        "A faixa etária mais comum entre os clientes inadimplentes está entre 30 e 39 anos, sugerindo um segmento demográfico com maior risco de não pagamento.\n",
        "\n",
        "- Tipos de Empréstimo e Inadimplência:\n",
        "\n",
        "A maioria dos clientes possui empréstimos do tipo \"Cash loans\", e embora a grande maioria dos clientes para ambos os tipos de empréstimos tenha status \"0\" (sem inadimplência), a proporção de inadimplentes é significativamente maior para \"Cash loans\".\n",
        "\n",
        "- Renda e Inadimplência:\n",
        "\n",
        "A renda total dos clientes classificados como 'bons' apresentou outliers, destacando casos extremos de renda entre esse grupo.\n",
        "Após a remoção dos outliers, observamos que a mediana da renda total para os clientes 'bons' está acima da mediana dos clientes 'maus', sugerindo uma relação entre renda e inadimplência.\n",
        "\n",
        "- Posse de Carro e Imóvel:\n",
        "\n",
        "A posse de carro parece não ter uma influência significativa na taxa de inadimplência dos clientes, embora a proporção de inadimplentes seja ligeiramente menor entre os clientes que possuem carro.\n",
        "A maioria dos clientes possui imóvel, e a proporção de inadimplentes é ligeiramente menor entre os clientes que possuem imóvel.\n",
        "\n",
        "- Número de Filhos e Educação:\n",
        "\n",
        "A maioria dos clientes não tem filhos ou possui apenas um filho, e a quantidade de clientes diminui à medida que o número de filhos aumenta.\n",
        "A maioria dos clientes possui educação de nível médio, e observamos uma relação entre o nível de educação e a taxa de inadimplência.\n",
        "\n",
        "- Faixa de Crédito e Renda:\n",
        "\n",
        "A maioria dos clientes está na faixa de crédito de 400k+ para ambas as categorias de target, e observamos um aumento geral no valor médio do crédito à medida que a faixa de renda aumenta.\n",
        "\n",
        "- Ocupação e Inadimplência:\n",
        "\n",
        "A ocupação \"Working\" é a mais comum entre os clientes, seguida por \"Commercial associate\" e \"State servant\".\n",
        "Observamos que clientes com ocupações como \"State servant\" e \"Pensioner\" têm menos chances de serem inadimplentes em comparação com outras ocupações.\n",
        "\n",
        "Essas conclusões fornecem uma base sólida para a próxima etapa do projeto, que envolverá a modelagem preditiva para prever a inadimplência dos clientes com base nessas características. A compreensão desses insights é fundamental para tomar decisões informadas sobre concessão de crédito e gerenciamento de risco."
      ],
      "metadata": {
        "id": "DZpScixmYFnJ"
      }
    }
  ],
  "metadata": {
    "colab": {
      "provenance": [],
      "collapsed_sections": [
        "8DxqGrf5-N9J",
        "EIW-Zms9d_20",
        "m5peDdQgFY5t",
        "_9PcnDeJmLKC"
      ]
    },
    "kernelspec": {
      "display_name": "Python 3",
      "name": "python3"
    },
    "language_info": {
      "name": "python"
    }
  },
  "nbformat": 4,
  "nbformat_minor": 0
}