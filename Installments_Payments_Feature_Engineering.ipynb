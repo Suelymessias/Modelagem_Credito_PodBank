{
  "nbformat": 4,
  "nbformat_minor": 0,
  "metadata": {
    "colab": {
      "provenance": [],
      "gpuType": "T4"
    },
    "kernelspec": {
      "name": "python3",
      "display_name": "Python 3"
    },
    "language_info": {
      "name": "python"
    }
  },
  "cells": [
    {
      "cell_type": "markdown",
      "source": [
        "#Introdução\n",
        "\n",
        "Este notebook é dedicado à feature engineering da tabela Installments Payments . Neste contexto, estarei explorando e transformando os dados da tabela para otimizar o desempenho dos modelos de machine learning que serão aplicados posteriormente. Feature engineering é uma etapa crucial no processo de preparação de dados, onde buscamos extrair informações relevantes e criar novas variáveis (ou features) que possam melhor capturar os padrões subjacentes aos nossos dados.\n",
        "\n",
        "No contexto específico do nosso negócio de concessão de crédito, a feature engineering desempenha um papel fundamental. A capacidade de prever com precisão a probabilidade de inadimplência ou de pagamento pontual é crucial para a saúde financeira da instituição. Nesse sentido, a feature engineering permite não apenas melhorar a eficácia dos modelos de machine learning em realizar essas previsões, mas também oferece uma oportunidade de compreender melhor o comportamento dos clientes e os fatores que influenciam sua capacidade de pagamento.\n",
        "\n",
        "O objetivo principal da feature engineering é, portanto, melhorar a capacidade dos modelos de machine learning em aprender com os dados, aumentando assim sua eficácia na realização de previsões ou classificações. Isso é alcançado através da seleção, transformação e criação de features que possam fornecer insights mais significativos e representativos para o problema em questão. Ao final deste processo, que será feito em todas as tabelas, esperamos obter um conjunto de dados mais refinado e adequado para alimentar nossos modelos de machine learning, resultando em predições mais precisas e confiáveis, o que é essencial para a tomada de decisões assertivas no âmbito da concessão de crédito."
      ],
      "metadata": {
        "id": "68aT-cOPBAOY"
      }
    },
    {
      "cell_type": "markdown",
      "source": [
        "##Configuração do Ambiente para Utilização do Spark\n",
        "Configuração do ambiente e ferramentas essenciais que foram instaladas para o início do projeto.\n",
        "\n",
        "Instalação do Apache Spark: O Apache Spark, uma poderosa ferramenta para processamento distribuído de dados em grande escala, foi instalado no ambiente de desenvolvimento. Esta instalação permitirá a utilização de todas as funcionalidades oferecidas pelo Spark para análise e manipulação de dados.\n",
        "\n",
        "Configuração do Ambiente Python: Para interagir de forma eficiente com o Spark utilizando a linguagem Python, foram realizadas configurações específicas do ambiente Python. Isso inclui a instalação do pacote PySpark, uma biblioteca Python que fornece uma API para interagir com o Spark.\n",
        "\n",
        "Criação da Sessão Spark: Uma sessão Spark foi criada utilizando a classe SparkSession. Essa sessão é fundamental para estabelecer uma conexão com o ambiente Spark e executar operações de processamento de dados distribuídas. Através dessa sessão, será possível acessar todos os recursos e funcionalidades do Spark para realizar análises e manipulações nos dados do projeto."
      ],
      "metadata": {
        "id": "3khF2OMM4UE3"
      }
    },
    {
      "cell_type": "code",
      "execution_count": 6,
      "metadata": {
        "id": "ZnxeAlzK3-H4"
      },
      "outputs": [],
      "source": [
        "!apt-get install openjdk-8-jdk-headless -qq > /dev/null\n",
        "\n",
        "# Fazendo download\n",
        "!wget -q https://archive.apache.org/dist/spark/spark-3.1.2/spark-3.1.2-bin-hadoop2.7.tgz\n",
        "\n",
        "# Descompactando os arquivos\n",
        "!tar xf spark-3.1.2-bin-hadoop2.7.tgz\n",
        "\n",
        "# Importando a biblioteca os\n",
        "import os\n",
        "\n",
        "# Definindo a variável de ambiente do Java\n",
        "os.environ[\"JAVA_HOME\"] = \"/usr/lib/jvm/java-8-openjdk-amd64\"\n",
        "\n",
        "# Definindo a variável de ambiente do Spark\n",
        "os.environ[\"SPARK_HOME\"] = \"/content/spark-3.1.2-bin-hadoop2.7\"\n",
        "\n",
        "\n",
        "# instalando a findspark\n",
        "!pip install -q findspark\n",
        "\n",
        "# Importando a findspark\n",
        "import findspark\n",
        "\n",
        "# Iniciando o findspark\n",
        "findspark.init()\n",
        "\n",
        "from pyspark.sql import SparkSession\n",
        "spark = SparkSession \\\n",
        "        .builder \\\n",
        "        .appName(\"Minha Primeira Aplicação no Pyspark\") \\\n",
        "        .getOrCreate()\n",
        "\n",
        "import os\n",
        "import sys\n",
        "\n",
        "os.environ['PYSPARK_PYTHON'] = sys.executable"
      ]
    },
    {
      "cell_type": "markdown",
      "source": [
        "## Leitura dos Dados"
      ],
      "metadata": {
        "id": "i6m8nV9EEowx"
      }
    },
    {
      "cell_type": "code",
      "source": [
        "df_Installments = spark.read.csv ('/content/drive/MyDrive/Colab Notebooks/AnaliseCredito/installments_payments.csv', header=True, inferSchema=True)\n",
        "df_Installments.createOrReplaceTempView(\"df_Installments\")"
      ],
      "metadata": {
        "id": "jNyUO_kc5OMa"
      },
      "execution_count": 7,
      "outputs": []
    },
    {
      "cell_type": "code",
      "source": [
        "df_Installments.printSchema()"
      ],
      "metadata": {
        "colab": {
          "base_uri": "https://localhost:8080/"
        },
        "id": "GJzUR0Uk6BRi",
        "outputId": "49eb205d-fceb-4836-f043-fed699c4c158"
      },
      "execution_count": 3,
      "outputs": [
        {
          "output_type": "stream",
          "name": "stdout",
          "text": [
            "root\n",
            " |-- SK_ID_PREV: integer (nullable = true)\n",
            " |-- SK_ID_CURR: integer (nullable = true)\n",
            " |-- NUM_INSTALMENT_VERSION: double (nullable = true)\n",
            " |-- NUM_INSTALMENT_NUMBER: integer (nullable = true)\n",
            " |-- DAYS_INSTALMENT: double (nullable = true)\n",
            " |-- DAYS_ENTRY_PAYMENT: double (nullable = true)\n",
            " |-- AMT_INSTALMENT: double (nullable = true)\n",
            " |-- AMT_PAYMENT: double (nullable = true)\n",
            "\n"
          ]
        }
      ]
    },
    {
      "cell_type": "code",
      "source": [
        "df_Installments.show()"
      ],
      "metadata": {
        "colab": {
          "base_uri": "https://localhost:8080/"
        },
        "id": "qDAZSZm66LC4",
        "outputId": "9ea2f38d-3148-4ee0-c666-bafbbc7e8cdb"
      },
      "execution_count": 4,
      "outputs": [
        {
          "output_type": "stream",
          "name": "stdout",
          "text": [
            "+----------+----------+----------------------+---------------------+---------------+------------------+--------------+-----------+\n",
            "|SK_ID_PREV|SK_ID_CURR|NUM_INSTALMENT_VERSION|NUM_INSTALMENT_NUMBER|DAYS_INSTALMENT|DAYS_ENTRY_PAYMENT|AMT_INSTALMENT|AMT_PAYMENT|\n",
            "+----------+----------+----------------------+---------------------+---------------+------------------+--------------+-----------+\n",
            "|   1054186|    161674|                   1.0|                    6|        -1180.0|           -1187.0|       6948.36|    6948.36|\n",
            "|   1330831|    151639|                   0.0|                   34|        -2156.0|           -2156.0|      1716.525|   1716.525|\n",
            "|   2085231|    193053|                   2.0|                    1|          -63.0|             -63.0|       25425.0|    25425.0|\n",
            "|   2452527|    199697|                   1.0|                    3|        -2418.0|           -2426.0|      24350.13|   24350.13|\n",
            "|   2714724|    167756|                   1.0|                    2|        -1383.0|           -1366.0|       2165.04|   2160.585|\n",
            "|   1137312|    164489|                   1.0|                   12|        -1384.0|           -1417.0|      5970.375|   5970.375|\n",
            "|   2234264|    184693|                   4.0|                   11|         -349.0|            -352.0|     29432.295|  29432.295|\n",
            "|   1818599|    111420|                   2.0|                    4|         -968.0|            -994.0|     17862.165|  17862.165|\n",
            "|   2723183|    112102|                   0.0|                   14|         -197.0|            -197.0|         70.74|      70.74|\n",
            "|   1413990|    109741|                   1.0|                    4|         -570.0|            -609.0|      14308.47|   14308.47|\n",
            "|   1782554|    106597|                   1.0|                    3|         -933.0|            -937.0|     34620.525|  34620.525|\n",
            "|   2558880|    154793|                   1.0|                    8|        -1262.0|           -1269.0|      15031.08|   15031.08|\n",
            "|   1570206|    147645|                   0.0|                   20|         -761.0|            -761.0|         21.51|      21.51|\n",
            "|   1723268|    197273|                   1.0|                   14|         -755.0|            -800.0|       6093.99|    6093.99|\n",
            "|   1594684|    100193|                   0.0|                   56|        -1153.0|           -1153.0|        301.86|     301.86|\n",
            "|   1456258|    118323|                   1.0|                    6|        -2619.0|           -2619.0|      4844.925|   4844.925|\n",
            "|   1053286|    170192|                   1.0|                    7|         -500.0|            -503.0|       6882.84|    6882.84|\n",
            "|   1410565|    197687|                   1.0|                    1|        -1037.0|           -1048.0|      12514.05|   12510.45|\n",
            "|   2391610|    183431|                   0.0|                   20|        -1680.0|           -1693.0|        7875.0|     7875.0|\n",
            "|   2329072|    183463|                   1.0|                   11|        -1699.0|           -1693.0|      7283.295|   7283.295|\n",
            "+----------+----------+----------------------+---------------------+---------------+------------------+--------------+-----------+\n",
            "only showing top 20 rows\n",
            "\n"
          ]
        }
      ]
    },
    {
      "cell_type": "markdown",
      "source": [
        "## Criação de Flags para Visão Temporal dos Dados\n",
        "\n",
        "Criação de flags para representar o comportamento do cliente ao longo de diferentes períodos de tempo em relação aos seus pagamentos."
      ],
      "metadata": {
        "id": "6QCYPwh7Etu6"
      }
    },
    {
      "cell_type": "code",
      "source": [
        "df_flag_01 = spark.sql(\"\"\"\n",
        "SELECT *,\n",
        "  CASE\n",
        "    WHEN DAYS_INSTALMENT >= -90 THEN 1\n",
        "    ELSE 0\n",
        "    END AS ULT_3_MESES_INSTALMENT,\n",
        "  CASE\n",
        "    WHEN DAYS_INSTALMENT >= -180 THEN 1\n",
        "    ELSE 0\n",
        "    END AS ULT_6_MESES_INSTALMENT,\n",
        "  CASE\n",
        "    WHEN DAYS_INSTALMENT >= -270 THEN 1\n",
        "    ELSE 0\n",
        "    END AS ULT_9_MESES_INSTALMENT,\n",
        "  CASE\n",
        "    WHEN DAYS_INSTALMENT >= -360 THEN 1\n",
        "    ELSE 0\n",
        "    END AS ULT_12_MESES_INSTALMENT,\n",
        "  CASE\n",
        "    WHEN DAYS_INSTALMENT >= -540 THEN 1\n",
        "    ELSE 0\n",
        "    END AS ULT_18_MESES_INSTALMENT\n",
        "FROM\n",
        "    df_Installments\n",
        "ORDER BY\n",
        "    SK_ID_PREV\n",
        "\"\"\")\n",
        "df_flag_01.show()"
      ],
      "metadata": {
        "colab": {
          "base_uri": "https://localhost:8080/"
        },
        "id": "WMue6S9LCkdx",
        "outputId": "b302942e-433a-43e0-8b68-766685a1fecc"
      },
      "execution_count": 8,
      "outputs": [
        {
          "output_type": "stream",
          "name": "stdout",
          "text": [
            "+----------+----------+----------------------+---------------------+---------------+------------------+--------------+-----------+----------------------+----------------------+----------------------+-----------------------+-----------------------+\n",
            "|SK_ID_PREV|SK_ID_CURR|NUM_INSTALMENT_VERSION|NUM_INSTALMENT_NUMBER|DAYS_INSTALMENT|DAYS_ENTRY_PAYMENT|AMT_INSTALMENT|AMT_PAYMENT|ULT_3_MESES_INSTALMENT|ULT_6_MESES_INSTALMENT|ULT_9_MESES_INSTALMENT|ULT_12_MESES_INSTALMENT|ULT_18_MESES_INSTALMENT|\n",
            "+----------+----------+----------------------+---------------------+---------------+------------------+--------------+-----------+----------------------+----------------------+----------------------+-----------------------+-----------------------+\n",
            "|   1000005|    176456|                   1.0|                    2|        -1658.0|           -1664.0|     14713.605|  14713.605|                     0|                     0|                     0|                      0|                      0|\n",
            "|   1000011|    198678|                   1.0|                    5|         -315.0|            -314.0|      92435.04|   92435.04|                     0|                     0|                     0|                      1|                      1|\n",
            "|   1000016|    157990|                   1.0|                    3|         -625.0|            -654.0|       6078.15|    6078.15|                     0|                     0|                     0|                      0|                      0|\n",
            "|   1000019|    176905|                   1.0|                   10|        -2037.0|           -2051.0|      6072.165|   6072.165|                     0|                     0|                     0|                      0|                      0|\n",
            "|   1000019|    176905|                   1.0|                    7|        -2127.0|           -2157.0|      6072.165|       0.09|                     0|                     0|                     0|                      0|                      0|\n",
            "|   1000025|    156331|                   1.0|                    3|         -388.0|            -396.0|      2616.795|   2616.795|                     0|                     0|                     0|                      0|                      1|\n",
            "|   1000025|    156331|                   1.0|                    5|         -328.0|            -354.0|      2616.795|   2616.795|                     0|                     0|                     0|                      1|                      1|\n",
            "|   1000031|    131335|                   0.0|                    8|         -289.0|            -289.0|       394.065|    394.065|                     0|                     0|                     0|                      1|                      1|\n",
            "|   1000031|    131335|                   0.0|                   29|          -60.0|             -60.0|       253.755|    253.755|                     1|                     1|                     1|                      1|                      1|\n",
            "|   1000031|    131335|                   0.0|                    5|         -332.0|            -351.0|         225.0|      225.0|                     0|                     0|                     0|                      1|                      1|\n",
            "|   1000031|    131335|                   0.0|                    7|         -320.0|            -320.0|       394.065|    394.065|                     0|                     0|                     0|                      1|                      1|\n",
            "|   1000032|    138624|                   1.0|                    6|         -368.0|            -383.0|      10561.23|   10561.23|                     0|                     0|                     0|                      0|                      1|\n",
            "|   1000034|    117284|                   1.0|                    1|         -709.0|            -739.0|       4957.02|    4957.02|                     0|                     0|                     0|                      0|                      0|\n",
            "|   1000042|    185392|                   1.0|                    6|        -1631.0|           -1632.0|      5084.595|   5084.595|                     0|                     0|                     0|                      0|                      0|\n",
            "|   1000045|    123560|                   1.0|                    8|        -2664.0|           -2664.0|       3712.14|    3712.14|                     0|                     0|                     0|                      0|                      0|\n",
            "|   1000045|    123560|                   1.0|                    7|        -2694.0|           -2694.0|       3712.14|    3712.14|                     0|                     0|                     0|                      0|                      0|\n",
            "|   1000048|    146032|                   1.0|                   10|         -353.0|            -391.0|      4805.325|   4805.325|                     0|                     0|                     0|                      1|                      1|\n",
            "|   1000048|    146032|                   1.0|                   20|          -53.0|             -72.0|      4805.325|   4805.325|                     1|                     1|                     1|                      1|                      1|\n",
            "|   1000048|    146032|                   1.0|                   13|         -263.0|            -310.0|      4805.325|   4805.325|                     0|                     0|                     1|                      1|                      1|\n",
            "|   1000049|    176852|                   5.0|                    3|         -255.0|            -261.0|       1692.36|    1692.36|                     0|                     0|                     1|                      1|                      1|\n",
            "+----------+----------+----------------------+---------------------+---------------+------------------+--------------+-----------+----------------------+----------------------+----------------------+-----------------------+-----------------------+\n",
            "only showing top 20 rows\n",
            "\n"
          ]
        }
      ]
    },
    {
      "cell_type": "markdown",
      "source": [
        "##Criação da Variável de Razão de Pagamento\n",
        "\n",
        "Criação da variável relação entre o valor pago e o valor da parcela nos empréstimos ou financiamentos dos clientes."
      ],
      "metadata": {
        "id": "57tv2u_jUyhB"
      }
    },
    {
      "cell_type": "code",
      "source": [
        "df_flag_01.createOrReplaceTempView(\"df_flag_01\")\n",
        "df_razao_pagamento = spark.sql(\"\"\"\n",
        "  SELECT *,\n",
        "    ROUND(AMT_PAYMENT / AMT_INSTALMENT,2) AS RAZAO_PAG_E_VL_PARCELA\n",
        "  FROM\n",
        "    df_flag_01;\n",
        "\"\"\")\n",
        "df_razao_pagamento.show()"
      ],
      "metadata": {
        "colab": {
          "base_uri": "https://localhost:8080/"
        },
        "id": "u8AXrkNM4Tjd",
        "outputId": "6c955e41-6b7a-4a50-b0d6-867fd9f60009"
      },
      "execution_count": 9,
      "outputs": [
        {
          "output_type": "stream",
          "name": "stdout",
          "text": [
            "+----------+----------+----------------------+---------------------+---------------+------------------+--------------+-----------+----------------------+----------------------+----------------------+-----------------------+-----------------------+----------------------+\n",
            "|SK_ID_PREV|SK_ID_CURR|NUM_INSTALMENT_VERSION|NUM_INSTALMENT_NUMBER|DAYS_INSTALMENT|DAYS_ENTRY_PAYMENT|AMT_INSTALMENT|AMT_PAYMENT|ULT_3_MESES_INSTALMENT|ULT_6_MESES_INSTALMENT|ULT_9_MESES_INSTALMENT|ULT_12_MESES_INSTALMENT|ULT_18_MESES_INSTALMENT|RAZAO_PAG_E_VL_PARCELA|\n",
            "+----------+----------+----------------------+---------------------+---------------+------------------+--------------+-----------+----------------------+----------------------+----------------------+-----------------------+-----------------------+----------------------+\n",
            "|   1000005|    176456|                   1.0|                    2|        -1658.0|           -1664.0|     14713.605|  14713.605|                     0|                     0|                     0|                      0|                      0|                   1.0|\n",
            "|   1000011|    198678|                   1.0|                    5|         -315.0|            -314.0|      92435.04|   92435.04|                     0|                     0|                     0|                      1|                      1|                   1.0|\n",
            "|   1000016|    157990|                   1.0|                    3|         -625.0|            -654.0|       6078.15|    6078.15|                     0|                     0|                     0|                      0|                      0|                   1.0|\n",
            "|   1000019|    176905|                   1.0|                   10|        -2037.0|           -2051.0|      6072.165|   6072.165|                     0|                     0|                     0|                      0|                      0|                   1.0|\n",
            "|   1000019|    176905|                   1.0|                    7|        -2127.0|           -2157.0|      6072.165|       0.09|                     0|                     0|                     0|                      0|                      0|                   0.0|\n",
            "|   1000025|    156331|                   1.0|                    3|         -388.0|            -396.0|      2616.795|   2616.795|                     0|                     0|                     0|                      0|                      1|                   1.0|\n",
            "|   1000025|    156331|                   1.0|                    5|         -328.0|            -354.0|      2616.795|   2616.795|                     0|                     0|                     0|                      1|                      1|                   1.0|\n",
            "|   1000031|    131335|                   0.0|                    8|         -289.0|            -289.0|       394.065|    394.065|                     0|                     0|                     0|                      1|                      1|                   1.0|\n",
            "|   1000031|    131335|                   0.0|                   29|          -60.0|             -60.0|       253.755|    253.755|                     1|                     1|                     1|                      1|                      1|                   1.0|\n",
            "|   1000031|    131335|                   0.0|                    5|         -332.0|            -351.0|         225.0|      225.0|                     0|                     0|                     0|                      1|                      1|                   1.0|\n",
            "|   1000031|    131335|                   0.0|                    7|         -320.0|            -320.0|       394.065|    394.065|                     0|                     0|                     0|                      1|                      1|                   1.0|\n",
            "|   1000032|    138624|                   1.0|                    6|         -368.0|            -383.0|      10561.23|   10561.23|                     0|                     0|                     0|                      0|                      1|                   1.0|\n",
            "|   1000034|    117284|                   1.0|                    1|         -709.0|            -739.0|       4957.02|    4957.02|                     0|                     0|                     0|                      0|                      0|                   1.0|\n",
            "|   1000042|    185392|                   1.0|                    6|        -1631.0|           -1632.0|      5084.595|   5084.595|                     0|                     0|                     0|                      0|                      0|                   1.0|\n",
            "|   1000045|    123560|                   1.0|                    8|        -2664.0|           -2664.0|       3712.14|    3712.14|                     0|                     0|                     0|                      0|                      0|                   1.0|\n",
            "|   1000045|    123560|                   1.0|                    7|        -2694.0|           -2694.0|       3712.14|    3712.14|                     0|                     0|                     0|                      0|                      0|                   1.0|\n",
            "|   1000048|    146032|                   1.0|                   10|         -353.0|            -391.0|      4805.325|   4805.325|                     0|                     0|                     0|                      1|                      1|                   1.0|\n",
            "|   1000048|    146032|                   1.0|                   20|          -53.0|             -72.0|      4805.325|   4805.325|                     1|                     1|                     1|                      1|                      1|                   1.0|\n",
            "|   1000048|    146032|                   1.0|                   13|         -263.0|            -310.0|      4805.325|   4805.325|                     0|                     0|                     1|                      1|                      1|                   1.0|\n",
            "|   1000049|    176852|                   5.0|                    3|         -255.0|            -261.0|       1692.36|    1692.36|                     0|                     0|                     1|                      1|                      1|                   1.0|\n",
            "+----------+----------+----------------------+---------------------+---------------+------------------+--------------+-----------+----------------------+----------------------+----------------------+-----------------------+-----------------------+----------------------+\n",
            "only showing top 20 rows\n",
            "\n"
          ]
        }
      ]
    },
    {
      "cell_type": "markdown",
      "source": [
        "##Criação da Variável de Atraso de Pagamento\n",
        "\n",
        "Criação da variável atrasos nos pagamentos dos clientes."
      ],
      "metadata": {
        "id": "jYazBiJ-V7_E"
      }
    },
    {
      "cell_type": "code",
      "source": [
        "df_razao_pagamento.createOrReplaceTempView(\"df_razao_pagamento\")\n",
        "df_atraso_pagamento = spark.sql(\"\"\"\n",
        "  SELECT *,\n",
        "    DAYS_ENTRY_PAYMENT - DAYS_INSTALMENT AS ATRASO_PAGAMENTO\n",
        "  FROM\n",
        "   df_razao_pagamento\n",
        "\"\"\")\n",
        "df_atraso_pagamento.show()"
      ],
      "metadata": {
        "colab": {
          "base_uri": "https://localhost:8080/"
        },
        "id": "mvwVDXxd_bK6",
        "outputId": "5e4f9ae6-01da-455a-cd09-d1a3debda8db"
      },
      "execution_count": 10,
      "outputs": [
        {
          "output_type": "stream",
          "name": "stdout",
          "text": [
            "+----------+----------+----------------------+---------------------+---------------+------------------+--------------+-----------+----------------------+----------------------+----------------------+-----------------------+-----------------------+----------------------+----------------+\n",
            "|SK_ID_PREV|SK_ID_CURR|NUM_INSTALMENT_VERSION|NUM_INSTALMENT_NUMBER|DAYS_INSTALMENT|DAYS_ENTRY_PAYMENT|AMT_INSTALMENT|AMT_PAYMENT|ULT_3_MESES_INSTALMENT|ULT_6_MESES_INSTALMENT|ULT_9_MESES_INSTALMENT|ULT_12_MESES_INSTALMENT|ULT_18_MESES_INSTALMENT|RAZAO_PAG_E_VL_PARCELA|ATRASO_PAGAMENTO|\n",
            "+----------+----------+----------------------+---------------------+---------------+------------------+--------------+-----------+----------------------+----------------------+----------------------+-----------------------+-----------------------+----------------------+----------------+\n",
            "|   1000005|    176456|                   1.0|                    2|        -1658.0|           -1664.0|     14713.605|  14713.605|                     0|                     0|                     0|                      0|                      0|                   1.0|            -6.0|\n",
            "|   1000011|    198678|                   1.0|                    5|         -315.0|            -314.0|      92435.04|   92435.04|                     0|                     0|                     0|                      1|                      1|                   1.0|             1.0|\n",
            "|   1000016|    157990|                   1.0|                    3|         -625.0|            -654.0|       6078.15|    6078.15|                     0|                     0|                     0|                      0|                      0|                   1.0|           -29.0|\n",
            "|   1000019|    176905|                   1.0|                   10|        -2037.0|           -2051.0|      6072.165|   6072.165|                     0|                     0|                     0|                      0|                      0|                   1.0|           -14.0|\n",
            "|   1000019|    176905|                   1.0|                    7|        -2127.0|           -2157.0|      6072.165|       0.09|                     0|                     0|                     0|                      0|                      0|                   0.0|           -30.0|\n",
            "|   1000025|    156331|                   1.0|                    3|         -388.0|            -396.0|      2616.795|   2616.795|                     0|                     0|                     0|                      0|                      1|                   1.0|            -8.0|\n",
            "|   1000025|    156331|                   1.0|                    5|         -328.0|            -354.0|      2616.795|   2616.795|                     0|                     0|                     0|                      1|                      1|                   1.0|           -26.0|\n",
            "|   1000031|    131335|                   0.0|                    8|         -289.0|            -289.0|       394.065|    394.065|                     0|                     0|                     0|                      1|                      1|                   1.0|             0.0|\n",
            "|   1000031|    131335|                   0.0|                   29|          -60.0|             -60.0|       253.755|    253.755|                     1|                     1|                     1|                      1|                      1|                   1.0|             0.0|\n",
            "|   1000031|    131335|                   0.0|                    5|         -332.0|            -351.0|         225.0|      225.0|                     0|                     0|                     0|                      1|                      1|                   1.0|           -19.0|\n",
            "|   1000031|    131335|                   0.0|                    7|         -320.0|            -320.0|       394.065|    394.065|                     0|                     0|                     0|                      1|                      1|                   1.0|             0.0|\n",
            "|   1000032|    138624|                   1.0|                    6|         -368.0|            -383.0|      10561.23|   10561.23|                     0|                     0|                     0|                      0|                      1|                   1.0|           -15.0|\n",
            "|   1000034|    117284|                   1.0|                    1|         -709.0|            -739.0|       4957.02|    4957.02|                     0|                     0|                     0|                      0|                      0|                   1.0|           -30.0|\n",
            "|   1000042|    185392|                   1.0|                    6|        -1631.0|           -1632.0|      5084.595|   5084.595|                     0|                     0|                     0|                      0|                      0|                   1.0|            -1.0|\n",
            "|   1000045|    123560|                   1.0|                    8|        -2664.0|           -2664.0|       3712.14|    3712.14|                     0|                     0|                     0|                      0|                      0|                   1.0|             0.0|\n",
            "|   1000045|    123560|                   1.0|                    7|        -2694.0|           -2694.0|       3712.14|    3712.14|                     0|                     0|                     0|                      0|                      0|                   1.0|             0.0|\n",
            "|   1000048|    146032|                   1.0|                   10|         -353.0|            -391.0|      4805.325|   4805.325|                     0|                     0|                     0|                      1|                      1|                   1.0|           -38.0|\n",
            "|   1000048|    146032|                   1.0|                   20|          -53.0|             -72.0|      4805.325|   4805.325|                     1|                     1|                     1|                      1|                      1|                   1.0|           -19.0|\n",
            "|   1000048|    146032|                   1.0|                   13|         -263.0|            -310.0|      4805.325|   4805.325|                     0|                     0|                     1|                      1|                      1|                   1.0|           -47.0|\n",
            "|   1000049|    176852|                   5.0|                    3|         -255.0|            -261.0|       1692.36|    1692.36|                     0|                     0|                     1|                      1|                      1|                   1.0|            -6.0|\n",
            "+----------+----------+----------------------+---------------------+---------------+------------------+--------------+-----------+----------------------+----------------------+----------------------+-----------------------+-----------------------+----------------------+----------------+\n",
            "only showing top 20 rows\n",
            "\n"
          ]
        }
      ]
    },
    {
      "cell_type": "markdown",
      "source": [
        " ## Cálculo da Quantidade de Pagamento Recebido pelo Cliente\n",
        "\n",
        " Diferença entre o valor pago e o valor da parcela esperada para cada transação."
      ],
      "metadata": {
        "id": "AQcEHP94CKk6"
      }
    },
    {
      "cell_type": "code",
      "source": [
        "df_atraso_pagamento.createOrReplaceTempView(\"df_atraso_pagamento\")\n",
        "df_qtde_pag_recebido = spark.sql(\"\"\"\n",
        "    SELECT *,\n",
        "        AMT_PAYMENT - AMT_INSTALMENT AS QUANTIDADE_PAGAMENTO_RECEBIDO\n",
        "    FROM\n",
        "        df_atraso_pagamento\n",
        "\"\"\")\n",
        "df_qtde_pag_recebido.show()\n"
      ],
      "metadata": {
        "colab": {
          "base_uri": "https://localhost:8080/"
        },
        "id": "aentrBHxYSMy",
        "outputId": "cc0dc273-ff80-47a3-eeb4-3f20813578a3"
      },
      "execution_count": 11,
      "outputs": [
        {
          "output_type": "stream",
          "name": "stdout",
          "text": [
            "+----------+----------+----------------------+---------------------+---------------+------------------+--------------+-----------+----------------------+----------------------+----------------------+-----------------------+-----------------------+----------------------+----------------+-----------------------------+\n",
            "|SK_ID_PREV|SK_ID_CURR|NUM_INSTALMENT_VERSION|NUM_INSTALMENT_NUMBER|DAYS_INSTALMENT|DAYS_ENTRY_PAYMENT|AMT_INSTALMENT|AMT_PAYMENT|ULT_3_MESES_INSTALMENT|ULT_6_MESES_INSTALMENT|ULT_9_MESES_INSTALMENT|ULT_12_MESES_INSTALMENT|ULT_18_MESES_INSTALMENT|RAZAO_PAG_E_VL_PARCELA|ATRASO_PAGAMENTO|QUANTIDADE_PAGAMENTO_RECEBIDO|\n",
            "+----------+----------+----------------------+---------------------+---------------+------------------+--------------+-----------+----------------------+----------------------+----------------------+-----------------------+-----------------------+----------------------+----------------+-----------------------------+\n",
            "|   1000005|    176456|                   1.0|                    2|        -1658.0|           -1664.0|     14713.605|  14713.605|                     0|                     0|                     0|                      0|                      0|                   1.0|            -6.0|                          0.0|\n",
            "|   1000011|    198678|                   1.0|                    5|         -315.0|            -314.0|      92435.04|   92435.04|                     0|                     0|                     0|                      1|                      1|                   1.0|             1.0|                          0.0|\n",
            "|   1000016|    157990|                   1.0|                    3|         -625.0|            -654.0|       6078.15|    6078.15|                     0|                     0|                     0|                      0|                      0|                   1.0|           -29.0|                          0.0|\n",
            "|   1000019|    176905|                   1.0|                   10|        -2037.0|           -2051.0|      6072.165|   6072.165|                     0|                     0|                     0|                      0|                      0|                   1.0|           -14.0|                          0.0|\n",
            "|   1000019|    176905|                   1.0|                    7|        -2127.0|           -2157.0|      6072.165|       0.09|                     0|                     0|                     0|                      0|                      0|                   0.0|           -30.0|                    -6072.075|\n",
            "|   1000025|    156331|                   1.0|                    3|         -388.0|            -396.0|      2616.795|   2616.795|                     0|                     0|                     0|                      0|                      1|                   1.0|            -8.0|                          0.0|\n",
            "|   1000025|    156331|                   1.0|                    5|         -328.0|            -354.0|      2616.795|   2616.795|                     0|                     0|                     0|                      1|                      1|                   1.0|           -26.0|                          0.0|\n",
            "|   1000031|    131335|                   0.0|                    8|         -289.0|            -289.0|       394.065|    394.065|                     0|                     0|                     0|                      1|                      1|                   1.0|             0.0|                          0.0|\n",
            "|   1000031|    131335|                   0.0|                   29|          -60.0|             -60.0|       253.755|    253.755|                     1|                     1|                     1|                      1|                      1|                   1.0|             0.0|                          0.0|\n",
            "|   1000031|    131335|                   0.0|                    5|         -332.0|            -351.0|         225.0|      225.0|                     0|                     0|                     0|                      1|                      1|                   1.0|           -19.0|                          0.0|\n",
            "|   1000031|    131335|                   0.0|                    7|         -320.0|            -320.0|       394.065|    394.065|                     0|                     0|                     0|                      1|                      1|                   1.0|             0.0|                          0.0|\n",
            "|   1000032|    138624|                   1.0|                    6|         -368.0|            -383.0|      10561.23|   10561.23|                     0|                     0|                     0|                      0|                      1|                   1.0|           -15.0|                          0.0|\n",
            "|   1000034|    117284|                   1.0|                    1|         -709.0|            -739.0|       4957.02|    4957.02|                     0|                     0|                     0|                      0|                      0|                   1.0|           -30.0|                          0.0|\n",
            "|   1000042|    185392|                   1.0|                    6|        -1631.0|           -1632.0|      5084.595|   5084.595|                     0|                     0|                     0|                      0|                      0|                   1.0|            -1.0|                          0.0|\n",
            "|   1000045|    123560|                   1.0|                    8|        -2664.0|           -2664.0|       3712.14|    3712.14|                     0|                     0|                     0|                      0|                      0|                   1.0|             0.0|                          0.0|\n",
            "|   1000045|    123560|                   1.0|                    7|        -2694.0|           -2694.0|       3712.14|    3712.14|                     0|                     0|                     0|                      0|                      0|                   1.0|             0.0|                          0.0|\n",
            "|   1000048|    146032|                   1.0|                   10|         -353.0|            -391.0|      4805.325|   4805.325|                     0|                     0|                     0|                      1|                      1|                   1.0|           -38.0|                          0.0|\n",
            "|   1000048|    146032|                   1.0|                   20|          -53.0|             -72.0|      4805.325|   4805.325|                     1|                     1|                     1|                      1|                      1|                   1.0|           -19.0|                          0.0|\n",
            "|   1000048|    146032|                   1.0|                   13|         -263.0|            -310.0|      4805.325|   4805.325|                     0|                     0|                     1|                      1|                      1|                   1.0|           -47.0|                          0.0|\n",
            "|   1000049|    176852|                   5.0|                    3|         -255.0|            -261.0|       1692.36|    1692.36|                     0|                     0|                     1|                      1|                      1|                   1.0|            -6.0|                          0.0|\n",
            "+----------+----------+----------------------+---------------------+---------------+------------------+--------------+-----------+----------------------+----------------------+----------------------+-----------------------+-----------------------+----------------------+----------------+-----------------------------+\n",
            "only showing top 20 rows\n",
            "\n"
          ]
        }
      ]
    },
    {
      "cell_type": "markdown",
      "source": [
        "## Cálculo do Número Total de Pagamentos por Cliente\n",
        "\n",
        "Agregação do número total de pagamentos feitos por cada cliente."
      ],
      "metadata": {
        "id": "eH3dS-pzCg93"
      }
    },
    {
      "cell_type": "code",
      "source": [
        "df_qtde_pag_recebido.createOrReplaceTempView(\"df_qtde_pag_recebido\")\n",
        "df_numero_tot_pag = spark.sql(\"\"\"\n",
        "SELECT\n",
        "    SK_ID_PREV,\n",
        "    COUNT(*) AS NUMERO_TOTAL_PAGAMENTOS\n",
        "FROM\n",
        "   df_qtde_pag_recebido\n",
        "GROUP BY\n",
        "    SK_ID_PREV\n",
        "ORDER BY\n",
        "    SK_ID_PREV;\n",
        "\"\"\")\n",
        "df_numero_tot_pag.show()"
      ],
      "metadata": {
        "colab": {
          "base_uri": "https://localhost:8080/"
        },
        "id": "JyTP39wUZ-Ud",
        "outputId": "31b16be8-6460-4695-cf0e-ef57dfd8184b"
      },
      "execution_count": 12,
      "outputs": [
        {
          "output_type": "stream",
          "name": "stdout",
          "text": [
            "+----------+-----------------------+\n",
            "|SK_ID_PREV|NUMERO_TOTAL_PAGAMENTOS|\n",
            "+----------+-----------------------+\n",
            "|   1000005|                      1|\n",
            "|   1000011|                      1|\n",
            "|   1000016|                      1|\n",
            "|   1000019|                      2|\n",
            "|   1000025|                      2|\n",
            "|   1000031|                      4|\n",
            "|   1000032|                      1|\n",
            "|   1000034|                      1|\n",
            "|   1000042|                      1|\n",
            "|   1000045|                      2|\n",
            "|   1000048|                      3|\n",
            "|   1000049|                      1|\n",
            "|   1000050|                      1|\n",
            "|   1000052|                      2|\n",
            "|   1000054|                      1|\n",
            "|   1000057|                      3|\n",
            "|   1000058|                      1|\n",
            "|   1000060|                      1|\n",
            "|   1000063|                      2|\n",
            "|   1000073|                      2|\n",
            "+----------+-----------------------+\n",
            "only showing top 20 rows\n",
            "\n"
          ]
        }
      ]
    },
    {
      "cell_type": "markdown",
      "source": [
        "##Criação de Variáveis Agregadas de Pagamento\n",
        "\n",
        "Agregando informações sobre os valores de pagamento ao longo de diferentes períodos de tempo."
      ],
      "metadata": {
        "id": "WyTabJ4qWVNv"
      }
    },
    {
      "cell_type": "code",
      "source": [
        "df_qtde_pag_recebido.createOrReplaceTempView(\"df_qtde_pag_recebido\")\n",
        "df_temp = spark.sql(\"\"\"\n",
        "  SELECT\n",
        "    SK_ID_PREV,\n",
        "    AVG(CASE WHEN ULT_3_MESES_INSTALMENT = 1 THEN AMT_INSTALMENT ELSE NULL END) AS VL_MED_AMT_INSTALMENT_ULT_3_MS,\n",
        "    MIN(CASE WHEN ULT_3_MESES_INSTALMENT = 1 THEN AMT_INSTALMENT ELSE NULL END) AS VL_MIN_AMT_INSTALMENT_ULT_3_MS,\n",
        "    MAX(CASE WHEN ULT_3_MESES_INSTALMENT = 1 THEN AMT_INSTALMENT ELSE NULL END) AS VL_MAX_AMT_INSTALMENT_ULT_3_MS,\n",
        "    SUM(CASE WHEN ULT_3_MESES_INSTALMENT = 1 THEN AMT_INSTALMENT ELSE NULL END) AS VL_SUM_AMT_INSTALMENT_ULT_3_MS,\n",
        "\n",
        "    AVG(CASE WHEN ULT_6_MESES_INSTALMENT = 1 THEN AMT_INSTALMENT ELSE NULL END) AS VL_MED_AMT_INSTALMENT_ULT_6_MS,\n",
        "    MIN(CASE WHEN ULT_6_MESES_INSTALMENT = 1 THEN AMT_INSTALMENT ELSE NULL END) AS VL_MIN_AMT_INSTALMENT_ULT_6_MS,\n",
        "    MAX(CASE WHEN ULT_6_MESES_INSTALMENT = 1 THEN AMT_INSTALMENT ELSE NULL END) AS VL_MAX_AMT_INSTALMENT_ULT_6_MS,\n",
        "    SUM(CASE WHEN ULT_6_MESES_INSTALMENT = 1 THEN AMT_INSTALMENT ELSE NULL END) AS VL_SUM_AMT_INSTALMENT_ULT_6_MS,\n",
        "\n",
        "    AVG(CASE WHEN ULT_9_MESES_INSTALMENT = 1 THEN AMT_INSTALMENT ELSE NULL END) AS VL_MED_AMT_INSTALMENT_ULT_9_MS,\n",
        "    MIN(CASE WHEN ULT_9_MESES_INSTALMENT = 1 THEN AMT_INSTALMENT ELSE NULL END) AS VL_MIN_AMT_INSTALMENT_ULT_9_MS,\n",
        "    MAX(CASE WHEN ULT_9_MESES_INSTALMENT = 1 THEN AMT_INSTALMENT ELSE NULL END) AS VL_MAX_AMT_INSTALMENT_ULT_9_MS,\n",
        "    SUM(CASE WHEN ULT_9_MESES_INSTALMENT = 1 THEN AMT_INSTALMENT ELSE NULL END) AS VL_SUM_AMT_INSTALMENT_ULT_9_MS,\n",
        "\n",
        "    AVG(CASE WHEN ULT_12_MESES_INSTALMENT = 1 THEN AMT_INSTALMENT ELSE NULL END) AS VL_MED_AMT_INSTALMENT_ULT_12_MS,\n",
        "    MIN(CASE WHEN ULT_12_MESES_INSTALMENT = 1 THEN AMT_INSTALMENT ELSE NULL END) AS VL_MIN_AMT_INSTALMENT_ULT_12_MS,\n",
        "    MAX(CASE WHEN ULT_12_MESES_INSTALMENT = 1 THEN AMT_INSTALMENT ELSE NULL END) AS VL_MAX_AMT_INSTALMENT_ULT_12_MS,\n",
        "    SUM(CASE WHEN ULT_12_MESES_INSTALMENT = 1 THEN AMT_INSTALMENT ELSE NULL END) AS VL_SUM_AMT_INSTALMENT_ULT_12_MS,\n",
        "\n",
        "    AVG(CASE WHEN ULT_18_MESES_INSTALMENT = 1 THEN AMT_INSTALMENT ELSE NULL END) AS VL_MED_AMT_INSTALMENT_ULT_18_MS,\n",
        "    MIN(CASE WHEN ULT_18_MESES_INSTALMENT = 1 THEN AMT_INSTALMENT ELSE NULL END) AS VL_MIN_AMT_INSTALMENT_ULT_18_MS,\n",
        "    MAX(CASE WHEN ULT_18_MESES_INSTALMENT = 1 THEN AMT_INSTALMENT ELSE NULL END) AS VL_MAX_AMT_INSTALMENT_ULT_18_MS,\n",
        "    SUM(CASE WHEN ULT_18_MESES_INSTALMENT = 1 THEN AMT_INSTALMENT ELSE NULL END) AS VL_SUM_AMT_INSTALMENT_ULT_18_MS\n",
        "FROM\n",
        "    df_qtde_pag_recebido\n",
        "GROUP BY\n",
        "    SK_ID_PREV\n",
        "ORDER BY\n",
        "    SK_ID_PREV;\n",
        "   \"\"\")\n",
        "df_temp.show()"
      ],
      "metadata": {
        "colab": {
          "base_uri": "https://localhost:8080/"
        },
        "id": "6dXshFIRBnAR",
        "outputId": "493c3416-4b6b-4b25-a933-ebecc9889fa6"
      },
      "execution_count": 13,
      "outputs": [
        {
          "output_type": "stream",
          "name": "stdout",
          "text": [
            "+----------+------------------------------+------------------------------+------------------------------+------------------------------+------------------------------+------------------------------+------------------------------+------------------------------+------------------------------+------------------------------+------------------------------+------------------------------+-------------------------------+-------------------------------+-------------------------------+-------------------------------+-------------------------------+-------------------------------+-------------------------------+-------------------------------+\n",
            "|SK_ID_PREV|VL_MED_AMT_INSTALMENT_ULT_3_MS|VL_MIN_AMT_INSTALMENT_ULT_3_MS|VL_MAX_AMT_INSTALMENT_ULT_3_MS|VL_SUM_AMT_INSTALMENT_ULT_3_MS|VL_MED_AMT_INSTALMENT_ULT_6_MS|VL_MIN_AMT_INSTALMENT_ULT_6_MS|VL_MAX_AMT_INSTALMENT_ULT_6_MS|VL_SUM_AMT_INSTALMENT_ULT_6_MS|VL_MED_AMT_INSTALMENT_ULT_9_MS|VL_MIN_AMT_INSTALMENT_ULT_9_MS|VL_MAX_AMT_INSTALMENT_ULT_9_MS|VL_SUM_AMT_INSTALMENT_ULT_9_MS|VL_MED_AMT_INSTALMENT_ULT_12_MS|VL_MIN_AMT_INSTALMENT_ULT_12_MS|VL_MAX_AMT_INSTALMENT_ULT_12_MS|VL_SUM_AMT_INSTALMENT_ULT_12_MS|VL_MED_AMT_INSTALMENT_ULT_18_MS|VL_MIN_AMT_INSTALMENT_ULT_18_MS|VL_MAX_AMT_INSTALMENT_ULT_18_MS|VL_SUM_AMT_INSTALMENT_ULT_18_MS|\n",
            "+----------+------------------------------+------------------------------+------------------------------+------------------------------+------------------------------+------------------------------+------------------------------+------------------------------+------------------------------+------------------------------+------------------------------+------------------------------+-------------------------------+-------------------------------+-------------------------------+-------------------------------+-------------------------------+-------------------------------+-------------------------------+-------------------------------+\n",
            "|   1000005|                          null|                          null|                          null|                          null|                          null|                          null|                          null|                          null|                          null|                          null|                          null|                          null|                           null|                           null|                           null|                           null|                           null|                           null|                           null|                           null|\n",
            "|   1000011|                          null|                          null|                          null|                          null|                          null|                          null|                          null|                          null|                          null|                          null|                          null|                          null|                       92435.04|                       92435.04|                       92435.04|                       92435.04|                       92435.04|                       92435.04|                       92435.04|                       92435.04|\n",
            "|   1000016|                          null|                          null|                          null|                          null|                          null|                          null|                          null|                          null|                          null|                          null|                          null|                          null|                           null|                           null|                           null|                           null|                           null|                           null|                           null|                           null|\n",
            "|   1000019|                          null|                          null|                          null|                          null|                          null|                          null|                          null|                          null|                          null|                          null|                          null|                          null|                           null|                           null|                           null|                           null|                           null|                           null|                           null|                           null|\n",
            "|   1000025|                          null|                          null|                          null|                          null|                          null|                          null|                          null|                          null|                          null|                          null|                          null|                          null|                       2616.795|                       2616.795|                       2616.795|                       2616.795|                       2616.795|                       2616.795|                       2616.795|                        5233.59|\n",
            "|   1000031|                       253.755|                       253.755|                       253.755|                       253.755|                       253.755|                       253.755|                       253.755|                       253.755|                       253.755|                       253.755|                       253.755|                       253.755|                      316.72125|                          225.0|                        394.065|                       1266.885|                      316.72125|                          225.0|                        394.065|                       1266.885|\n",
            "|   1000032|                          null|                          null|                          null|                          null|                          null|                          null|                          null|                          null|                          null|                          null|                          null|                          null|                           null|                           null|                           null|                           null|                       10561.23|                       10561.23|                       10561.23|                       10561.23|\n",
            "|   1000034|                          null|                          null|                          null|                          null|                          null|                          null|                          null|                          null|                          null|                          null|                          null|                          null|                           null|                           null|                           null|                           null|                           null|                           null|                           null|                           null|\n",
            "|   1000042|                          null|                          null|                          null|                          null|                          null|                          null|                          null|                          null|                          null|                          null|                          null|                          null|                           null|                           null|                           null|                           null|                           null|                           null|                           null|                           null|\n",
            "|   1000045|                          null|                          null|                          null|                          null|                          null|                          null|                          null|                          null|                          null|                          null|                          null|                          null|                           null|                           null|                           null|                           null|                           null|                           null|                           null|                           null|\n",
            "|   1000048|                      4805.325|                      4805.325|                      4805.325|                      4805.325|                      4805.325|                      4805.325|                      4805.325|                      4805.325|                      4805.325|                      4805.325|                      4805.325|                       9610.65|                       4805.325|                       4805.325|                       4805.325|             14415.974999999999|                       4805.325|                       4805.325|                       4805.325|             14415.974999999999|\n",
            "|   1000049|                          null|                          null|                          null|                          null|                          null|                          null|                          null|                          null|                       1692.36|                       1692.36|                       1692.36|                       1692.36|                        1692.36|                        1692.36|                        1692.36|                        1692.36|                        1692.36|                        1692.36|                        1692.36|                        1692.36|\n",
            "|   1000050|                          null|                          null|                          null|                          null|                      13833.45|                      13833.45|                      13833.45|                      13833.45|                      13833.45|                      13833.45|                      13833.45|                      13833.45|                       13833.45|                       13833.45|                       13833.45|                       13833.45|                       13833.45|                       13833.45|                       13833.45|                       13833.45|\n",
            "|   1000052|                          null|                          null|                          null|                          null|                          null|                          null|                          null|                          null|                          null|                          null|                          null|                          null|                           null|                           null|                           null|                           null|                           null|                           null|                           null|                           null|\n",
            "|   1000054|                          null|                          null|                          null|                          null|                          null|                          null|                          null|                          null|                          null|                          null|                          null|                          null|                           null|                           null|                           null|                           null|                           null|                           null|                           null|                           null|\n",
            "|   1000057|                          null|                          null|                          null|                          null|                          null|                          null|                          null|                          null|                          null|                          null|                          null|                          null|                           null|                           null|                           null|                           null|                        10128.6|                        10128.6|                        10128.6|             30385.800000000003|\n",
            "|   1000058|                          null|                          null|                          null|                          null|                          null|                          null|                          null|                          null|                          null|                          null|                          null|                          null|                        2729.88|                        2729.88|                        2729.88|                        2729.88|                        2729.88|                        2729.88|                        2729.88|                        2729.88|\n",
            "|   1000060|                          null|                          null|                          null|                          null|                          null|                          null|                          null|                          null|                          null|                          null|                          null|                          null|                       6368.535|                       6368.535|                       6368.535|                       6368.535|                       6368.535|                       6368.535|                       6368.535|                       6368.535|\n",
            "|   1000063|                          null|                          null|                          null|                          null|                      6069.825|                      6069.825|                      6069.825|                      6069.825|                      6069.825|                      6069.825|                      6069.825|                      6069.825|                       6069.825|                       6069.825|                       6069.825|                       6069.825|                       6069.825|                       6069.825|                       6069.825|                       12139.65|\n",
            "|   1000073|                          null|                          null|                          null|                          null|                          null|                          null|                          null|                          null|                          null|                          null|                          null|                          null|                           null|                           null|                           null|                           null|                           null|                           null|                           null|                           null|\n",
            "+----------+------------------------------+------------------------------+------------------------------+------------------------------+------------------------------+------------------------------+------------------------------+------------------------------+------------------------------+------------------------------+------------------------------+------------------------------+-------------------------------+-------------------------------+-------------------------------+-------------------------------+-------------------------------+-------------------------------+-------------------------------+-------------------------------+\n",
            "only showing top 20 rows\n",
            "\n"
          ]
        }
      ]
    },
    {
      "cell_type": "markdown",
      "source": [
        "##Criação de Variáveis Agregadas de Pagamento Recente\n",
        "\n",
        "Agregando informações sobre os pagamentos dos clientes, focando agora nos valores de pagamento recentes."
      ],
      "metadata": {
        "id": "FoE7aoRZXecC"
      }
    },
    {
      "cell_type": "code",
      "source": [
        "df_temp_01 = spark.sql(\"\"\"\n",
        "  SELECT\n",
        "    SK_ID_PREV,\n",
        "    AVG(CASE WHEN ULT_3_MESES_INSTALMENT = 1 THEN AMT_PAYMENT ELSE NULL END) AS VL_MED_AMT_PAYMENT_ULT_3_MS,\n",
        "    MIN(CASE WHEN ULT_3_MESES_INSTALMENT = 1 THEN AMT_PAYMENT ELSE NULL END) AS VL_MIN_AMT_PAYMENT_ULT_3_MS,\n",
        "    MAX(CASE WHEN ULT_3_MESES_INSTALMENT = 1 THEN AMT_PAYMENT ELSE NULL END) AS VL_MAX_AMT_PAYMENT_ULT_3_MS,\n",
        "    SUM(CASE WHEN ULT_3_MESES_INSTALMENT = 1 THEN AMT_PAYMENT ELSE NULL END) AS VL_SUM_AMT_PAYMENT_ULT_3_MS,\n",
        "\n",
        "    AVG(CASE WHEN ULT_6_MESES_INSTALMENT = 1 THEN AMT_PAYMENT ELSE NULL END) AS VL_MED_AMT_PAYMENT_ULT_6_MS,\n",
        "    MIN(CASE WHEN ULT_6_MESES_INSTALMENT = 1 THEN AMT_PAYMENT ELSE NULL END) AS VL_MIN_AMT_PAYMENT_ULT_6_MS,\n",
        "    MAX(CASE WHEN ULT_6_MESES_INSTALMENT = 1 THEN AMT_PAYMENT ELSE NULL END) AS VL_MAX_AMT_PAYMENT_ULT_6_MS,\n",
        "    SUM(CASE WHEN ULT_6_MESES_INSTALMENT = 1 THEN AMT_PAYMENT ELSE NULL END) AS VL_SUM_AMT_PAYMENT_ULT_6_MS,\n",
        "\n",
        "    AVG(CASE WHEN ULT_9_MESES_INSTALMENT = 1 THEN AMT_PAYMENT ELSE NULL END) AS VL_MED_AMT_PAYMENT_ULT_9_MS,\n",
        "    MIN(CASE WHEN ULT_9_MESES_INSTALMENT = 1 THEN AMT_PAYMENT ELSE NULL END) AS VL_MIN_AMT_PAYMENT_ULT_9_MS,\n",
        "    MAX(CASE WHEN ULT_9_MESES_INSTALMENT = 1 THEN AMT_PAYMENT ELSE NULL END) AS VL_MAX_AMT_PAYMENT_ULT_9_MS,\n",
        "    SUM(CASE WHEN ULT_9_MESES_INSTALMENT = 1 THEN AMT_PAYMENT ELSE NULL END) AS VL_SUM_AMT_PAYMENT_ULT_9_MS,\n",
        "\n",
        "    AVG(CASE WHEN ULT_12_MESES_INSTALMENT = 1 THEN AMT_PAYMENT ELSE NULL END) AS VL_MED_AMT_PAYMENT_ULT_12_MS,\n",
        "    MIN(CASE WHEN ULT_12_MESES_INSTALMENT = 1 THEN AMT_PAYMENT ELSE NULL END) AS VL_MIN_AMT_PAYMENT_ULT_12_MS,\n",
        "    MAX(CASE WHEN ULT_12_MESES_INSTALMENT = 1 THEN AMT_PAYMENT ELSE NULL END) AS VL_MAX_AMT_PAYMENT_ULT_12_MS,\n",
        "    SUM(CASE WHEN ULT_12_MESES_INSTALMENT = 1 THEN AMT_PAYMENT ELSE NULL END) AS VL_SUM_AMT_PAYMENT_ULT_12_MS,\n",
        "\n",
        "    AVG(CASE WHEN ULT_18_MESES_INSTALMENT = 1 THEN AMT_PAYMENT ELSE NULL END) AS VL_MED_AMT_PAYMENT_ULT_18_MS,\n",
        "    MIN(CASE WHEN ULT_18_MESES_INSTALMENT = 1 THEN AMT_PAYMENT ELSE NULL END) AS VL_MIN_AMT_PAYMENT_ULT_18_MS,\n",
        "    MAX(CASE WHEN ULT_18_MESES_INSTALMENT = 1 THEN AMT_PAYMENT ELSE NULL END) AS VL_MAX_AMT_PAYMENT_ULT_18_MS,\n",
        "    SUM(CASE WHEN ULT_18_MESES_INSTALMENT = 1 THEN AMT_PAYMENT ELSE NULL END) AS VL_SUM_AMT_PAYMENT_ULT_18_MS\n",
        "FROM\n",
        "    df_qtde_pag_recebido\n",
        "GROUP BY\n",
        "    SK_ID_PREV\n",
        "ORDER BY\n",
        "    SK_ID_PREV;\n",
        "   \"\"\")\n",
        "df_temp_01.show()"
      ],
      "metadata": {
        "id": "d6H0DsWRDyIH",
        "colab": {
          "base_uri": "https://localhost:8080/"
        },
        "outputId": "c76fde7c-a3dd-438a-fc0a-48e0998c2786"
      },
      "execution_count": 14,
      "outputs": [
        {
          "output_type": "stream",
          "name": "stdout",
          "text": [
            "+----------+---------------------------+---------------------------+---------------------------+---------------------------+---------------------------+---------------------------+---------------------------+---------------------------+---------------------------+---------------------------+---------------------------+---------------------------+----------------------------+----------------------------+----------------------------+----------------------------+----------------------------+----------------------------+----------------------------+----------------------------+\n",
            "|SK_ID_PREV|VL_MED_AMT_PAYMENT_ULT_3_MS|VL_MIN_AMT_PAYMENT_ULT_3_MS|VL_MAX_AMT_PAYMENT_ULT_3_MS|VL_SUM_AMT_PAYMENT_ULT_3_MS|VL_MED_AMT_PAYMENT_ULT_6_MS|VL_MIN_AMT_PAYMENT_ULT_6_MS|VL_MAX_AMT_PAYMENT_ULT_6_MS|VL_SUM_AMT_PAYMENT_ULT_6_MS|VL_MED_AMT_PAYMENT_ULT_9_MS|VL_MIN_AMT_PAYMENT_ULT_9_MS|VL_MAX_AMT_PAYMENT_ULT_9_MS|VL_SUM_AMT_PAYMENT_ULT_9_MS|VL_MED_AMT_PAYMENT_ULT_12_MS|VL_MIN_AMT_PAYMENT_ULT_12_MS|VL_MAX_AMT_PAYMENT_ULT_12_MS|VL_SUM_AMT_PAYMENT_ULT_12_MS|VL_MED_AMT_PAYMENT_ULT_18_MS|VL_MIN_AMT_PAYMENT_ULT_18_MS|VL_MAX_AMT_PAYMENT_ULT_18_MS|VL_SUM_AMT_PAYMENT_ULT_18_MS|\n",
            "+----------+---------------------------+---------------------------+---------------------------+---------------------------+---------------------------+---------------------------+---------------------------+---------------------------+---------------------------+---------------------------+---------------------------+---------------------------+----------------------------+----------------------------+----------------------------+----------------------------+----------------------------+----------------------------+----------------------------+----------------------------+\n",
            "|   1000005|                       null|                       null|                       null|                       null|                       null|                       null|                       null|                       null|                       null|                       null|                       null|                       null|                        null|                        null|                        null|                        null|                        null|                        null|                        null|                        null|\n",
            "|   1000011|                       null|                       null|                       null|                       null|                       null|                       null|                       null|                       null|                       null|                       null|                       null|                       null|                    92435.04|                    92435.04|                    92435.04|                    92435.04|                    92435.04|                    92435.04|                    92435.04|                    92435.04|\n",
            "|   1000016|                       null|                       null|                       null|                       null|                       null|                       null|                       null|                       null|                       null|                       null|                       null|                       null|                        null|                        null|                        null|                        null|                        null|                        null|                        null|                        null|\n",
            "|   1000019|                       null|                       null|                       null|                       null|                       null|                       null|                       null|                       null|                       null|                       null|                       null|                       null|                        null|                        null|                        null|                        null|                        null|                        null|                        null|                        null|\n",
            "|   1000025|                       null|                       null|                       null|                       null|                       null|                       null|                       null|                       null|                       null|                       null|                       null|                       null|                    2616.795|                    2616.795|                    2616.795|                    2616.795|                    2616.795|                    2616.795|                    2616.795|                     5233.59|\n",
            "|   1000031|                    253.755|                    253.755|                    253.755|                    253.755|                    253.755|                    253.755|                    253.755|                    253.755|                    253.755|                    253.755|                    253.755|                    253.755|                   316.72125|                       225.0|                     394.065|                    1266.885|                   316.72125|                       225.0|                     394.065|                    1266.885|\n",
            "|   1000032|                       null|                       null|                       null|                       null|                       null|                       null|                       null|                       null|                       null|                       null|                       null|                       null|                        null|                        null|                        null|                        null|                    10561.23|                    10561.23|                    10561.23|                    10561.23|\n",
            "|   1000034|                       null|                       null|                       null|                       null|                       null|                       null|                       null|                       null|                       null|                       null|                       null|                       null|                        null|                        null|                        null|                        null|                        null|                        null|                        null|                        null|\n",
            "|   1000042|                       null|                       null|                       null|                       null|                       null|                       null|                       null|                       null|                       null|                       null|                       null|                       null|                        null|                        null|                        null|                        null|                        null|                        null|                        null|                        null|\n",
            "|   1000045|                       null|                       null|                       null|                       null|                       null|                       null|                       null|                       null|                       null|                       null|                       null|                       null|                        null|                        null|                        null|                        null|                        null|                        null|                        null|                        null|\n",
            "|   1000048|                   4805.325|                   4805.325|                   4805.325|                   4805.325|                   4805.325|                   4805.325|                   4805.325|                   4805.325|                   4805.325|                   4805.325|                   4805.325|                    9610.65|                    4805.325|                    4805.325|                    4805.325|          14415.974999999999|                    4805.325|                    4805.325|                    4805.325|          14415.974999999999|\n",
            "|   1000049|                       null|                       null|                       null|                       null|                       null|                       null|                       null|                       null|                    1692.36|                    1692.36|                    1692.36|                    1692.36|                     1692.36|                     1692.36|                     1692.36|                     1692.36|                     1692.36|                     1692.36|                     1692.36|                     1692.36|\n",
            "|   1000050|                       null|                       null|                       null|                       null|                   13833.45|                   13833.45|                   13833.45|                   13833.45|                   13833.45|                   13833.45|                   13833.45|                   13833.45|                    13833.45|                    13833.45|                    13833.45|                    13833.45|                    13833.45|                    13833.45|                    13833.45|                    13833.45|\n",
            "|   1000052|                       null|                       null|                       null|                       null|                       null|                       null|                       null|                       null|                       null|                       null|                       null|                       null|                        null|                        null|                        null|                        null|                        null|                        null|                        null|                        null|\n",
            "|   1000054|                       null|                       null|                       null|                       null|                       null|                       null|                       null|                       null|                       null|                       null|                       null|                       null|                        null|                        null|                        null|                        null|                        null|                        null|                        null|                        null|\n",
            "|   1000057|                       null|                       null|                       null|                       null|                       null|                       null|                       null|                       null|                       null|                       null|                       null|                       null|                        null|                        null|                        null|                        null|                     10128.6|                     10128.6|                     10128.6|          30385.800000000003|\n",
            "|   1000058|                       null|                       null|                       null|                       null|                       null|                       null|                       null|                       null|                       null|                       null|                       null|                       null|                     2729.88|                     2729.88|                     2729.88|                     2729.88|                     2729.88|                     2729.88|                     2729.88|                     2729.88|\n",
            "|   1000060|                       null|                       null|                       null|                       null|                       null|                       null|                       null|                       null|                       null|                       null|                       null|                       null|                    6368.535|                    6368.535|                    6368.535|                    6368.535|                    6368.535|                    6368.535|                    6368.535|                    6368.535|\n",
            "|   1000063|                       null|                       null|                       null|                       null|                   6069.825|                   6069.825|                   6069.825|                   6069.825|                   6069.825|                   6069.825|                   6069.825|                   6069.825|                    6069.825|                    6069.825|                    6069.825|                    6069.825|                    6069.825|                    6069.825|                    6069.825|                    12139.65|\n",
            "|   1000073|                       null|                       null|                       null|                       null|                       null|                       null|                       null|                       null|                       null|                       null|                       null|                       null|                        null|                        null|                        null|                        null|                        null|                        null|                        null|                        null|\n",
            "+----------+---------------------------+---------------------------+---------------------------+---------------------------+---------------------------+---------------------------+---------------------------+---------------------------+---------------------------+---------------------------+---------------------------+---------------------------+----------------------------+----------------------------+----------------------------+----------------------------+----------------------------+----------------------------+----------------------------+----------------------------+\n",
            "only showing top 20 rows\n",
            "\n"
          ]
        }
      ]
    },
    {
      "cell_type": "markdown",
      "source": [
        "## Realização de Joins entre DataFrames\n",
        "O DataFrame resultante dessas operações de junção contém todas as informações agregadas e combinadas das variáveis criadas anteriormente."
      ],
      "metadata": {
        "id": "_2aEhMKQJ1G_"
      }
    },
    {
      "cell_type": "code",
      "source": [
        "# Realizar o join\n",
        "df_installments_final = df_qtde_pag_recebido.join(df_numero_tot_pag, on='SK_ID_PREV', how='inner')\n",
        "df_installments_final = df_installments_final.join(df_temp_01, on='SK_ID_PREV', how='inner')\n",
        "\n",
        "\n",
        "# Exibir o DataFrame resultante\n",
        "df_installments_final.show()\n"
      ],
      "metadata": {
        "colab": {
          "base_uri": "https://localhost:8080/"
        },
        "id": "Re7FUUSlFcm-",
        "outputId": "fd7d9714-46eb-4dd9-eb22-3f639a6193fd"
      },
      "execution_count": 19,
      "outputs": [
        {
          "output_type": "stream",
          "name": "stdout",
          "text": [
            "+----------+----------+----------------------+---------------------+---------------+------------------+--------------+-----------+----------------------+----------------------+----------------------+-----------------------+-----------------------+----------------------+----------------+-----------------------------+-----------------------+---------------------------+---------------------------+---------------------------+---------------------------+---------------------------+---------------------------+---------------------------+---------------------------+---------------------------+---------------------------+---------------------------+---------------------------+----------------------------+----------------------------+----------------------------+----------------------------+----------------------------+----------------------------+----------------------------+----------------------------+\n",
            "|SK_ID_PREV|SK_ID_CURR|NUM_INSTALMENT_VERSION|NUM_INSTALMENT_NUMBER|DAYS_INSTALMENT|DAYS_ENTRY_PAYMENT|AMT_INSTALMENT|AMT_PAYMENT|ULT_3_MESES_INSTALMENT|ULT_6_MESES_INSTALMENT|ULT_9_MESES_INSTALMENT|ULT_12_MESES_INSTALMENT|ULT_18_MESES_INSTALMENT|RAZAO_PAG_E_VL_PARCELA|ATRASO_PAGAMENTO|QUANTIDADE_PAGAMENTO_RECEBIDO|NUMERO_TOTAL_PAGAMENTOS|VL_MED_AMT_PAYMENT_ULT_3_MS|VL_MIN_AMT_PAYMENT_ULT_3_MS|VL_MAX_AMT_PAYMENT_ULT_3_MS|VL_SUM_AMT_PAYMENT_ULT_3_MS|VL_MED_AMT_PAYMENT_ULT_6_MS|VL_MIN_AMT_PAYMENT_ULT_6_MS|VL_MAX_AMT_PAYMENT_ULT_6_MS|VL_SUM_AMT_PAYMENT_ULT_6_MS|VL_MED_AMT_PAYMENT_ULT_9_MS|VL_MIN_AMT_PAYMENT_ULT_9_MS|VL_MAX_AMT_PAYMENT_ULT_9_MS|VL_SUM_AMT_PAYMENT_ULT_9_MS|VL_MED_AMT_PAYMENT_ULT_12_MS|VL_MIN_AMT_PAYMENT_ULT_12_MS|VL_MAX_AMT_PAYMENT_ULT_12_MS|VL_SUM_AMT_PAYMENT_ULT_12_MS|VL_MED_AMT_PAYMENT_ULT_18_MS|VL_MIN_AMT_PAYMENT_ULT_18_MS|VL_MAX_AMT_PAYMENT_ULT_18_MS|VL_SUM_AMT_PAYMENT_ULT_18_MS|\n",
            "+----------+----------+----------------------+---------------------+---------------+------------------+--------------+-----------+----------------------+----------------------+----------------------+-----------------------+-----------------------+----------------------+----------------+-----------------------------+-----------------------+---------------------------+---------------------------+---------------------------+---------------------------+---------------------------+---------------------------+---------------------------+---------------------------+---------------------------+---------------------------+---------------------------+---------------------------+----------------------------+----------------------------+----------------------------+----------------------------+----------------------------+----------------------------+----------------------------+----------------------------+\n",
            "|   1001129|    140635|                   1.0|                    5|        -2486.0|           -2493.0|     10876.905|  10876.905|                     0|                     0|                     0|                      0|                      0|                   1.0|            -7.0|                          0.0|                      1|                       null|                       null|                       null|                       null|                       null|                       null|                       null|                       null|                       null|                       null|                       null|                       null|                        null|                        null|                        null|                        null|                        null|                        null|                        null|                        null|\n",
            "|   1003031|    141392|                   2.0|                    2|         -511.0|            -529.0|    148282.335| 148282.335|                     0|                     0|                     0|                      0|                      1|                   1.0|           -18.0|                          0.0|                      1|                       null|                       null|                       null|                       null|                       null|                       null|                       null|                       null|                       null|                       null|                       null|                       null|                        null|                        null|                        null|                        null|                  148282.335|                  148282.335|                  148282.335|                  148282.335|\n",
            "|   1004666|    120672|                   1.0|                    7|        -2263.0|           -2262.0|       4138.74|    4138.74|                     0|                     0|                     0|                      0|                      0|                   1.0|             1.0|                          0.0|                      1|                       null|                       null|                       null|                       null|                       null|                       null|                       null|                       null|                       null|                       null|                       null|                       null|                        null|                        null|                        null|                        null|                        null|                        null|                        null|                        null|\n",
            "|   1005158|    131184|                   4.0|                    3|         -224.0|            -224.0|      17493.12|   17493.12|                     0|                     0|                     1|                      1|                      1|                   1.0|             0.0|                          0.0|                      3|                       null|                       null|                       null|                       null|                       null|                       null|                       null|                       null|                   17493.12|                   17493.12|                   17493.12|                   17493.12|                   140831.04|                    17493.12|                    202500.0|                   422493.12|                   140831.04|                    17493.12|                    202500.0|                   422493.12|\n",
            "|   1005158|    131184|                   2.0|                    1|         -284.0|            -301.0|     175050.18|   202500.0|                     0|                     0|                     0|                      1|                      1|                  1.16|           -17.0|           27449.820000000007|                      3|                       null|                       null|                       null|                       null|                       null|                       null|                       null|                       null|                   17493.12|                   17493.12|                   17493.12|                   17493.12|                   140831.04|                    17493.12|                    202500.0|                   422493.12|                   140831.04|                    17493.12|                    202500.0|                   422493.12|\n",
            "|   1005158|    131184|                   1.0|                    1|         -284.0|            -301.0|      27449.82|   202500.0|                     0|                     0|                     0|                      1|                      1|                  7.38|           -17.0|                    175050.18|                      3|                       null|                       null|                       null|                       null|                       null|                       null|                       null|                       null|                   17493.12|                   17493.12|                   17493.12|                   17493.12|                   140831.04|                    17493.12|                    202500.0|                   422493.12|                   140831.04|                    17493.12|                    202500.0|                   422493.12|\n",
            "|   1005439|    188626|                   1.0|                    6|         -915.0|            -931.0|       8905.41|    8905.41|                     0|                     0|                     0|                      0|                      0|                   1.0|           -16.0|                          0.0|                      1|                       null|                       null|                       null|                       null|                       null|                       null|                       null|                       null|                       null|                       null|                       null|                       null|                        null|                        null|                        null|                        null|                        null|                        null|                        null|                        null|\n",
            "|   1007777|    173964|                   1.0|                   12|          -39.0|             -41.0|      12764.52|   12764.52|                     1|                     1|                     1|                      1|                      1|                   1.0|            -2.0|                          0.0|                      3|                 11989.1025|                  11213.685|                   12764.52|                  23978.205|                    8244.36|                    754.875|                   12764.52|                   24733.08|                    8244.36|                    754.875|                   12764.52|                   24733.08|                     8244.36|                     754.875|                    12764.52|                    24733.08|                     8244.36|                     754.875|                    12764.52|                    24733.08|\n",
            "|   1007777|    173964|                   1.0|                    9|         -129.0|            -168.0|      12764.52|    754.875|                     0|                     1|                     1|                      1|                      1|                  0.06|           -39.0|                   -12009.645|                      3|                 11989.1025|                  11213.685|                   12764.52|                  23978.205|                    8244.36|                    754.875|                   12764.52|                   24733.08|                    8244.36|                    754.875|                   12764.52|                   24733.08|                     8244.36|                     754.875|                    12764.52|                    24733.08|                     8244.36|                     754.875|                    12764.52|                    24733.08|\n",
            "|   1007777|    173964|                   1.0|                   11|          -69.0|             -67.0|      12764.52|  11213.685|                     1|                     1|                     1|                      1|                      1|                  0.88|             2.0|           -1550.835000000001|                      3|                 11989.1025|                  11213.685|                   12764.52|                  23978.205|                    8244.36|                    754.875|                   12764.52|                   24733.08|                    8244.36|                    754.875|                   12764.52|                   24733.08|                     8244.36|                     754.875|                    12764.52|                    24733.08|                     8244.36|                     754.875|                    12764.52|                    24733.08|\n",
            "|   1007972|    115730|                   1.0|                    6|        -1391.0|           -1401.0|       8756.28|    8756.28|                     0|                     0|                     0|                      0|                      0|                   1.0|           -10.0|                          0.0|                      2|                       null|                       null|                       null|                       null|                       null|                       null|                       null|                       null|                       null|                       null|                       null|                       null|                        null|                        null|                        null|                        null|                        null|                        null|                        null|                        null|\n",
            "|   1007972|    115730|                   1.0|                    7|        -1361.0|           -1366.0|       8756.28|    8756.28|                     0|                     0|                     0|                      0|                      0|                   1.0|            -5.0|                          0.0|                      2|                       null|                       null|                       null|                       null|                       null|                       null|                       null|                       null|                       null|                       null|                       null|                       null|                        null|                        null|                        null|                        null|                        null|                        null|                        null|                        null|\n",
            "|   1011733|    140355|                   1.0|                    1|         -563.0|            -574.0|     11118.105|  11118.105|                     0|                     0|                     0|                      0|                      0|                   1.0|           -11.0|                          0.0|                      1|                       null|                       null|                       null|                       null|                       null|                       null|                       null|                       null|                       null|                       null|                       null|                       null|                        null|                        null|                        null|                        null|                        null|                        null|                        null|                        null|\n",
            "|   1012609|    177272|                   1.0|                    3|         -636.0|            -636.0|     38222.955|  38222.955|                     0|                     0|                     0|                      0|                      0|                   1.0|             0.0|                          0.0|                      2|                       null|                       null|                       null|                       null|                       null|                       null|                       null|                       null|                       null|                       null|                       null|                       null|                        null|                        null|                        null|                        null|                   38222.955|                   38222.955|                   38222.955|                   38222.955|\n",
            "|   1012609|    177272|                   1.0|                    8|         -486.0|            -486.0|     38222.955|  38222.955|                     0|                     0|                     0|                      0|                      1|                   1.0|             0.0|                          0.0|                      2|                       null|                       null|                       null|                       null|                       null|                       null|                       null|                       null|                       null|                       null|                       null|                       null|                        null|                        null|                        null|                        null|                   38222.955|                   38222.955|                   38222.955|                   38222.955|\n",
            "|   1013570|    193848|                   1.0|                    4|        -2574.0|           -2572.0|        7381.8|     4488.3|                     0|                     0|                     0|                      0|                      0|                  0.61|             2.0|                      -2893.5|                      1|                       null|                       null|                       null|                       null|                       null|                       null|                       null|                       null|                       null|                       null|                       null|                       null|                        null|                        null|                        null|                        null|                        null|                        null|                        null|                        null|\n",
            "|   1016546|    179124|                   3.0|                   12|         -419.0|            -441.0|     13022.235|  13022.235|                     0|                     0|                     0|                      0|                      1|                   1.0|           -22.0|                          0.0|                      3|                       null|                       null|                       null|                       null|                       null|                       null|                       null|                       null|                       null|                       null|                       null|                       null|                        null|                        null|                        null|                        null|                    13042.53|                   13022.235|                   13062.825|                    26085.06|\n",
            "|   1016546|    179124|                   1.0|                    2|         -719.0|            -764.0|      22488.39|   22488.39|                     0|                     0|                     0|                      0|                      0|                   1.0|           -45.0|                          0.0|                      3|                       null|                       null|                       null|                       null|                       null|                       null|                       null|                       null|                       null|                       null|                       null|                       null|                        null|                        null|                        null|                        null|                    13042.53|                   13022.235|                   13062.825|                    26085.06|\n",
            "|   1016546|    179124|                   3.0|                   11|         -449.0|            -455.0|     13062.825|  13062.825|                     0|                     0|                     0|                      0|                      1|                   1.0|            -6.0|                          0.0|                      3|                       null|                       null|                       null|                       null|                       null|                       null|                       null|                       null|                       null|                       null|                       null|                       null|                        null|                        null|                        null|                        null|                    13042.53|                   13022.235|                   13062.825|                    26085.06|\n",
            "|   1017025|    138747|                   1.0|                   25|         -191.0|            -195.0|       13288.5|    13288.5|                     0|                     0|                     1|                      1|                      1|                   1.0|            -4.0|                          0.0|                      1|                       null|                       null|                       null|                       null|                       null|                       null|                       null|                       null|                    13288.5|                    13288.5|                    13288.5|                    13288.5|                     13288.5|                     13288.5|                     13288.5|                     13288.5|                     13288.5|                     13288.5|                     13288.5|                     13288.5|\n",
            "+----------+----------+----------------------+---------------------+---------------+------------------+--------------+-----------+----------------------+----------------------+----------------------+-----------------------+-----------------------+----------------------+----------------+-----------------------------+-----------------------+---------------------------+---------------------------+---------------------------+---------------------------+---------------------------+---------------------------+---------------------------+---------------------------+---------------------------+---------------------------+---------------------------+---------------------------+----------------------------+----------------------------+----------------------------+----------------------------+----------------------------+----------------------------+----------------------------+----------------------------+\n",
            "only showing top 20 rows\n",
            "\n"
          ]
        }
      ]
    },
    {
      "cell_type": "markdown",
      "source": [
        "## Agregação de Variáveis na Visão Cliente\n",
        "Realização de uma sumarização dos dados na perspectiva do cliente."
      ],
      "metadata": {
        "id": "UJbBolnkJmvi"
      }
    },
    {
      "cell_type": "code",
      "source": [
        "from pyspark.sql.functions import first\n",
        "\n",
        "# Lista de todas as colunas, exceto a coluna SK_ID_PREV\n",
        "colunas_para_agregar = [col for col in df_installments_final.columns if col != \"SK_ID_PREV\"]\n",
        "\n",
        "# Agregue as variáveis por SK_ID_PREV\n",
        "df_installments_final_01 = df_installments_final.groupBy(\"SK_ID_PREV\").agg(\n",
        "    *[first(col).alias(col) for col in colunas_para_agregar]\n",
        ")\n",
        "\n",
        "# Mostre o resultado\n",
        "df_installments_final_01.show()"
      ],
      "metadata": {
        "colab": {
          "base_uri": "https://localhost:8080/"
        },
        "id": "RpuwLFd6IyNb",
        "outputId": "2d4a24bb-c483-4743-8855-053c0b111fcf"
      },
      "execution_count": 20,
      "outputs": [
        {
          "output_type": "stream",
          "name": "stdout",
          "text": [
            "+----------+----------+----------------------+---------------------+---------------+------------------+--------------+-----------+----------------------+----------------------+----------------------+-----------------------+-----------------------+----------------------+----------------+-----------------------------+-----------------------+---------------------------+---------------------------+---------------------------+---------------------------+---------------------------+---------------------------+---------------------------+---------------------------+---------------------------+---------------------------+---------------------------+---------------------------+----------------------------+----------------------------+----------------------------+----------------------------+----------------------------+----------------------------+----------------------------+----------------------------+\n",
            "|SK_ID_PREV|SK_ID_CURR|NUM_INSTALMENT_VERSION|NUM_INSTALMENT_NUMBER|DAYS_INSTALMENT|DAYS_ENTRY_PAYMENT|AMT_INSTALMENT|AMT_PAYMENT|ULT_3_MESES_INSTALMENT|ULT_6_MESES_INSTALMENT|ULT_9_MESES_INSTALMENT|ULT_12_MESES_INSTALMENT|ULT_18_MESES_INSTALMENT|RAZAO_PAG_E_VL_PARCELA|ATRASO_PAGAMENTO|QUANTIDADE_PAGAMENTO_RECEBIDO|NUMERO_TOTAL_PAGAMENTOS|VL_MED_AMT_PAYMENT_ULT_3_MS|VL_MIN_AMT_PAYMENT_ULT_3_MS|VL_MAX_AMT_PAYMENT_ULT_3_MS|VL_SUM_AMT_PAYMENT_ULT_3_MS|VL_MED_AMT_PAYMENT_ULT_6_MS|VL_MIN_AMT_PAYMENT_ULT_6_MS|VL_MAX_AMT_PAYMENT_ULT_6_MS|VL_SUM_AMT_PAYMENT_ULT_6_MS|VL_MED_AMT_PAYMENT_ULT_9_MS|VL_MIN_AMT_PAYMENT_ULT_9_MS|VL_MAX_AMT_PAYMENT_ULT_9_MS|VL_SUM_AMT_PAYMENT_ULT_9_MS|VL_MED_AMT_PAYMENT_ULT_12_MS|VL_MIN_AMT_PAYMENT_ULT_12_MS|VL_MAX_AMT_PAYMENT_ULT_12_MS|VL_SUM_AMT_PAYMENT_ULT_12_MS|VL_MED_AMT_PAYMENT_ULT_18_MS|VL_MIN_AMT_PAYMENT_ULT_18_MS|VL_MAX_AMT_PAYMENT_ULT_18_MS|VL_SUM_AMT_PAYMENT_ULT_18_MS|\n",
            "+----------+----------+----------------------+---------------------+---------------+------------------+--------------+-----------+----------------------+----------------------+----------------------+-----------------------+-----------------------+----------------------+----------------+-----------------------------+-----------------------+---------------------------+---------------------------+---------------------------+---------------------------+---------------------------+---------------------------+---------------------------+---------------------------+---------------------------+---------------------------+---------------------------+---------------------------+----------------------------+----------------------------+----------------------------+----------------------------+----------------------------+----------------------------+----------------------------+----------------------------+\n",
            "|   1001129|    140635|                   1.0|                    5|        -2486.0|           -2493.0|     10876.905|  10876.905|                     0|                     0|                     0|                      0|                      0|                   1.0|            -7.0|                          0.0|                      1|                       null|                       null|                       null|                       null|                       null|                       null|                       null|                       null|                       null|                       null|                       null|                       null|                        null|                        null|                        null|                        null|                        null|                        null|                        null|                        null|\n",
            "|   1003031|    141392|                   2.0|                    2|         -511.0|            -529.0|    148282.335| 148282.335|                     0|                     0|                     0|                      0|                      1|                   1.0|           -18.0|                          0.0|                      1|                       null|                       null|                       null|                       null|                       null|                       null|                       null|                       null|                       null|                       null|                       null|                       null|                        null|                        null|                        null|                        null|                  148282.335|                  148282.335|                  148282.335|                  148282.335|\n",
            "|   1004666|    120672|                   1.0|                    7|        -2263.0|           -2262.0|       4138.74|    4138.74|                     0|                     0|                     0|                      0|                      0|                   1.0|             1.0|                          0.0|                      1|                       null|                       null|                       null|                       null|                       null|                       null|                       null|                       null|                       null|                       null|                       null|                       null|                        null|                        null|                        null|                        null|                        null|                        null|                        null|                        null|\n",
            "|   1005158|    131184|                   4.0|                    3|         -224.0|            -224.0|      17493.12|   17493.12|                     0|                     0|                     1|                      1|                      1|                   1.0|             0.0|                          0.0|                      3|                       null|                       null|                       null|                       null|                       null|                       null|                       null|                       null|                   17493.12|                   17493.12|                   17493.12|                   17493.12|                   140831.04|                    17493.12|                    202500.0|                   422493.12|                   140831.04|                    17493.12|                    202500.0|                   422493.12|\n",
            "|   1005439|    188626|                   1.0|                    6|         -915.0|            -931.0|       8905.41|    8905.41|                     0|                     0|                     0|                      0|                      0|                   1.0|           -16.0|                          0.0|                      1|                       null|                       null|                       null|                       null|                       null|                       null|                       null|                       null|                       null|                       null|                       null|                       null|                        null|                        null|                        null|                        null|                        null|                        null|                        null|                        null|\n",
            "|   1007777|    173964|                   1.0|                   12|          -39.0|             -41.0|      12764.52|   12764.52|                     1|                     1|                     1|                      1|                      1|                   1.0|            -2.0|                          0.0|                      3|                 11989.1025|                  11213.685|                   12764.52|                  23978.205|                    8244.36|                    754.875|                   12764.52|                   24733.08|                    8244.36|                    754.875|                   12764.52|                   24733.08|                     8244.36|                     754.875|                    12764.52|                    24733.08|                     8244.36|                     754.875|                    12764.52|                    24733.08|\n",
            "|   1007972|    115730|                   1.0|                    6|        -1391.0|           -1401.0|       8756.28|    8756.28|                     0|                     0|                     0|                      0|                      0|                   1.0|           -10.0|                          0.0|                      2|                       null|                       null|                       null|                       null|                       null|                       null|                       null|                       null|                       null|                       null|                       null|                       null|                        null|                        null|                        null|                        null|                        null|                        null|                        null|                        null|\n",
            "|   1011733|    140355|                   1.0|                    1|         -563.0|            -574.0|     11118.105|  11118.105|                     0|                     0|                     0|                      0|                      0|                   1.0|           -11.0|                          0.0|                      1|                       null|                       null|                       null|                       null|                       null|                       null|                       null|                       null|                       null|                       null|                       null|                       null|                        null|                        null|                        null|                        null|                        null|                        null|                        null|                        null|\n",
            "|   1012609|    177272|                   1.0|                    3|         -636.0|            -636.0|     38222.955|  38222.955|                     0|                     0|                     0|                      0|                      0|                   1.0|             0.0|                          0.0|                      2|                       null|                       null|                       null|                       null|                       null|                       null|                       null|                       null|                       null|                       null|                       null|                       null|                        null|                        null|                        null|                        null|                   38222.955|                   38222.955|                   38222.955|                   38222.955|\n",
            "|   1013570|    193848|                   1.0|                    4|        -2574.0|           -2572.0|        7381.8|     4488.3|                     0|                     0|                     0|                      0|                      0|                  0.61|             2.0|                      -2893.5|                      1|                       null|                       null|                       null|                       null|                       null|                       null|                       null|                       null|                       null|                       null|                       null|                       null|                        null|                        null|                        null|                        null|                        null|                        null|                        null|                        null|\n",
            "|   1016546|    179124|                   3.0|                   12|         -419.0|            -441.0|     13022.235|  13022.235|                     0|                     0|                     0|                      0|                      1|                   1.0|           -22.0|                          0.0|                      3|                       null|                       null|                       null|                       null|                       null|                       null|                       null|                       null|                       null|                       null|                       null|                       null|                        null|                        null|                        null|                        null|                    13042.53|                   13022.235|                   13062.825|                    26085.06|\n",
            "|   1017025|    138747|                   1.0|                   25|         -191.0|            -195.0|       13288.5|    13288.5|                     0|                     0|                     1|                      1|                      1|                   1.0|            -4.0|                          0.0|                      1|                       null|                       null|                       null|                       null|                       null|                       null|                       null|                       null|                    13288.5|                    13288.5|                    13288.5|                    13288.5|                     13288.5|                     13288.5|                     13288.5|                     13288.5|                     13288.5|                     13288.5|                     13288.5|                     13288.5|\n",
            "|   1030666|    104494|                   1.0|                    3|         -454.0|            -471.0|       5290.38|    5290.38|                     0|                     0|                     0|                      0|                      1|                   1.0|           -17.0|                          0.0|                      2|                       null|                       null|                       null|                       null|                       null|                       null|                       null|                       null|                       null|                       null|                       null|                       null|                        null|                        null|                        null|                        null|                     5290.38|                     5290.38|                     5290.38|                    10580.76|\n",
            "|   1031674|    193845|                   1.0|                    2|         -418.0|            -429.0|     33546.465|  33546.465|                     0|                     0|                     0|                      0|                      1|                   1.0|           -11.0|                          0.0|                      1|                       null|                       null|                       null|                       null|                       null|                       null|                       null|                       null|                       null|                       null|                       null|                       null|                        null|                        null|                        null|                        null|                   33546.465|                   33546.465|                   33546.465|                   33546.465|\n",
            "|   1031876|    144222|                   1.0|                    9|        -1211.0|           -1212.0|      13533.57|   13533.57|                     0|                     0|                     0|                      0|                      0|                   1.0|            -1.0|                          0.0|                      5|                       null|                       null|                       null|                       null|                       null|                       null|                       null|                       null|                       null|                       null|                       null|                       null|                        null|                        null|                        null|                        null|                        null|                        null|                        null|                        null|\n",
            "|   1035044|    154025|                   1.0|                    7|          -61.0|             -91.0|     23811.345|  23811.345|                     1|                     1|                     1|                      1|                      1|                   1.0|           -30.0|                          0.0|                      4|         15874.229999999998|                     276.21|                  23811.345|         47622.689999999995|         15874.229999999998|                     276.21|                  23811.345|         47622.689999999995|                17858.50875|                     276.21|                  23811.345|                  71434.035|                 17858.50875|                      276.21|                   23811.345|                   71434.035|                 17858.50875|                      276.21|                   23811.345|                   71434.035|\n",
            "|   1035152|    198257|                   1.0|                    6|        -1950.0|           -1952.0|      18164.16|   18164.16|                     0|                     0|                     0|                      0|                      0|                   1.0|            -2.0|                          0.0|                      1|                       null|                       null|                       null|                       null|                       null|                       null|                       null|                       null|                       null|                       null|                       null|                       null|                        null|                        null|                        null|                        null|                        null|                        null|                        null|                        null|\n",
            "|   1037338|    119398|                   1.0|                    1|          -88.0|             -97.0|     20254.365|  20254.365|                     1|                     1|                     1|                      1|                      1|                   1.0|            -9.0|                          0.0|                      1|                  20254.365|                  20254.365|                  20254.365|                  20254.365|                  20254.365|                  20254.365|                  20254.365|                  20254.365|                  20254.365|                  20254.365|                  20254.365|                  20254.365|                   20254.365|                   20254.365|                   20254.365|                   20254.365|                   20254.365|                   20254.365|                   20254.365|                   20254.365|\n",
            "|   1037426|    126989|                   1.0|                    4|         -348.0|            -354.0|     14251.185|  14251.185|                     0|                     0|                     0|                      1|                      1|                   1.0|            -6.0|                          0.0|                      1|                       null|                       null|                       null|                       null|                       null|                       null|                       null|                       null|                       null|                       null|                       null|                       null|                   14251.185|                   14251.185|                   14251.185|                   14251.185|                   14251.185|                   14251.185|                   14251.185|                   14251.185|\n",
            "|   1038913|    102043|                   1.0|                   10|        -1740.0|           -1742.0|     11367.765|  11367.765|                     0|                     0|                     0|                      0|                      0|                   1.0|            -2.0|                          0.0|                      1|                       null|                       null|                       null|                       null|                       null|                       null|                       null|                       null|                       null|                       null|                       null|                       null|                        null|                        null|                        null|                        null|                        null|                        null|                        null|                        null|\n",
            "+----------+----------+----------------------+---------------------+---------------+------------------+--------------+-----------+----------------------+----------------------+----------------------+-----------------------+-----------------------+----------------------+----------------+-----------------------------+-----------------------+---------------------------+---------------------------+---------------------------+---------------------------+---------------------------+---------------------------+---------------------------+---------------------------+---------------------------+---------------------------+---------------------------+---------------------------+----------------------------+----------------------------+----------------------------+----------------------------+----------------------------+----------------------------+----------------------------+----------------------------+\n",
            "only showing top 20 rows\n",
            "\n"
          ]
        }
      ]
    },
    {
      "cell_type": "markdown",
      "source": [
        "## Salvar a tabela Sumarizada"
      ],
      "metadata": {
        "id": "dbBNCnM1Jv0P"
      }
    },
    {
      "cell_type": "code",
      "source": [
        "df_installments_final_01 = df_installments_final_01.repartition(1)\n",
        "df_installments_final_01.write.mode(\"overwrite\").csv(\"installments_payments_agg.csv\",header=True)"
      ],
      "metadata": {
        "id": "61iifIlYJNAh"
      },
      "execution_count": 21,
      "outputs": []
    }
  ]
}